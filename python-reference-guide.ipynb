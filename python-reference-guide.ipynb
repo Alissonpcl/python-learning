{
 "cells": [
  {
   "cell_type": "markdown",
   "id": "e96d57d6b3ab0823",
   "metadata": {},
   "source": [
    "# Imports"
   ]
  },
  {
   "cell_type": "code",
   "execution_count": null,
   "id": "90c00007a1be481a",
   "metadata": {},
   "outputs": [],
   "source": [
    "import json\n",
    "from cgi import print_environ_usage\n",
    "\n",
    "import pandas as pd\n",
    "import inspect"
   ]
  },
  {
   "cell_type": "markdown",
   "id": "a65bd256",
   "metadata": {},
   "source": [
    "# Built-in Functions"
   ]
  },
  {
   "cell_type": "markdown",
   "id": "c8c19deb465475e1",
   "metadata": {},
   "source": [
    "## Helpers"
   ]
  },
  {
   "cell_type": "code",
   "execution_count": null,
   "id": "160c526da50356c7",
   "metadata": {},
   "outputs": [],
   "source": [
    "help(zip)\n",
    "\n",
    "# Output\n",
    "# Help on class zip in module builtins:\n",
    "#\n",
    "# class zip(object)\n",
    "# |  zip(*iterables, strict=False) --> Yield tuples until an input is exhausted.\n",
    "# |\n",
    "# |     >>> list(zip('abcdefg', range(3), range(4)))\n",
    "# |     [('a', 0, 0), ('b', 1, 1), ('c', 2, 2)]\n",
    "# |\n",
    "# |  The zip object yields n-length tuples, where n is the number of iterables\n",
    "# |  passed as positional arguments to zip().  The i-th element in every tuple\n",
    "# |  comes from the i-th iterable argument to zip().  This continues until the\n",
    "# |  shortest argument is exhausted.\n",
    "# |"
   ]
  },
  {
   "cell_type": "code",
   "execution_count": null,
   "id": "e3cbfa668b79cade",
   "metadata": {},
   "outputs": [],
   "source": [
    "dir(zip)\n",
    "\n",
    "# Output\n",
    "# ['__class__',\n",
    "#  '__delattr__',\n",
    "#  '__dir__',\n",
    "#  '__doc__',\n",
    "#  '__eq__',\n",
    "#  '__format__',\n",
    "#  '__ge__',\n",
    "#   ....\n",
    "#  '__next__',\n",
    "#  '__setstate__',\n",
    "#  '__sizeof__',\n",
    "#  '__str__',\n",
    "#  '__subclasshook__']"
   ]
  },
  {
   "cell_type": "code",
   "execution_count": null,
   "id": "a9aecc8f53d607b7",
   "metadata": {},
   "outputs": [],
   "source": [
    "inspect.signature(pd.read_csv)\n",
    "\n",
    "# Output\n",
    "# <Signature (filepath_or_buffer: 'FilePath | ReadCsvBuffer[bytes] | ReadCsvBuffer[str]', *, sep: 'str | None | lib.NoDefault' = <no_default>, delimiter: 'str | None | lib.NoDefault' = None, header: \"int | Sequence[int] | None | Literal['infer']\" = 'infer', names: 'Sequence[Hashable] | None | lib.NoDefault' = <no_default>, index_col: 'IndexLabel | Literal[False] | None' = None, usecols: 'UsecolsArgType' = None, dtype: 'DtypeArg | None' = None, engine: 'CSVEngine | None' = None, converters: 'Mapping[Hashable, Callable] | None' = None, true_values: 'list | None' = None, false_values: 'list | None' = None, skipinitialspace: 'bool' = False, skiprows: 'list[int] | int | Callable[[Hashable], bool] | None' = None, skipfooter: 'int' = 0, nrows: 'int | None' = None, na_values: 'Hashable | Iterable[Hashable] | Mapping[Hashable, Iterable[Hashable]] | None' = None, keep_default_na: 'bool' = True, na_filter: 'bool' = True, verbose: 'bool | lib.NoDefault' = <no_default>, skip_blank_lines: 'bool' = True, parse_dates: 'bool | Sequence[Hashable] | None' = None, infer_datetime_format: 'bool | lib.NoDefault' = <no_default>, keep_date_col: 'bool | lib.NoDefault' = <no_default>, date_parser: 'Callable | lib.NoDefault' = <no_default>, date_format: 'str | dict[Hashable, str] | None' = None, dayfirst: 'bool' = False, cache_dates: 'bool' = True, iterator: 'bool' = False, chunksize: 'int | None' = None, compression: 'CompressionOptions' = 'infer', thousands: 'str | None' = None, decimal: 'str' = '.', lineterminator: 'str | None' = None, quotechar: 'str' = '\"', quoting: 'int' = 0, doublequote: 'bool' = True, escapechar: 'str | None' = None, comment: 'str | None' = None, encoding: 'str | None' = None, encoding_errors: 'str | None' = 'strict', dialect: 'str | csv.Dialect | None' = None, on_bad_lines: 'str' = 'error', delim_whitespace: 'bool | lib.NoDefault' = <no_default>, low_memory: 'bool' = True, memory_map: 'bool' = False, float_precision: \"Literal['high', 'legacy'] | None\" = None, storage_options: 'StorageOptions | None' = None, dtype_backend: 'DtypeBackend | lib.NoDefault' = <no_default>) -> 'DataFrame | TextFileReader'>"
   ]
  },
  {
   "cell_type": "markdown",
   "id": "a1bc3d89",
   "metadata": {},
   "source": [
    "## Map"
   ]
  },
  {
   "cell_type": "code",
   "execution_count": null,
   "id": "b5087adb",
   "metadata": {},
   "outputs": [],
   "source": [
    "lst_str = ['1', '2', '3']\n",
    "[print(type(i)) for i in lst_str]\n",
    "\n",
    "# Return an iterator that applies function to every item of iterable, yielding the results\n",
    "lst_int = map(int, lst_str)\n",
    "[print(type(i)) for i in lst_int]\n",
    "\n",
    "# What is happennig\n",
    "# Map is iterating throw every item on lst_str, applying the function list\n",
    "# passing the value as a parameter and returning the value return by this function\n",
    "# A map object exhibits generator-like behavior: it is lazy and produces values on \n",
    "# demand as you iterate over it."
   ]
  },
  {
   "cell_type": "markdown",
   "id": "a68fe093d7e75ded",
   "metadata": {},
   "source": [
    "# ____getitem____"
   ]
  },
  {
   "cell_type": "code",
   "execution_count": null,
   "id": "4659aad394f93908",
   "metadata": {
    "ExecuteTime": {
     "end_time": "2025-07-09T19:51:50.300832Z",
     "start_time": "2025-07-09T19:51:50.292456Z"
    }
   },
   "outputs": [],
   "source": [
    "# When we access an object with square brackets, it automatically calls __getitem__ method.\n",
    "# This is the approach that Pandas use in the Dataframe method .loc[].\n",
    "# Pandas .loc is a property that returns an object (LocIndexer) that implements the method\n",
    "# __getitem__. This is very flexible because the parameter if this method accepts any kind of\n",
    "# types and can be implemented the work like and array index accessor or something more complex\n",
    "\n",
    "class AccessBySquareBrackets:\n",
    "    def __getitem__(self, item):\n",
    "        return f\"You've passed {item}\"\n",
    "\n",
    "obj = AccessBySquareBrackets()\n",
    "print(obj['Alisson'])"
   ]
  },
  {
   "cell_type": "markdown",
   "id": "390356989d65c5d1",
   "metadata": {},
   "source": [
    "# Iterators / Iterables"
   ]
  },
  {
   "cell_type": "code",
   "execution_count": null,
   "id": "2655918464e5f9c0",
   "metadata": {
    "ExecuteTime": {
     "end_time": "2025-07-08T22:04:33.788114Z",
     "start_time": "2025-07-08T22:04:33.784328Z"
    }
   },
   "outputs": [],
   "source": [
    "# Iterators are objects that can be iterated over. When you use `for i in x`, x is an iterator.\n",
    "# The code below is an example of a custom object that is an Iterator and an Iterable\n",
    "# Iterator = Object that returns and iterable (implement __iter__)\n",
    "# Iterable = Object that can be iterated (implement __next__)\n",
    "class MyIterator:\n",
    "    def __init__(self):\n",
    "        self.value = 'Alisson'\n",
    "        self.current = 0\n",
    "        self.max = len(self.value)\n",
    "\n",
    "    def __iter__(self):\n",
    "        return self\n",
    "\n",
    "    def __next__(self):\n",
    "        if self.current < self.max:\n",
    "            curr_value = self.value[self.current]\n",
    "            self.current += 1\n",
    "            return curr_value\n",
    "\n",
    "        raise StopIteration\n",
    "\n",
    "\n",
    "iterator = MyIterator()\n",
    "\n",
    "for i in iterator:\n",
    "    print(i, end='')"
   ]
  },
  {
   "cell_type": "markdown",
   "id": "c1fcf59bdfccf482",
   "metadata": {},
   "source": [
    "# File Handling"
   ]
  },
  {
   "cell_type": "code",
   "execution_count": null,
   "id": "d59ee5cea8c92484",
   "metadata": {
    "ExecuteTime": {
     "end_time": "2025-07-08T21:45:03.375728Z",
     "start_time": "2025-07-08T21:45:03.373667Z"
    }
   },
   "outputs": [],
   "source": [
    "file = open('data/people.json')"
   ]
  },
  {
   "cell_type": "code",
   "execution_count": null,
   "id": "ead120ba6204f26d",
   "metadata": {
    "ExecuteTime": {
     "end_time": "2025-07-08T21:45:04.509780Z",
     "start_time": "2025-07-08T21:45:04.504441Z"
    }
   },
   "outputs": [],
   "source": [
    "help(file)"
   ]
  },
  {
   "cell_type": "markdown",
   "id": "e9fbb62e3eee6255",
   "metadata": {},
   "source": [
    "## Load JSON file"
   ]
  },
  {
   "cell_type": "code",
   "execution_count": null,
   "id": "e5f9e4749dac0b4a",
   "metadata": {},
   "outputs": [],
   "source": [
    "with open('data/people.json') as f:\n",
    "    data = json.load(f)"
   ]
  },
  {
   "cell_type": "code",
   "execution_count": null,
   "id": "d3983d94b9d57c29",
   "metadata": {},
   "outputs": [],
   "source": [
    "data\n",
    "# [{'name': 'Alice', 'age': 28},\n",
    "#  {'name': 'Bob', 'age': 34},\n",
    "#  {'name': 'Charlie', 'age': 22},\n",
    "#  {'name': 'Diana', 'age': 31},\n",
    "#  {'name': 'Ethan', 'age': 45},\n",
    "#  {'name': 'Fiona', 'age': 27},\n",
    "#  {'name': 'George', 'age': 38},\n",
    "#  {'name': 'Hannah', 'age': 25},\n",
    "#  {'name': 'Ian', 'age': 29},\n",
    "#  {'name': 'Julia', 'age': 33}]"
   ]
  },
  {
   "cell_type": "markdown",
   "id": "72860b003e6d7e94",
   "metadata": {},
   "source": [
    "## Very large CSV file"
   ]
  },
  {
   "cell_type": "code",
   "execution_count": null,
   "id": "5e1e5ce84e1af4b7",
   "metadata": {
    "ExecuteTime": {
     "end_time": "2025-07-07T23:52:29.516603Z",
     "start_time": "2025-07-07T23:52:28.595444Z"
    }
   },
   "outputs": [],
   "source": [
    "import csv\n",
    "import random\n",
    "import time\n",
    "\n",
    "\n",
    "def count_rows_above_threshold(filename, threshold=100):\n",
    "    counter = 0\n",
    "    with open(filename, mode='r') as file:\n",
    "        reader = csv.DictReader(file)\n",
    "        for row in reader:\n",
    "            if float(row['amount']) > threshold:\n",
    "                counter += 1\n",
    "\n",
    "    return counter\n",
    "\n",
    "\n",
    "def generate_test_csv(filename: str, num_rows=1000000):\n",
    "    print(f\"Generating {filename} with {num_rows:,} rows...\")\n",
    "\n",
    "    with open(filename, 'w', newline='', encoding='utf-8') as file:\n",
    "        writer = csv.writer(file)\n",
    "\n",
    "        # Write header\n",
    "        writer.writerow(['id', 'name', 'amount', 'category', 'date'])\n",
    "\n",
    "        # Generate random data\n",
    "        categories = ['Food', 'Entertainment', 'Shopping', 'Transportation', 'Utilities']\n",
    "\n",
    "        for i in range(1, num_rows + 1):\n",
    "            # Generate amounts with different distributions\n",
    "            if random.random() < 0.3:  # 30% chance of high amounts\n",
    "                amount = round(random.uniform(100, 1000), 2)\n",
    "            else:  # 70% chance of lower amounts\n",
    "                amount = round(random.uniform(1, 150), 2)\n",
    "\n",
    "            row = [\n",
    "                i,\n",
    "                f\"User_{i}\",\n",
    "                amount,\n",
    "                random.choice(categories),\n",
    "                f\"2025-07-{random.randint(1, 31):02d}\"\n",
    "            ]\n",
    "            writer.writerow(row)\n",
    "\n",
    "    print(f\"Generated {filename} successfully!\")\n",
    "\n",
    "\n",
    "file_path = 'data/huge_csv.csv'\n",
    "size = 1000000\n",
    "\n",
    "# Must be uncommented to create to test file\n",
    "# generate_test_csv(file, size)\n",
    "\n",
    "print(\"\\nBenchmarking solutions:\")\n",
    "print(\"-\" * 50)\n",
    "\n",
    "print(f\"\\nTesting {file_path} ({size:,} rows):\")\n",
    "\n",
    "# Test your implementation\n",
    "start_time = time.time()\n",
    "try:\n",
    "    result = count_rows_above_threshold(file_path)\n",
    "    end_time = time.time()\n",
    "    print(f\"  Your solution: {result} rows > 100 ({end_time - start_time:.4f}s)\")\n",
    "except Exception as e:\n",
    "    print(f\"  Your solution: Error - {e}\")"
   ]
  },
  {
   "cell_type": "markdown",
   "id": "88e2dd47f76ae17a",
   "metadata": {},
   "source": [
    "# Date & Time\n",
    "\n",
    "| Format String | Meaning          | Example |\n",
    "| ------------- | ---------------- | ------- |\n",
    "| `%Y`          | Year (4 digits)  | `2025`  |\n",
    "| `%m`          | Month (2 digits) | `06`    |\n",
    "| `%d`          | Day              | `24`    |\n",
    "| `%H`          | Hour (24h)       | `19`    |\n",
    "| `%M`          | Minute           | `00`    |\n",
    "| `%S`          | Second           | `45`    |\n"
   ]
  },
  {
   "cell_type": "code",
   "execution_count": null,
   "id": "f5ec663128578f59",
   "metadata": {},
   "outputs": [],
   "source": [
    "from datetime import datetime, timedelta, date, UTC\n",
    "\n",
    "# Current local time\n",
    "now = datetime.now()\n",
    "now"
   ]
  },
  {
   "cell_type": "code",
   "execution_count": null,
   "id": "b99d12b56f9e8587",
   "metadata": {},
   "outputs": [],
   "source": [
    "# Current UTC time\n",
    "utc_now = datetime.now(UTC)\n",
    "utc_now"
   ]
  },
  {
   "cell_type": "code",
   "execution_count": null,
   "id": "66b63190e236518e",
   "metadata": {},
   "outputs": [],
   "source": [
    "# Current date only\n",
    "today = date.today()\n",
    "today"
   ]
  },
  {
   "cell_type": "markdown",
   "id": "cd9a57637b4bfe30",
   "metadata": {},
   "source": [
    "## String <> Datetime Conversion"
   ]
  },
  {
   "cell_type": "code",
   "execution_count": null,
   "id": "7959bf6c08f7fa61",
   "metadata": {
    "ExecuteTime": {
     "end_time": "2025-06-25T00:49:28.713328Z",
     "start_time": "2025-06-25T00:49:28.708641Z"
    }
   },
   "outputs": [],
   "source": [
    "dt = datetime.strptime(\"2025-06-24 19:00\", \"%Y-%m-%d %H:%M\")\n",
    "dt\n",
    "\n",
    "# datetime.datetime(2025, 6, 24, 19, 0)"
   ]
  },
  {
   "cell_type": "code",
   "execution_count": null,
   "id": "283c9e74bd466241",
   "metadata": {
    "ExecuteTime": {
     "end_time": "2025-06-25T00:50:23.417333Z",
     "start_time": "2025-06-25T00:50:23.415293Z"
    }
   },
   "outputs": [],
   "source": [
    "s = dt.strftime(\"%Y-%m-%d %H:%M\")\n",
    "s\n",
    "\n",
    "# '2025-06-24 19:00'"
   ]
  },
  {
   "cell_type": "markdown",
   "id": "19a5f643ed0ac9b1",
   "metadata": {},
   "source": [
    "## Add, subtract, time delta"
   ]
  },
  {
   "cell_type": "code",
   "execution_count": null,
   "id": "c835e4306b12889f",
   "metadata": {},
   "outputs": [],
   "source": [
    "yesterday = today - timedelta(days=1)\n",
    "tomorrow = today + timedelta(days=1)"
   ]
  },
  {
   "cell_type": "code",
   "execution_count": null,
   "id": "847539d032b67720",
   "metadata": {
    "ExecuteTime": {
     "end_time": "2025-06-25T00:47:07.639574Z",
     "start_time": "2025-06-25T00:47:07.636137Z"
    }
   },
   "outputs": [],
   "source": [
    "delta = timedelta(days=5, hours=0)\n",
    "new_time = now + delta\n",
    "new_time"
   ]
  },
  {
   "cell_type": "markdown",
   "id": "7635498ed407bfb4",
   "metadata": {},
   "source": [
    "# Data Structures\n",
    "\n",
    "| **Data Structure**              | **Properties**                                                                                             | **When to Use**                                                                                           |\n",
    "| ------------------------------- | ---------------------------------------------------------------------------------------------------------- | --------------------------------------------------------------------------------------------------------- |\n",
    "| **List** (`[]`)                 | - Ordered  <br> - Mutable  <br> - Allows duplicates  <br> - O(1) append <br> - O(n) search, insert, delete | - Ordered collection of items  <br> - Need to maintain sequence  <br> - Iteration and processing in order |\n",
    "| **Tuple** (`()`)                | - Ordered <br> - Immutable <br> - Allows duplicates <br> - Faster than list                                | - Fixed collection of items <br> - Keys in dictionaries <br> - Function return of multiple values         |\n",
    "| **Set** (`{}`)                  | - Unordered <br> - Unique elements <br> - No duplicates <br> - O(1) lookup and add                         | - Removing duplicates <br> - Membership tests <br> - Set operations (union, intersection)                 |\n",
    "| **Dict** (`{key: value}`)       | - Key-value pairs <br> - Unordered <br> - O(1) lookup by key <br> - Keys must be unique                    | - Fast lookups <br> - Mapping relationships (id → value) <br> - Counting, grouping                        |\n",
    "| **Deque** (`collections.deque`) | - Double-ended queue <br> - Fast append/pop both ends <br> - O(1) append/pop left and right                | - Queue or stack with fast performance <br> - Sliding windows, BFS                                        |\n",
    "| **Heap** (`heapq`)              | - Min-heap by default <br> - O(log n) insert and extract <br> - Always access smallest element             | - Priority queues <br> - Scheduling <br> - Top K elements                                                 |\n",
    "\n",
    "In plain words: <br/>\n",
    "✅ List → For general ordered sequences <br/>\n",
    "✅ Tuple → For fixed-size or immutable sequences <br/>\n",
    "✅ Set → For unique items & fast \"is this in?\" tests <br/>\n",
    "✅ Dict → For key-value mappings (extremely common in data engineering) <br/>\n",
    "✅ Deque → For efficient queue or stack <br/>\n",
    "✅ Heap → For \"always get me the smallest (or largest) item fast\"\n"
   ]
  },
  {
   "cell_type": "markdown",
   "id": "93a8070e54bb29bc",
   "metadata": {},
   "source": [
    "## Lists"
   ]
  },
  {
   "cell_type": "code",
   "execution_count": null,
   "id": "67c0adbfb86c467",
   "metadata": {},
   "outputs": [],
   "source": [
    "# Create\n",
    "lst = [1, 2, 3]\n",
    "lst\n",
    "# [1, 2, 3]"
   ]
  },
  {
   "cell_type": "code",
   "execution_count": null,
   "id": "68acef0c1e661c6b",
   "metadata": {},
   "outputs": [],
   "source": [
    "# Add\n",
    "lst.append(4)\n",
    "lst\n",
    "# [1, 2, 3, 4]"
   ]
  },
  {
   "cell_type": "code",
   "execution_count": null,
   "id": "e530c2f4ff57b2d8",
   "metadata": {},
   "outputs": [],
   "source": [
    "# Insert\n",
    "lst.insert(1, 10)  # insert new item before index (index, new item)\n",
    "lst\n",
    "# [1, 10, 2, 3, 4]"
   ]
  },
  {
   "cell_type": "code",
   "execution_count": null,
   "id": "4e78e6592041cf9a",
   "metadata": {},
   "outputs": [],
   "source": [
    "# Remove\n",
    "lst.remove(4)  # remove the value; ValueError if not found\n",
    "lst"
   ]
  },
  {
   "cell_type": "code",
   "execution_count": null,
   "id": "4cf2c0d9c8cfa270",
   "metadata": {},
   "outputs": [],
   "source": [
    "lst.sort()  # doesn't work if the list has values from different types\n",
    "lst"
   ]
  },
  {
   "cell_type": "code",
   "execution_count": null,
   "id": "def1fba98574c683",
   "metadata": {},
   "outputs": [],
   "source": [
    "lst.reverse()  # sort descending\n",
    "lst"
   ]
  },
  {
   "cell_type": "code",
   "execution_count": null,
   "id": "8d148e33dba34668",
   "metadata": {},
   "outputs": [],
   "source": [
    "# comprehension\n",
    "fruits = [\"apple\", \"banana\", \"cherry\", \"kiwi\", \"mango\"]\n",
    "newlist = [x for x in fruits if \"a\" in x]\n",
    "newlist\n",
    "\n",
    "# ['apple', 'banana', 'mango']"
   ]
  },
  {
   "cell_type": "markdown",
   "id": "bb98aab25f6a96ef",
   "metadata": {},
   "source": [
    "## Dicts"
   ]
  },
  {
   "cell_type": "code",
   "execution_count": null,
   "id": "cd3b36369ebaf06c",
   "metadata": {},
   "outputs": [],
   "source": [
    "# Create\n",
    "d = {'a': 1, 'b': 2}\n",
    "d\n",
    "# {'a': 1, 'b': 2}"
   ]
  },
  {
   "cell_type": "code",
   "execution_count": null,
   "id": "94791659f2be928d",
   "metadata": {},
   "outputs": [],
   "source": [
    "# Add/Update\n",
    "d['c'] = 3\n",
    "d\n",
    "# {'a': 1, 'b': 2, 'c': 3}"
   ]
  },
  {
   "cell_type": "code",
   "execution_count": null,
   "id": "771a2efe404f330",
   "metadata": {},
   "outputs": [],
   "source": [
    "# Access\n",
    "value = d.get('a', 0)  # or just d['a']\n",
    "value"
   ]
  },
  {
   "cell_type": "code",
   "execution_count": null,
   "id": "326b34e8f37d9d48",
   "metadata": {},
   "outputs": [],
   "source": [
    "# Iterate\n",
    "for k, v in d.items():\n",
    "    print(k, v)\n",
    "\n",
    "# a 1\n",
    "# b 2\n",
    "# c 3"
   ]
  },
  {
   "cell_type": "code",
   "execution_count": null,
   "id": "82343e346ccb5711",
   "metadata": {},
   "outputs": [],
   "source": [
    "# Comprehension to generator\n",
    "keys = (k for k, v in d.items())\n",
    "print(keys)\n",
    "for k in keys:\n",
    "    print(k)\n",
    "\n",
    "# <generator object <genexpr> at 0x106a04ee0>\n",
    "# a\n",
    "# b\n",
    "# c"
   ]
  },
  {
   "cell_type": "code",
   "execution_count": null,
   "id": "950019049fe05628",
   "metadata": {},
   "outputs": [],
   "source": [
    "# Comprehension to list\n",
    "keys = [k for k, v in d.items()]\n",
    "print(keys)\n",
    "for k in keys:\n",
    "    print(k)\n",
    "\n",
    "# ['a', 'b', 'c']\n",
    "# a\n",
    "# b\n",
    "# c"
   ]
  },
  {
   "cell_type": "code",
   "execution_count": null,
   "id": "4174741d97545bef",
   "metadata": {},
   "outputs": [],
   "source": [
    "# Dict comprehension\n",
    "squares = {x: x ** 2 for x in range(5)}\n",
    "squares"
   ]
  },
  {
   "cell_type": "markdown",
   "id": "fcff2742faa6f4f8",
   "metadata": {},
   "source": [
    "## Sets"
   ]
  },
  {
   "cell_type": "code",
   "execution_count": null,
   "id": "18b497965be96a1f",
   "metadata": {},
   "outputs": [],
   "source": [
    "# Create\n",
    "s = {1, 2, 3}\n",
    "s\n",
    "\n",
    "# {1, 2, 3}"
   ]
  },
  {
   "cell_type": "code",
   "execution_count": null,
   "id": "1dbd6b846a594752",
   "metadata": {},
   "outputs": [],
   "source": [
    "# Add\n",
    "s.add(4)\n",
    "s\n",
    "\n",
    "# {1, 2, 3, 4}"
   ]
  },
  {
   "cell_type": "code",
   "execution_count": null,
   "id": "3ba4d404b1fb345d",
   "metadata": {},
   "outputs": [],
   "source": [
    "# Remove\n",
    "s.discard(2)  # doesn't throw error if not found\n",
    "s\n",
    "\n",
    "# {1, 3, 4}"
   ]
  },
  {
   "cell_type": "code",
   "execution_count": null,
   "id": "bf24bca0ba614233",
   "metadata": {},
   "outputs": [],
   "source": [
    "# Set operations\n",
    "a = {1, 2, 3}\n",
    "b = {3, 4, 5}\n",
    "union = a | b\n",
    "intersection = a & b\n",
    "difference = a - b\n",
    "\n",
    "print(union)  # {1, 2, 3, 4, 5}\n",
    "print(intersection)  # {3}\n",
    "print(difference)  # {1, 2}"
   ]
  },
  {
   "cell_type": "markdown",
   "id": "b317047f4a4d9bda",
   "metadata": {},
   "source": [
    "## Tuples\n",
    "\n"
   ]
  },
  {
   "cell_type": "code",
   "execution_count": null,
   "id": "8b83fe9bc8a76b20",
   "metadata": {},
   "outputs": [],
   "source": [
    "# Create\n",
    "t = (1, 2, 3)\n",
    "\n",
    "# Unpack\n",
    "a, b, c = t\n",
    "\n",
    "# Useful in dict keys and as function return\n",
    "# return (min_val, max_val)"
   ]
  },
  {
   "cell_type": "code",
   "execution_count": null,
   "id": "473c08faa5d23b38",
   "metadata": {},
   "outputs": [],
   "source": [
    "# as dict keys\n",
    "salaries = {}\n",
    "salaries[('John', 'Smith')] = 10000.0\n",
    "salaries[('John', 'Parker')] = 99999.0\n",
    "salaries\n",
    "\n",
    "# {('John', 'Smith'): 10000.0, ('John', 'Parker'): 99999.0}"
   ]
  },
  {
   "cell_type": "code",
   "execution_count": null,
   "id": "25733b3e254c5bf8",
   "metadata": {},
   "outputs": [],
   "source": [
    "for k, v in salaries.items():\n",
    "    print(k[0], k[1], v)\n",
    "\n",
    "# John Smith 10000.0\n",
    "# John Parker 99999.0"
   ]
  },
  {
   "cell_type": "markdown",
   "id": "cd1df7755a80f875",
   "metadata": {},
   "source": [
    "## Queue and Stack"
   ]
  },
  {
   "cell_type": "code",
   "execution_count": null,
   "id": "8664e24e64d5266e",
   "metadata": {},
   "outputs": [],
   "source": [
    "# Stack (LIFO) The same as list\n",
    "stack = []\n",
    "stack.append(10)\n",
    "v = stack.pop()\n",
    "print(v)  # 10\n",
    "print(stack)  # []"
   ]
  },
  {
   "cell_type": "code",
   "execution_count": null,
   "id": "162a92d02f358c2d",
   "metadata": {},
   "outputs": [],
   "source": [
    "from collections import deque\n",
    "\n",
    "# Queue (FIFO)\n",
    "queue = deque()\n",
    "queue.append(10)\n",
    "queue.append(20)\n",
    "queue.append(30)\n",
    "queue\n",
    "\n",
    "# deque([10, 20, 30])"
   ]
  },
  {
   "cell_type": "code",
   "execution_count": null,
   "id": "647bc0999f49fa39",
   "metadata": {},
   "outputs": [],
   "source": [
    "queue.popleft()  # 10\n",
    "queue\n",
    "\n",
    "# deque([20, 30])"
   ]
  },
  {
   "cell_type": "code",
   "execution_count": null,
   "id": "f7ef66689d4233c1",
   "metadata": {},
   "outputs": [],
   "source": [
    "queue.pop()  # 30\n",
    "\n",
    "# deque([20])"
   ]
  },
  {
   "cell_type": "markdown",
   "id": "e197575bc8e236f0",
   "metadata": {},
   "source": [
    "# Data Transformations"
   ]
  },
  {
   "cell_type": "markdown",
   "id": "88e289eb08f6b73",
   "metadata": {},
   "source": [
    "## Filtering"
   ]
  },
  {
   "cell_type": "code",
   "execution_count": null,
   "id": "83aba46b76e6dec7",
   "metadata": {},
   "outputs": [],
   "source": [
    "young = [x for x in data if x['age'] < 40]\n",
    "young\n",
    "\n",
    "#  [{'name': 'Alice', 'age': 28},\n",
    "#  {'name': 'Charlie', 'age': 22},\n",
    "#  {'name': 'Fiona', 'age': 27},\n",
    "#  {'name': 'Hannah', 'age': 25},\n",
    "#  {'name': 'Ian', 'age': 29}]"
   ]
  },
  {
   "cell_type": "markdown",
   "id": "bb05d43fe5ae8777",
   "metadata": {},
   "source": [
    "## Sorting"
   ]
  },
  {
   "cell_type": "code",
   "execution_count": null,
   "id": "b574faa6d830e50d",
   "metadata": {},
   "outputs": [],
   "source": [
    "young_sorted = sorted(young, key=lambda x: x['age'])\n",
    "young_sorted\n",
    "\n",
    "# [{'name': 'Charlie', 'age': 22},\n",
    "#  {'name': 'Hannah', 'age': 25},\n",
    "#  {'name': 'Fiona', 'age': 27},\n",
    "#  {'name': 'Alice', 'age': 28},\n",
    "#  {'name': 'Ian', 'age': 29},\n",
    "#  {'name': 'Diana', 'age': 31},\n",
    "#  {'name': 'Julia', 'age': 33},\n",
    "#  {'name': 'Bob', 'age': 34},\n",
    "#  {'name': 'George', 'age': 38}]"
   ]
  },
  {
   "cell_type": "markdown",
   "id": "76878c07118e93ba",
   "metadata": {},
   "source": [
    "## Grouping"
   ]
  },
  {
   "cell_type": "code",
   "execution_count": null,
   "id": "2e7d1f940eaf40ff",
   "metadata": {
    "ExecuteTime": {
     "end_time": "2025-07-07T23:26:37.088417Z",
     "start_time": "2025-07-07T23:26:37.081200Z"
    }
   },
   "outputs": [],
   "source": [
    "def calculate_user_totals(purchase_records):\n",
    "    total_by_user = {}\n",
    "    for purchase in purchase_records:\n",
    "        user_id = purchase['user_id']\n",
    "        amount = purchase['amount']\n",
    "\n",
    "        if user_id in total_by_user:\n",
    "            total_by_user[user_id] += amount\n",
    "        else:\n",
    "            total_by_user[user_id] = amount\n",
    "\n",
    "    return total_by_user\n",
    "\n",
    "\n",
    "test_data = [\n",
    "    {\"user_id\": 42, \"amount\": 199.90},\n",
    "    {\"user_id\": 15, \"amount\": 75.50},\n",
    "    {\"user_id\": 42, \"amount\": 99.90},\n",
    "    {\"user_id\": 88, \"amount\": 250.00},\n",
    "    {\"user_id\": 15, \"amount\": 74.50},\n",
    "    {\"user_id\": 42, \"amount\": 25.00},\n",
    "    {\"user_id\": 99, \"amount\": 300.75},\n",
    "    {\"user_id\": 88, \"amount\": 89.99},\n",
    "    {\"user_id\": 15, \"amount\": 120.00}\n",
    "]\n",
    "\n",
    "result = calculate_user_totals(test_data)\n",
    "print(\"Your result:\", result)\n",
    "\n",
    "# Additional test cases\n",
    "print(\"\\nTesting edge cases:\")\n",
    "\n",
    "# Empty list\n",
    "empty_result = calculate_user_totals([])\n",
    "print(\"Empty list result:\", empty_result)\n",
    "\n",
    "# Single record\n",
    "single_record = [{\"user_id\": 1, \"amount\": 100.0}]\n",
    "single_result = calculate_user_totals(single_record)\n",
    "print(\"Single record result:\", single_result)\n",
    "\n",
    "# Duplicate user_id with same amount\n",
    "duplicate_test = [\n",
    "    {\"user_id\": 10, \"amount\": 50.0},\n",
    "    {\"user_id\": 10, \"amount\": 50.0}\n",
    "]\n",
    "duplicate_result = calculate_user_totals(duplicate_test)\n",
    "print(\"Duplicate test result:\", duplicate_result)"
   ]
  },
  {
   "cell_type": "markdown",
   "id": "7f1b5d1ddef74020",
   "metadata": {},
   "source": [
    "## Counting"
   ]
  },
  {
   "cell_type": "code",
   "execution_count": null,
   "id": "221158654a01255b",
   "metadata": {
    "ExecuteTime": {
     "end_time": "2025-07-07T23:34:13.787416Z",
     "start_time": "2025-07-07T23:34:13.782914Z"
    }
   },
   "outputs": [],
   "source": [
    "# def count_event_types(logs):\n",
    "#     logs_by_type_count = {}\n",
    "#     for log in logs:\n",
    "#         event = log['event'].lower()\n",
    "#         if event in logs_by_type_count:\n",
    "#             logs_by_type_count[event] += 1\n",
    "#         else:\n",
    "#             logs_by_type_count[event] = 1\n",
    "#\n",
    "#     return logs_by_type_count\n",
    "\n",
    "# Most Pythonic version\n",
    "def count_event_types(logs):\n",
    "    from collections import Counter\n",
    "    return Counter(log['event'].lower() for log in logs)\n",
    "\n",
    "\n",
    "# Test data to practice with\n",
    "test_logs = [\n",
    "    {\"timestamp\": \"2025-07-05T10:00:00Z\", \"event\": \"click\", \"user_id\": 1},\n",
    "    {\"timestamp\": \"2025-07-05T10:05:00Z\", \"event\": \"purchase\", \"user_id\": 1},\n",
    "    {\"timestamp\": \"2025-07-05T10:10:00Z\", \"event\": \"view\", \"user_id\": 2},\n",
    "    {\"timestamp\": \"2025-07-05T10:15:00Z\", \"event\": \"click\", \"user_id\": 2},\n",
    "    {\"timestamp\": \"2025-07-05T10:20:00Z\", \"event\": \"click\", \"user_id\": 3},\n",
    "    {\"timestamp\": \"2025-07-05T10:25:00Z\", \"event\": \"view\", \"user_id\": 1},\n",
    "    {\"timestamp\": \"2025-07-05T10:30:00Z\", \"event\": \"purchase\", \"user_id\": 3},\n",
    "    {\"timestamp\": \"2025-07-05T10:35:00Z\", \"event\": \"view\", \"user_id\": 4},\n",
    "    {\"timestamp\": \"2025-07-05T10:40:00Z\", \"event\": \"click\", \"user_id\": 4},\n",
    "    {\"timestamp\": \"2025-07-05T10:45:00Z\", \"event\": \"logout\", \"user_id\": 2},\n",
    "    {\"timestamp\": \"2025-07-05T10:50:00Z\", \"event\": \"login\", \"user_id\": 5},\n",
    "    {\"timestamp\": \"2025-07-05T10:55:00Z\", \"event\": \"view\", \"user_id\": 5}\n",
    "]\n",
    "\n",
    "# Expected result for test_logs:\n",
    "# {\"click\": 4, \"purchase\": 2, \"view\": 4, \"logout\": 1, \"login\": 1}\n",
    "\n",
    "# Test your function\n",
    "if __name__ == \"__main__\":\n",
    "    result = count_event_types(test_logs)\n",
    "    print(\"Your result:\", result)\n",
    "\n",
    "    # Additional test cases\n",
    "    print(\"\\nTesting edge cases:\")\n",
    "\n",
    "    # Empty list\n",
    "    empty_result = count_event_types([])\n",
    "    print(\"Empty list result:\", empty_result)\n",
    "\n",
    "    # Single event type\n",
    "    single_event = [\n",
    "        {\"timestamp\": \"2025-07-05T10:00:00Z\", \"event\": \"click\", \"user_id\": 1},\n",
    "        {\"timestamp\": \"2025-07-05T10:05:00Z\", \"event\": \"click\", \"user_id\": 2}\n",
    "    ]\n",
    "    single_result = count_event_types(single_event)\n",
    "    print(\"Single event type result:\", single_result)\n",
    "\n",
    "    # All different event types\n",
    "    different_events = [\n",
    "        {\"timestamp\": \"2025-07-05T10:00:00Z\", \"event\": \"signup\", \"user_id\": 1},\n",
    "        {\"timestamp\": \"2025-07-05T10:05:00Z\", \"event\": \"activation\", \"user_id\": 2},\n",
    "        {\"timestamp\": \"2025-07-05T10:10:00Z\", \"event\": \"conversion\", \"user_id\": 3}\n",
    "    ]\n",
    "    different_result = count_event_types(different_events)\n",
    "    print(\"All different events result:\", different_result)\n",
    "\n",
    "    # Case sensitivity test\n",
    "    case_test = [\n",
    "        {\"timestamp\": \"2025-07-05T10:00:00Z\", \"event\": \"Click\", \"user_id\": 1},\n",
    "        {\"timestamp\": \"2025-07-05T10:05:00Z\", \"event\": \"CLICK\", \"user_id\": 2},\n",
    "        {\"timestamp\": \"2025-07-05T10:10:00Z\", \"event\": \"click\", \"user_id\": 3}\n",
    "    ]\n",
    "    case_result = count_event_types(case_test)\n",
    "    print(\"Case sensitivity test result:\", case_result)"
   ]
  }
 ],
 "metadata": {
  "kernelspec": {
   "display_name": "python-learning",
   "language": "python",
   "name": "python3"
  },
  "language_info": {
   "codemirror_mode": {
    "name": "ipython",
    "version": 3
   },
   "file_extension": ".py",
   "mimetype": "text/x-python",
   "name": "python",
   "nbconvert_exporter": "python",
   "pygments_lexer": "ipython3",
   "version": "3.12.11"
  }
 },
 "nbformat": 4,
 "nbformat_minor": 5
}
