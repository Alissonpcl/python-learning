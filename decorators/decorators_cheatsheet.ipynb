{
 "cells": [
  {
   "cell_type": "markdown",
   "id": "d04ae140",
   "metadata": {},
   "source": [
    "# Advanced decorators\n",
    "\n",
    "This notebook contains a series of samples on how to implement decorators on Python"
   ]
  },
  {
   "cell_type": "markdown",
   "id": "479b3de4",
   "metadata": {},
   "source": [
    "# Imports"
   ]
  },
  {
   "cell_type": "code",
   "execution_count": null,
   "id": "cad37432",
   "metadata": {},
   "outputs": [],
   "source": [
    "import functools\n",
    "from enum import Enum\n",
    "from typing import Set\n",
    "import time"
   ]
  },
  {
   "cell_type": "markdown",
   "id": "08370ed9",
   "metadata": {},
   "source": [
    "# Simple"
   ]
  },
  {
   "cell_type": "markdown",
   "id": "ffd9a5fc",
   "metadata": {},
   "source": [
    "## Func without parameters"
   ]
  },
  {
   "cell_type": "code",
   "execution_count": null,
   "id": "661f3ba3",
   "metadata": {},
   "outputs": [],
   "source": [
    "def simple_decorator(func):\n",
    "    # It is not required, but it is important to use functools.wraps to \n",
    "    # properly preserve information about the original function\n",
    "    @functools.wraps(func)\n",
    "    def wrapper():\n",
    "        print('Before calling func')\n",
    "        func()\n",
    "        print('After calling func')\n",
    "    return wrapper"
   ]
  },
  {
   "cell_type": "code",
   "execution_count": null,
   "id": "65bc0c1b",
   "metadata": {},
   "outputs": [],
   "source": [
    "@simple_decorator\n",
    "def func_without_param():\n",
    "    print(f'Hello World')"
   ]
  },
  {
   "cell_type": "code",
   "execution_count": null,
   "id": "14c8ee60",
   "metadata": {},
   "outputs": [],
   "source": [
    "help(func_without_param)\n",
    "\n",
    "# Without functool.wraps help function returns:\n",
    "# Help on function wrapper in module __main__:\n",
    "# wrapper()\n",
    "\n",
    "# After applying functools.wraps it returned the original function properly:\n",
    "# Help on function func_without_param in module __main__:\n",
    "# func_without_param()"
   ]
  },
  {
   "cell_type": "code",
   "execution_count": null,
   "id": "bcc07342",
   "metadata": {},
   "outputs": [],
   "source": [
    "func_without_param()"
   ]
  },
  {
   "cell_type": "markdown",
   "id": "63da2103",
   "metadata": {},
   "source": [
    "## Proxying parameters"
   ]
  },
  {
   "cell_type": "code",
   "execution_count": null,
   "id": "c5882e9e",
   "metadata": {},
   "outputs": [],
   "source": [
    "def proxy_parameters_decorator(func):\n",
    "    @functools.wraps(func)\n",
    "    def wrapper(*args, **kwargs):\n",
    "        print('Before calling func')\n",
    "        func(*args, **kwargs)\n",
    "        print('After calling func')\n",
    "    return wrapper"
   ]
  },
  {
   "cell_type": "code",
   "execution_count": null,
   "id": "cc9e3f40",
   "metadata": {},
   "outputs": [],
   "source": [
    "@proxy_parameters_decorator\n",
    "def some_func(name:str, age: int):\n",
    "    print(f'Hi {name}. Your are {age} years old.')"
   ]
  },
  {
   "cell_type": "code",
   "execution_count": null,
   "id": "6b118725",
   "metadata": {},
   "outputs": [],
   "source": [
    "some_func('Alisson', 35)"
   ]
  },
  {
   "cell_type": "markdown",
   "id": "b934f679",
   "metadata": {},
   "source": [
    "## Real cases"
   ]
  },
  {
   "cell_type": "markdown",
   "id": "5b60e03d",
   "metadata": {},
   "source": [
    "### Timing functions"
   ]
  },
  {
   "cell_type": "code",
   "execution_count": null,
   "id": "21ef31c2",
   "metadata": {},
   "outputs": [],
   "source": [
    "def timer(func):\n",
    "    @functools.wraps(func)\n",
    "    def wrapper(*args, **kwargs):\n",
    "\n",
    "        start_time = time.perf_counter()\n",
    "\n",
    "        fn_result = func(*args, **kwargs)\n",
    "\n",
    "        end_time = time.perf_counter()\n",
    "\n",
    "        run_time = end_time - start_time\n",
    "        print(f'Function {func.__name__} executed in {run_time:.4f} sec')\n",
    "\n",
    "        return fn_result\n",
    "\n",
    "    return wrapper"
   ]
  },
  {
   "cell_type": "code",
   "execution_count": null,
   "id": "f8d73475",
   "metadata": {},
   "outputs": [],
   "source": [
    "@timer\n",
    "def waste_some_time(num_times):\n",
    "    for _ in range(num_times):\n",
    "        sum([number**2 for number in range(10_000)])"
   ]
  },
  {
   "cell_type": "code",
   "execution_count": null,
   "id": "cedf2661",
   "metadata": {},
   "outputs": [],
   "source": [
    "# Function will be executed and the elapsed time will be printer\n",
    "waste_some_time(100)"
   ]
  },
  {
   "cell_type": "markdown",
   "id": "380b2f81",
   "metadata": {},
   "source": [
    "# Advanced"
   ]
  },
  {
   "cell_type": "markdown",
   "id": "1b2ce8b1",
   "metadata": {},
   "source": [
    "## Decorator with params"
   ]
  },
  {
   "cell_type": "code",
   "execution_count": null,
   "id": "e9a2787a",
   "metadata": {},
   "outputs": [],
   "source": [
    "# Explanation\n",
    "# When whe use @ Python expects a function that can receive an another function as it's \n",
    "# first parameter.Since we are trying to use a function that receiveis it's own\n",
    "# parameters, we have to make this function to return an another function that\n",
    "# meets Python requirement.\n",
    "\n",
    "# Here we define a function that receveis it's own parameters\n",
    "def decorator_with_param(decor_param: str):\n",
    "\n",
    "    # This is the function that will be called by Python receiving the\n",
    "    # decorated function as it's parameter\n",
    "    def decorator(func):\n",
    "        \n",
    "        # The rest of the code is the same of a decorator without params\n",
    "        # the only difference is that now we can access the decorator paramters\n",
    "\n",
    "        @functools.wraps(func)\n",
    "        def wrapper(*args, **kwargs):\n",
    "            print (f'The parameter passed to the decorator was {decor_param}')\n",
    "            return func(*args, **kwargs)\n",
    "\n",
    "        return wrapper\n",
    "    return decorator"
   ]
  },
  {
   "cell_type": "code",
   "execution_count": null,
   "id": "d0487255",
   "metadata": {},
   "outputs": [],
   "source": [
    "@decorator_with_param(decor_param=123)\n",
    "def fn_decorated_with_params(fn_param):\n",
    "    print(f'Param sent to the decorated function was {fn_param}')"
   ]
  },
  {
   "cell_type": "code",
   "execution_count": null,
   "id": "3583462f",
   "metadata": {},
   "outputs": [],
   "source": [
    "fn_decorated_with_params('Alisson Lima')"
   ]
  },
  {
   "cell_type": "markdown",
   "id": "7a783598",
   "metadata": {},
   "source": [
    "## Decorator with optional params"
   ]
  },
  {
   "cell_type": "code",
   "execution_count": null,
   "id": "9d3cd233",
   "metadata": {},
   "outputs": [],
   "source": [
    "# Explanation\n",
    "# Since the function to decorate is only passed in directly if the decorator \n",
    "# is called without arguments, the function must be an optional argument. \n",
    "# This means that the decorator arguments must all be specified by keyword. \n",
    "# We can enforce this with the special asterisk (*) syntax, which means that \n",
    "# all the following parameters are keyword-only:\n",
    "# Source: https://realpython.com/primer-on-python-decorators/#inner-functions\n",
    "\n",
    "# Here we define a function that receveis it's own parameters\n",
    "def decorator_with_optional_param(_func=None, *, decor_param: str = 123):\n",
    "\n",
    "    # This is the function that will be called by Python receiving the\n",
    "    # decorated function as it's parameter\n",
    "    def decorator(func):\n",
    "        \n",
    "        # The rest of the code is the same of a decorator without params\n",
    "        # the only difference is that now we can access the decorator paramters\n",
    "\n",
    "        @functools.wraps(func)\n",
    "        def wrapper(*args, **kwargs):\n",
    "            print (f'The parameter passed to the decorator was {decor_param}')\n",
    "            return func(*args, **kwargs)\n",
    "\n",
    "        return wrapper\n",
    "    \n",
    "    # Here is the key difference. We need to validate if the function has or hasn't \n",
    "    # received an another function as it's first parameter.    \n",
    "    \n",
    "    if _func is None:        \n",
    "        # If it hasn't, so it was called with parameters and we have to\n",
    "        # return our decorator function so Python will sent the function\n",
    "        # to it\n",
    "        return decorator\n",
    "    \n",
    "    else:\n",
    "        # If it has, so it was called without parameters, so we have\n",
    "        # to call the decorator function passing the function to it\n",
    "        return decorator(_func)"
   ]
  },
  {
   "cell_type": "code",
   "execution_count": null,
   "id": "44131119",
   "metadata": {},
   "outputs": [],
   "source": [
    "@decorator_with_optional_param\n",
    "def fn_decorated_with_optional_params_absent(fn_param):\n",
    "    print(f'Param sent to the decorated function was {fn_param}')\n",
    "\n",
    "fn_decorated_with_optional_params_absent('Alisson Lima')"
   ]
  },
  {
   "cell_type": "code",
   "execution_count": null,
   "id": "c585f539",
   "metadata": {},
   "outputs": [],
   "source": [
    "@decorator_with_optional_param(decor_param=456)\n",
    "def fn_decorated_with_optional_params_present(fn_param):\n",
    "    print(f'Param sent to the decorated function was {fn_param}')\n",
    "\n",
    "fn_decorated_with_optional_params_present('Alisson Lima')"
   ]
  },
  {
   "cell_type": "markdown",
   "id": "4cce3f36",
   "metadata": {},
   "source": [
    "## Real cases"
   ]
  },
  {
   "cell_type": "markdown",
   "id": "9380db8b",
   "metadata": {},
   "source": [
    "### Authorizing access"
   ]
  },
  {
   "cell_type": "code",
   "execution_count": null,
   "id": "a8c34a4d",
   "metadata": {},
   "outputs": [],
   "source": [
    "class AccessLevel(Enum):\n",
    "    ADMIN = 1\n",
    "    USER = 2"
   ]
  },
  {
   "cell_type": "code",
   "execution_count": null,
   "id": "02526dbb",
   "metadata": {},
   "outputs": [],
   "source": [
    "def authorize(required_levels: Set[AccessLevel]):\n",
    "\n",
    "    def decorator(func):\n",
    "\n",
    "        @functools.wraps(func)\n",
    "        def wrapper(*args, **kwargs):            \n",
    "            user_lvl = kwargs['access_level']\n",
    "            if user_lvl not in required_levels:\n",
    "                raise Exception('Access Not Allowed') \n",
    "            \n",
    "            return func(*args, **kwargs)\n",
    "            \n",
    "        return wrapper\n",
    "    \n",
    "    return decorator\n"
   ]
  },
  {
   "cell_type": "code",
   "execution_count": null,
   "id": "a9b15cf6",
   "metadata": {},
   "outputs": [],
   "source": [
    "@authorize([AccessLevel.ADMIN])\n",
    "def get_personal_data(username: str, access_level: int):\n",
    "    return f'Hi {username}. You have access personal data'\n"
   ]
  },
  {
   "cell_type": "code",
   "execution_count": null,
   "id": "959457c6",
   "metadata": {},
   "outputs": [],
   "source": [
    "@authorize([AccessLevel.ADMIN, AccessLevel.USER])\n",
    "def get_public_data(username: str, access_level: int):\n",
    "    return f'Hi {username}. You have access personal data'\n"
   ]
  },
  {
   "cell_type": "code",
   "execution_count": null,
   "id": "5e8ccefe",
   "metadata": {},
   "outputs": [],
   "source": [
    "# It will work since Admins can access personal data\n",
    "get_personal_data(username='Alisson', access_level=AccessLevel.ADMIN)"
   ]
  },
  {
   "cell_type": "code",
   "execution_count": null,
   "id": "418da982",
   "metadata": {},
   "outputs": [],
   "source": [
    "# It will throw an Exception since the USER level cannot\n",
    "# acces the get_personal_data function\n",
    "get_personal_data(username='John Doe', access_level=AccessLevel.USER)"
   ]
  },
  {
   "cell_type": "code",
   "execution_count": null,
   "id": "f4b8b76a",
   "metadata": {},
   "outputs": [],
   "source": [
    "# Both of this will work just fine since everybody can\n",
    "# access public data\n",
    "print(get_public_data(username='Alisson', access_level=AccessLevel.ADMIN))\n",
    "print(get_public_data(username='John Doe', access_level=AccessLevel.USER))"
   ]
  }
 ],
 "metadata": {
  "kernelspec": {
   "display_name": "python-learning",
   "language": "python",
   "name": "python3"
  },
  "language_info": {
   "codemirror_mode": {
    "name": "ipython",
    "version": 3
   },
   "file_extension": ".py",
   "mimetype": "text/x-python",
   "name": "python",
   "nbconvert_exporter": "python",
   "pygments_lexer": "ipython3",
   "version": "3.12.11"
  }
 },
 "nbformat": 4,
 "nbformat_minor": 5
}
