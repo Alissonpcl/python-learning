{
 "cells": [
  {
   "metadata": {},
   "cell_type": "markdown",
   "source": "# Imports",
   "id": "bf784891efc212c5"
  },
  {
   "metadata": {},
   "cell_type": "code",
   "source": [
    "import os\n",
    "import sys\n",
    "from glob import glob\n",
    "\n",
    "from pyspark.sql import SparkSession\n",
    "from pyspark.sql import functions as F\n",
    "\n",
    "# Required for Spark to find Python executable\n",
    "os.environ['PYSPARK_PYTHON'] = sys.executable\n",
    "os.environ['PYSPARK_DRIVER_PYTHON'] = sys.executable\n",
    "\n",
    "# Required to use the correct Java version\n",
    "os.environ['JAVA_HOME'] = '/opt/homebrew/opt/openjdk@17'"
   ],
   "id": "initial_id",
   "outputs": [],
   "execution_count": null
  },
  {
   "metadata": {},
   "cell_type": "markdown",
   "source": "# Start Spark App",
   "id": "74933210963034c1"
  },
  {
   "metadata": {},
   "cell_type": "code",
   "source": "spark = SparkSession.builder.appName(\"netflix_analysis\").getOrCreate()",
   "id": "c2bfa783bc5c66c8",
   "outputs": [],
   "execution_count": null
  },
  {
   "metadata": {},
   "cell_type": "markdown",
   "source": "# Read CSV file",
   "id": "79f439e8d82c05c7"
  },
  {
   "metadata": {
    "ExecuteTime": {
     "end_time": "2025-07-09T00:00:11.815787Z",
     "start_time": "2025-07-09T00:00:11.742584Z"
    }
   },
   "cell_type": "code",
   "source": [
    "netflix_df = spark.read.csv('../data/netflix_titles.csv',\n",
    "                            header=True,  # the first line of the file is a header\n",
    "                            multiLine=True,  # rows can have break lines\n",
    "                            # quote = Sets a single character used for escaping quoted values where the separator can be part of the value.\n",
    "                            quote='\"',\n",
    "                            # escape = Sets a single character used for escaping quotes inside an already quoted value.\n",
    "                            escape='\"'\n",
    "                            )"
   ],
   "id": "f6a1d364e5cc45f1",
   "outputs": [],
   "execution_count": 103
  },
  {
   "metadata": {},
   "cell_type": "code",
   "source": "netflix_df.show(5)",
   "id": "12a4a81e2f856f9",
   "outputs": [],
   "execution_count": null
  },
  {
   "metadata": {},
   "cell_type": "markdown",
   "source": "# Treat Types",
   "id": "e1a0c57bcd246fcc"
  },
  {
   "metadata": {
    "ExecuteTime": {
     "end_time": "2025-07-09T00:00:14.108573Z",
     "start_time": "2025-07-09T00:00:14.096038Z"
    }
   },
   "cell_type": "code",
   "source": [
    "netflix_df = netflix_df.withColumns({\n",
    "    'date_added': F.to_date(F.trim(F.col('date_added')), \"MMMM d, yyyy\"),\n",
    "    'release_year': F.col('release_year').cast('integer')\n",
    "})"
   ],
   "id": "f898da445c86a45c",
   "outputs": [],
   "execution_count": 104
  },
  {
   "metadata": {},
   "cell_type": "code",
   "source": "netflix_df.printSchema()",
   "id": "52ee3d9e11e86fa0",
   "outputs": [],
   "execution_count": null
  },
  {
   "metadata": {},
   "cell_type": "markdown",
   "source": "# Aggregations",
   "id": "d9e278385e753d3f"
  },
  {
   "metadata": {},
   "cell_type": "markdown",
   "source": "## Count by type",
   "id": "301b039cf2b391a1"
  },
  {
   "metadata": {},
   "cell_type": "code",
   "source": [
    "netflix_df.groupby(F.col('type')).agg(\n",
    "    F.count('*').alias('movies_count')\n",
    ").show()"
   ],
   "id": "789538253140fc93",
   "outputs": [],
   "execution_count": null
  },
  {
   "metadata": {},
   "cell_type": "markdown",
   "source": "# Filtering",
   "id": "b13619ec33ddb482"
  },
  {
   "metadata": {},
   "cell_type": "markdown",
   "source": "## Added after 2020",
   "id": "ca43eeb9de80c750"
  },
  {
   "metadata": {},
   "cell_type": "code",
   "source": "netflix_df.where(\"date_added > '2020-01-01'\").show(5)",
   "id": "8322335c43f95366",
   "outputs": [],
   "execution_count": null
  },
  {
   "metadata": {},
   "cell_type": "markdown",
   "source": "## Count by type, added after 2020",
   "id": "efa55cffd248677d"
  },
  {
   "metadata": {
    "ExecuteTime": {
     "end_time": "2025-07-09T00:00:17.169756Z",
     "start_time": "2025-07-09T00:00:17.086891Z"
    }
   },
   "cell_type": "code",
   "source": [
    "(netflix_df.where(\"date_added > '2020-01-01'\").groupby('type').agg(\n",
    "    F.count('*').alias('movies_count')\n",
    ")\n",
    " .sort(F.col('type'))\n",
    " .show())"
   ],
   "id": "f3bf949ba4d6fe95",
   "outputs": [
    {
     "name": "stdout",
     "output_type": "stream",
     "text": [
      "+-------+------------+\n",
      "|   type|movies_count|\n",
      "+-------+------------+\n",
      "|  Movie|        2180|\n",
      "|TV Show|        1087|\n",
      "+-------+------------+\n",
      "\n"
     ]
    }
   ],
   "execution_count": 105
  }
 ],
 "metadata": {
  "kernelspec": {
   "display_name": "Python 3",
   "language": "python",
   "name": "python3"
  },
  "language_info": {
   "codemirror_mode": {
    "name": "ipython",
    "version": 2
   },
   "file_extension": ".py",
   "mimetype": "text/x-python",
   "name": "python",
   "nbconvert_exporter": "python",
   "pygments_lexer": "ipython2",
   "version": "2.7.6"
  }
 },
 "nbformat": 4,
 "nbformat_minor": 5
}
