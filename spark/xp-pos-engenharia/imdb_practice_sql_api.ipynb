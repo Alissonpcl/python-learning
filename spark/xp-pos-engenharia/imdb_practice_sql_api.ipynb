{
 "cells": [
  {
   "cell_type": "code",
   "id": "initial_id",
   "metadata": {
    "collapsed": true,
    "ExecuteTime": {
     "end_time": "2024-07-23T23:11:58.531726Z",
     "start_time": "2024-07-23T23:11:58.517455Z"
    }
   },
   "source": [
    "import os\n",
    "import sys\n",
    "\n",
    "from pyspark.sql import SparkSession\n",
    "from pyspark.sql.functions import explode, split, col\n",
    "\n",
    "# Required for Spark to find Python executable\n",
    "os.environ['PYSPARK_PYTHON'] = sys.executable\n",
    "os.environ['PYSPARK_DRIVER_PYTHON'] = sys.executable"
   ],
   "outputs": [],
   "execution_count": 77
  },
  {
   "metadata": {
    "ExecuteTime": {
     "end_time": "2024-07-23T23:16:03.945397Z",
     "start_time": "2024-07-23T23:16:03.482113Z"
    }
   },
   "cell_type": "code",
   "source": [
    "# spark.stop()\n",
    "spark = (SparkSession\n",
    "         .builder\n",
    "         .config(\"spark.executor.memory\", \"4g\")\n",
    "         .config(\"spark.driver.memory\", \"4g\")\n",
    "         .appName(\"imdb-practice\").getOrCreate())"
   ],
   "id": "b844464c81711b02",
   "outputs": [],
   "execution_count": 81
  },
  {
   "metadata": {},
   "cell_type": "markdown",
   "source": "Carrega arquivos",
   "id": "71d80db6ae619d8f"
  },
  {
   "metadata": {
    "ExecuteTime": {
     "end_time": "2024-07-23T23:16:06.504217Z",
     "start_time": "2024-07-23T23:16:05.682258Z"
    }
   },
   "cell_type": "code",
   "source": "df_titles = spark.read.csv('title_basics.tsv', header=True, inferSchema=True, sep='\\t')",
   "id": "bde9862e4b1b9f1c",
   "outputs": [],
   "execution_count": 82
  },
  {
   "metadata": {
    "ExecuteTime": {
     "end_time": "2024-07-23T22:59:10.945586Z",
     "start_time": "2024-07-23T22:59:10.729112Z"
    }
   },
   "cell_type": "code",
   "source": "df_ratings = spark.read.csv('title_ratings.tsv', header=True, inferSchema=True, sep='\\t')",
   "id": "58bd834c6647e9cf",
   "outputs": [],
   "execution_count": 60
  },
  {
   "metadata": {
    "ExecuteTime": {
     "end_time": "2024-07-23T16:54:18.229175Z",
     "start_time": "2024-07-23T16:54:18.219427Z"
    }
   },
   "cell_type": "code",
   "source": [
    "# df_titles.head()\n",
    "# df_titles.describe(['tconst']).show()\n",
    "df_titles.printSchema()"
   ],
   "id": "d2e10e8daa5b9749",
   "outputs": [
    {
     "name": "stdout",
     "output_type": "stream",
     "text": [
      "root\n",
      " |-- tconst: string (nullable = true)\n",
      " |-- titleType: string (nullable = true)\n",
      " |-- primaryTitle: string (nullable = true)\n",
      " |-- originalTitle: string (nullable = true)\n",
      " |-- isAdult: string (nullable = true)\n",
      " |-- startYear: string (nullable = true)\n",
      " |-- endYear: string (nullable = true)\n",
      " |-- runtimeMinutes: string (nullable = true)\n",
      " |-- genres: string (nullable = true)\n",
      "\n"
     ]
    }
   ],
   "execution_count": 11
  },
  {
   "metadata": {
    "ExecuteTime": {
     "end_time": "2024-07-23T17:25:45.615113Z",
     "start_time": "2024-07-23T17:25:45.579179Z"
    }
   },
   "cell_type": "code",
   "source": [
    "(df_titles\n",
    " # .filter(df_titles.genres.contains('Adventure'))\n",
    " .show(2))"
   ],
   "id": "20e8d57f4523fd05",
   "outputs": [
    {
     "name": "stdout",
     "output_type": "stream",
     "text": [
      "+---------+---------+--------------------+--------------------+-------+---------+-------+--------------+-----------------+\n",
      "|   tconst|titleType|        primaryTitle|       originalTitle|isAdult|startYear|endYear|runtimeMinutes|           genres|\n",
      "+---------+---------+--------------------+--------------------+-------+---------+-------+--------------+-----------------+\n",
      "|tt0000001|    short|          Carmencita|          Carmencita|      0|     1894|     \\N|             1|Documentary,Short|\n",
      "|tt0000002|    short|Le clown et ses c...|Le clown et ses c...|      0|     1892|     \\N|             5|  Animation,Short|\n",
      "+---------+---------+--------------------+--------------------+-------+---------+-------+--------------+-----------------+\n",
      "only showing top 2 rows\n",
      "\n"
     ]
    }
   ],
   "execution_count": 44
  },
  {
   "metadata": {},
   "cell_type": "code",
   "source": "df_ratings.printSchema()",
   "id": "a1c861127fa70c87",
   "outputs": [],
   "execution_count": null
  },
  {
   "metadata": {},
   "cell_type": "markdown",
   "source": "Monta o cache com os filmes que tem data de lancamento setada",
   "id": "dce7434e5b4320cf"
  },
  {
   "metadata": {
    "ExecuteTime": {
     "end_time": "2024-07-23T23:16:13.504759Z",
     "start_time": "2024-07-23T23:16:13.493508Z"
    }
   },
   "cell_type": "code",
   "source": [
    "df_titles_with_start_year = (df_titles\n",
    "                             .filter(df_titles.startYear != '\\\\N'))\n",
    "df_titles_with_start_year.cache()"
   ],
   "id": "1972ab3c6da81848",
   "outputs": [
    {
     "data": {
      "text/plain": [
       "DataFrame[tconst: string, titleType: string, primaryTitle: string, originalTitle: string, isAdult: string, startYear: string, endYear: string, runtimeMinutes: string, genres: string]"
      ]
     },
     "execution_count": 83,
     "metadata": {},
     "output_type": "execute_result"
    }
   ],
   "execution_count": 83
  },
  {
   "metadata": {},
   "cell_type": "markdown",
   "source": "Qual o primeiro filme lancado?",
   "id": "13076c01da450af0"
  },
  {
   "metadata": {},
   "cell_type": "markdown",
   "source": "Qual último filme lancado?",
   "id": "d99d9bee37ed1c8a"
  },
  {
   "metadata": {
    "ExecuteTime": {
     "end_time": "2024-07-23T22:56:47.713741Z",
     "start_time": "2024-07-23T22:56:47.423360Z"
    }
   },
   "cell_type": "code",
   "source": [
    "(df_titles_with_start_year\n",
    " .sort(df_titles.startYear.desc())\n",
    " .show(1))"
   ],
   "id": "7787c18e2b41969e",
   "outputs": [
    {
     "name": "stdout",
     "output_type": "stream",
     "text": [
      "+----------+---------+------------+-------------+-------+---------+-------+--------------+-------------------+\n",
      "|    tconst|titleType|primaryTitle|originalTitle|isAdult|startYear|endYear|runtimeMinutes|             genres|\n",
      "+----------+---------+------------+-------------+-------+---------+-------+--------------+-------------------+\n",
      "|tt12072406|tvEpisode|       Pilot|        Pilot|      0|     2028|     \\N|            \\N|Action,Comedy,Drama|\n",
      "+----------+---------+------------+-------------+-------+---------+-------+--------------+-------------------+\n",
      "only showing top 1 row\n",
      "\n"
     ]
    }
   ],
   "execution_count": 50
  },
  {
   "metadata": {},
   "cell_type": "markdown",
   "source": "Qual primeiro e ultimo filme lancados juntos?",
   "id": "c113af89cadfeb8c"
  },
  {
   "metadata": {
    "ExecuteTime": {
     "end_time": "2024-07-23T22:59:28.732221Z",
     "start_time": "2024-07-23T22:59:22.489294Z"
    }
   },
   "cell_type": "code",
   "source": [
    "df_first = (df_titles_with_start_year\n",
    "            .sort(df_titles.startYear.asc())\n",
    "            .limit(1)\n",
    "            )\n",
    "\n",
    "df_last = (df_titles_with_start_year\n",
    "           .sort(df_titles.startYear.desc())\n",
    "           .limit(1)\n",
    "           )\n",
    "\n",
    "df_first_last = df_first.union(df_last)\n",
    "\n",
    "df_first_last.show()"
   ],
   "id": "d9a37e7e9a6bad35",
   "outputs": [
    {
     "name": "stdout",
     "output_type": "stream",
     "text": [
      "+----------+---------+----------------+----------------+-------+---------+-------+--------------+-------------------+\n",
      "|    tconst|titleType|    primaryTitle|   originalTitle|isAdult|startYear|endYear|runtimeMinutes|             genres|\n",
      "+----------+---------+----------------+----------------+-------+---------+-------+--------------+-------------------+\n",
      "| tt3155794|    short|Passage de Venus|Passage de Venus|      0|     1874|     \\N|             1|  Documentary,Short|\n",
      "|tt12072406|tvEpisode|           Pilot|           Pilot|      0|     2028|     \\N|            \\N|Action,Comedy,Drama|\n",
      "+----------+---------+----------------+----------------+-------+---------+-------+--------------+-------------------+\n",
      "\n"
     ]
    }
   ],
   "execution_count": 62
  },
  {
   "metadata": {},
   "cell_type": "markdown",
   "source": "Quantos filmes foram lancados por ano?",
   "id": "f4ea4ef14dde87e3"
  },
  {
   "metadata": {
    "ExecuteTime": {
     "end_time": "2024-07-23T23:00:09.867874Z",
     "start_time": "2024-07-23T23:00:09.347880Z"
    }
   },
   "cell_type": "code",
   "source": [
    "(df_titles_with_start_year\n",
    " .filter(df_titles_with_start_year.startYear >= 2010)\n",
    " .groupBy(df_titles_with_start_year.startYear)\n",
    " .count()\n",
    " .sort('startYear')\n",
    " .show())"
   ],
   "id": "543f64b6d947ca8f",
   "outputs": [
    {
     "name": "stdout",
     "output_type": "stream",
     "text": [
      "+---------+------+\n",
      "|startYear| count|\n",
      "+---------+------+\n",
      "|     2010|236565|\n",
      "|     2011|268829|\n",
      "|     2012|299152|\n",
      "|     2013|320186|\n",
      "|     2014|340980|\n",
      "|     2015|358054|\n",
      "|     2016|378041|\n",
      "|     2017|398751|\n",
      "|     2018|402244|\n",
      "|     2019|384053|\n",
      "|     2020|350984|\n",
      "|     2021|220823|\n",
      "|     2022|  6981|\n",
      "|     2023|   465|\n",
      "|     2024|    83|\n",
      "|     2025|    17|\n",
      "|     2026|    10|\n",
      "|     2027|     7|\n",
      "|     2028|     3|\n",
      "+---------+------+\n",
      "\n"
     ]
    }
   ],
   "execution_count": 65
  },
  {
   "metadata": {},
   "cell_type": "markdown",
   "source": "Quebre os generos em mais de uma linha",
   "id": "663026ca999caa95"
  },
  {
   "metadata": {
    "ExecuteTime": {
     "end_time": "2024-07-23T23:10:22.320250Z",
     "start_time": "2024-07-23T23:10:22.274557Z"
    }
   },
   "cell_type": "code",
   "source": [
    "# Documentary,Short\n",
    "\n",
    "(df_titles_with_start_year\n",
    " .select('tconst', split(df_titles_with_start_year.genres, ',').alias('genres'))\n",
    " .withColumn('genres', explode('genres'))\n",
    " .show(10))"
   ],
   "id": "4e6719bc83c42e2",
   "outputs": [
    {
     "name": "stdout",
     "output_type": "stream",
     "text": [
      "+---------+-----------+\n",
      "|   tconst|     genres|\n",
      "+---------+-----------+\n",
      "|tt0000001|Documentary|\n",
      "|tt0000001|      Short|\n",
      "|tt0000002|  Animation|\n",
      "|tt0000002|      Short|\n",
      "|tt0000003|  Animation|\n",
      "|tt0000003|     Comedy|\n",
      "|tt0000003|    Romance|\n",
      "|tt0000004|  Animation|\n",
      "|tt0000004|      Short|\n",
      "|tt0000005|     Comedy|\n",
      "+---------+-----------+\n",
      "only showing top 10 rows\n",
      "\n"
     ]
    }
   ],
   "execution_count": 74
  },
  {
   "metadata": {},
   "cell_type": "markdown",
   "source": "",
   "id": "16db29b971869ab8"
  },
  {
   "metadata": {},
   "cell_type": "markdown",
   "source": "Qual o genero que mais possui filmes?",
   "id": "6513d900393c7b4c"
  },
  {
   "metadata": {
    "ExecuteTime": {
     "end_time": "2024-07-23T23:17:58.277004Z",
     "start_time": "2024-07-23T23:17:57.170652Z"
    }
   },
   "cell_type": "code",
   "source": [
    "(df_titles_with_start_year\n",
    " .select('tconst',\n",
    "         split(df_titles_with_start_year.genres, ',').alias('genres'))  # transforma genres em array\n",
    " .withColumn('genres', explode('genres'))  # quebra o array em varias linhas duplicando os filmes quando necessario\n",
    " .groupBy('genres')  # agrupa pelo genero\n",
    " .count()  # adicionado a coluna com o count\n",
    " .sort('count', ascending=False)  # ordena o count de maneira decrescente\n",
    " .show(10))  # print os primeiros registros"
   ],
   "id": "f274f7c45ebf59a1",
   "outputs": [
    {
     "name": "stdout",
     "output_type": "stream",
     "text": [
      "+-----------+-------+\n",
      "|     genres|  count|\n",
      "+-----------+-------+\n",
      "|      Drama|1870032|\n",
      "|     Comedy|1503149|\n",
      "|      Short| 997854|\n",
      "|  Talk-Show| 769095|\n",
      "|Documentary| 727559|\n",
      "|    Romance| 632349|\n",
      "|         \\N| 572955|\n",
      "|     Family| 499757|\n",
      "|       News| 454613|\n",
      "| Reality-TV| 388890|\n",
      "+-----------+-------+\n",
      "only showing top 10 rows\n",
      "\n"
     ]
    }
   ],
   "execution_count": 89
  },
  {
   "metadata": {
    "ExecuteTime": {
     "end_time": "2024-07-23T23:16:27.791907Z",
     "start_time": "2024-07-23T23:16:27.637585Z"
    }
   },
   "cell_type": "code",
   "source": [
    "# Valida o resultado acima\n",
    "df_titles_with_start_year.filter(col('genres').contains('Drama')).count()"
   ],
   "id": "7c7193d059206399",
   "outputs": [
    {
     "data": {
      "text/plain": [
       "1870032"
      ]
     },
     "execution_count": 85,
     "metadata": {},
     "output_type": "execute_result"
    }
   ],
   "execution_count": 85
  }
 ],
 "metadata": {
  "kernelspec": {
   "display_name": "Python 3",
   "language": "python",
   "name": "python3"
  },
  "language_info": {
   "codemirror_mode": {
    "name": "ipython",
    "version": 2
   },
   "file_extension": ".py",
   "mimetype": "text/x-python",
   "name": "python",
   "nbconvert_exporter": "python",
   "pygments_lexer": "ipython2",
   "version": "2.7.6"
  }
 },
 "nbformat": 4,
 "nbformat_minor": 5
}
