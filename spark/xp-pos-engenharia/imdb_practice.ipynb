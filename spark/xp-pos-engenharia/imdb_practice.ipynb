{
 "cells": [
  {
   "cell_type": "code",
   "id": "initial_id",
   "metadata": {
    "collapsed": true,
    "ExecuteTime": {
     "end_time": "2024-07-23T17:31:45.773713Z",
     "start_time": "2024-07-23T17:31:45.633164Z"
    }
   },
   "source": [
    "import os\n",
    "import sys\n",
    "\n",
    "from pyspark.sql import SparkSession\n",
    "from pyspark.sql.functions import col, length\n",
    "\n",
    "# Required for Spark to find Python executable\n",
    "os.environ['PYSPARK_PYTHON'] = sys.executable\n",
    "os.environ['PYSPARK_DRIVER_PYTHON'] = sys.executable"
   ],
   "outputs": [],
   "execution_count": 1
  },
  {
   "metadata": {
    "ExecuteTime": {
     "end_time": "2024-07-23T17:46:04.585495Z",
     "start_time": "2024-07-23T17:46:03.377250Z"
    }
   },
   "cell_type": "code",
   "source": [
    "# spark.stop()\n",
    "spark = SparkSession.builder.appName(\"imdb-practice\").getOrCreate()"
   ],
   "id": "b844464c81711b02",
   "outputs": [],
   "execution_count": 33
  },
  {
   "metadata": {},
   "cell_type": "markdown",
   "source": "Carrega arquivos",
   "id": "71d80db6ae619d8f"
  },
  {
   "metadata": {
    "ExecuteTime": {
     "end_time": "2024-07-23T17:31:56.343579Z",
     "start_time": "2024-07-23T17:31:52.292617Z"
    }
   },
   "cell_type": "code",
   "source": "df_titles = spark.read.csv('title_basics.tsv', header=True, inferSchema=True, sep='\\t')",
   "id": "bde9862e4b1b9f1c",
   "outputs": [],
   "execution_count": 3
  },
  {
   "metadata": {
    "ExecuteTime": {
     "end_time": "2024-07-23T17:31:57.215732Z",
     "start_time": "2024-07-23T17:31:56.908038Z"
    }
   },
   "cell_type": "code",
   "source": "df_ratings = spark.read.csv('title_ratings.tsv', header=True, inferSchema=True, sep='\\t')",
   "id": "58bd834c6647e9cf",
   "outputs": [],
   "execution_count": 4
  },
  {
   "metadata": {
    "ExecuteTime": {
     "end_time": "2024-07-23T16:54:18.229175Z",
     "start_time": "2024-07-23T16:54:18.219427Z"
    }
   },
   "cell_type": "code",
   "source": [
    "# df_titles.head()\n",
    "# df_titles.describe(['tconst']).show()\n",
    "df_titles.printSchema()"
   ],
   "id": "d2e10e8daa5b9749",
   "outputs": [
    {
     "name": "stdout",
     "output_type": "stream",
     "text": [
      "root\n",
      " |-- tconst: string (nullable = true)\n",
      " |-- titleType: string (nullable = true)\n",
      " |-- primaryTitle: string (nullable = true)\n",
      " |-- originalTitle: string (nullable = true)\n",
      " |-- isAdult: string (nullable = true)\n",
      " |-- startYear: string (nullable = true)\n",
      " |-- endYear: string (nullable = true)\n",
      " |-- runtimeMinutes: string (nullable = true)\n",
      " |-- genres: string (nullable = true)\n",
      "\n"
     ]
    }
   ],
   "execution_count": 11
  },
  {
   "metadata": {
    "ExecuteTime": {
     "end_time": "2024-07-23T17:25:45.615113Z",
     "start_time": "2024-07-23T17:25:45.579179Z"
    }
   },
   "cell_type": "code",
   "source": [
    "(df_titles\n",
    " # .filter(df_titles.genres.contains('Adventure'))\n",
    " .show(2))"
   ],
   "id": "20e8d57f4523fd05",
   "outputs": [
    {
     "name": "stdout",
     "output_type": "stream",
     "text": [
      "+---------+---------+--------------------+--------------------+-------+---------+-------+--------------+-----------------+\n",
      "|   tconst|titleType|        primaryTitle|       originalTitle|isAdult|startYear|endYear|runtimeMinutes|           genres|\n",
      "+---------+---------+--------------------+--------------------+-------+---------+-------+--------------+-----------------+\n",
      "|tt0000001|    short|          Carmencita|          Carmencita|      0|     1894|     \\N|             1|Documentary,Short|\n",
      "|tt0000002|    short|Le clown et ses c...|Le clown et ses c...|      0|     1892|     \\N|             5|  Animation,Short|\n",
      "+---------+---------+--------------------+--------------------+-------+---------+-------+--------------+-----------------+\n",
      "only showing top 2 rows\n",
      "\n"
     ]
    }
   ],
   "execution_count": 44
  },
  {
   "metadata": {
    "ExecuteTime": {
     "end_time": "2024-07-23T17:07:33.346182Z",
     "start_time": "2024-07-23T17:07:33.331289Z"
    }
   },
   "cell_type": "code",
   "source": "df_ratings.printSchema()",
   "id": "a1c861127fa70c87",
   "outputs": [
    {
     "name": "stdout",
     "output_type": "stream",
     "text": [
      "root\n",
      " |-- tconst: string (nullable = true)\n",
      " |-- averageRating: double (nullable = true)\n",
      " |-- numVotes: integer (nullable = true)\n",
      "\n"
     ]
    }
   ],
   "execution_count": 22
  },
  {
   "metadata": {},
   "cell_type": "markdown",
   "source": "Quantos filmes (incluindo os da televisão) foram lançados no ano de 2015?",
   "id": "a345c3326c504614"
  },
  {
   "metadata": {
    "ExecuteTime": {
     "end_time": "2024-07-23T16:58:17.288834Z",
     "start_time": "2024-07-23T16:58:16.403242Z"
    }
   },
   "cell_type": "code",
   "source": "df_titles.select(['titleType']).distinct().show()",
   "id": "f87688caa11cf707",
   "outputs": [
    {
     "name": "stdout",
     "output_type": "stream",
     "text": [
      "+------------+\n",
      "|   titleType|\n",
      "+------------+\n",
      "|    tvSeries|\n",
      "|tvMiniSeries|\n",
      "|     tvMovie|\n",
      "|   tvEpisode|\n",
      "|       movie|\n",
      "|   tvSpecial|\n",
      "|       video|\n",
      "|   videoGame|\n",
      "|     tvShort|\n",
      "|       short|\n",
      "| radioSeries|\n",
      "|radioEpisode|\n",
      "|     tvPilot|\n",
      "+------------+\n",
      "\n"
     ]
    }
   ],
   "execution_count": 16
  },
  {
   "metadata": {
    "ExecuteTime": {
     "end_time": "2024-07-23T17:01:11.904001Z",
     "start_time": "2024-07-23T17:01:11.187965Z"
    }
   },
   "cell_type": "code",
   "source": [
    "df_titles.filter((df_titles.startYear.isNotNull()) &\n",
    "                 (df_titles.startYear == 2015) &\n",
    "                 (df_titles.titleType.isin(\"movie\", \"tvMovie\"))).count()\n"
   ],
   "id": "be750e15d4edc836",
   "outputs": [
    {
     "data": {
      "text/plain": [
       "19987"
      ]
     },
     "execution_count": 17,
     "metadata": {},
     "output_type": "execute_result"
    }
   ],
   "execution_count": 17
  },
  {
   "metadata": {},
   "cell_type": "markdown",
   "source": "Qual o gênero de títulos mais frequente?",
   "id": "4397e1ca8a408336"
  },
  {
   "metadata": {
    "ExecuteTime": {
     "end_time": "2024-07-23T17:05:29.888544Z",
     "start_time": "2024-07-23T17:05:28.174390Z"
    }
   },
   "cell_type": "code",
   "source": [
    "(df_titles\n",
    " .groupBy('genres')\n",
    " .count()\n",
    " .sort(col(\"count\").desc())\n",
    " .show(3))"
   ],
   "id": "8313f7485c4ebda8",
   "outputs": [
    {
     "name": "stdout",
     "output_type": "stream",
     "text": [
      "+------+------+\n",
      "|genres| count|\n",
      "+------+------+\n",
      "| Drama|880649|\n",
      "|    \\N|643012|\n",
      "|Comedy|568956|\n",
      "+------+------+\n",
      "only showing top 3 rows\n",
      "\n"
     ]
    }
   ],
   "execution_count": 19
  },
  {
   "metadata": {},
   "cell_type": "markdown",
   "source": "Qual o gênero com a melhor nota média de títulos?",
   "id": "849158736696679a"
  },
  {
   "metadata": {
    "ExecuteTime": {
     "end_time": "2024-07-23T17:38:19.020212Z",
     "start_time": "2024-07-23T17:38:18.973575Z"
    }
   },
   "cell_type": "code",
   "source": [
    "df_join = df_titles.join(df_ratings, ['tconst'])\n",
    "df_join.cache()"
   ],
   "id": "3b2320b97a7a0733",
   "outputs": [
    {
     "data": {
      "text/plain": [
       "DataFrame[tconst: string, titleType: string, primaryTitle: string, originalTitle: string, isAdult: string, startYear: string, endYear: string, runtimeMinutes: string, genres: string, averageRating: double, numVotes: int]"
      ]
     },
     "execution_count": 21,
     "metadata": {},
     "output_type": "execute_result"
    }
   ],
   "execution_count": 21
  },
  {
   "metadata": {
    "ExecuteTime": {
     "end_time": "2024-07-23T17:38:25.077208Z",
     "start_time": "2024-07-23T17:38:25.061580Z"
    }
   },
   "cell_type": "code",
   "source": "df_join.printSchema()",
   "id": "516a22b905077a72",
   "outputs": [
    {
     "name": "stdout",
     "output_type": "stream",
     "text": [
      "root\n",
      " |-- tconst: string (nullable = true)\n",
      " |-- titleType: string (nullable = true)\n",
      " |-- primaryTitle: string (nullable = true)\n",
      " |-- originalTitle: string (nullable = true)\n",
      " |-- isAdult: string (nullable = true)\n",
      " |-- startYear: string (nullable = true)\n",
      " |-- endYear: string (nullable = true)\n",
      " |-- runtimeMinutes: string (nullable = true)\n",
      " |-- genres: string (nullable = true)\n",
      " |-- averageRating: double (nullable = true)\n",
      " |-- numVotes: integer (nullable = true)\n",
      "\n"
     ]
    }
   ],
   "execution_count": 22
  },
  {
   "metadata": {
    "ExecuteTime": {
     "end_time": "2024-07-23T17:38:39.969785Z",
     "start_time": "2024-07-23T17:38:31.751953Z"
    }
   },
   "cell_type": "code",
   "source": [
    "(df_join\n",
    " .groupBy(df_join.genres)\n",
    " .avg('averageRating')\n",
    " .sort(col(\"avg(averageRating)\").desc())\n",
    " .show(2))"
   ],
   "id": "1ed9592bc32ad1e1",
   "outputs": [
    {
     "name": "stdout",
     "output_type": "stream",
     "text": [
      "+--------------------+------------------+\n",
      "|              genres|avg(averageRating)|\n",
      "+--------------------+------------------+\n",
      "|Comedy,History,We...|               9.8|\n",
      "|Biography,Comedy,...|               9.8|\n",
      "+--------------------+------------------+\n",
      "only showing top 2 rows\n",
      "\n"
     ]
    }
   ],
   "execution_count": 23
  },
  {
   "metadata": {},
   "cell_type": "markdown",
   "source": "Qual o vídeo game do gênero aventura mais bem avaliado em 2020?",
   "id": "14de2076a5b2d04"
  },
  {
   "metadata": {
    "ExecuteTime": {
     "end_time": "2024-07-23T17:20:57.312287Z",
     "start_time": "2024-07-23T17:20:55.332529Z"
    }
   },
   "cell_type": "code",
   "source": "df_titles.select('genres').distinct().show()",
   "id": "f949c3cba2de5765",
   "outputs": [
    {
     "name": "stdout",
     "output_type": "stream",
     "text": [
      "+--------------------+\n",
      "|              genres|\n",
      "+--------------------+\n",
      "|        Comedy,Sport|\n",
      "|  Action,War,Western|\n",
      "|Action,Adventure,...|\n",
      "|Documentary,Drama...|\n",
      "|Adult,Comedy,Musical|\n",
      "|  Crime,Horror,Short|\n",
      "|Animation,Sci-Fi,War|\n",
      "|Documentary,News,...|\n",
      "| Adult,Horror,Sci-Fi|\n",
      "|Fantasy,Horror,Mu...|\n",
      "| Music,Musical,Short|\n",
      "| Documentary,Western|\n",
      "|Adventure,Family,...|\n",
      "|Comedy,Drama,Western|\n",
      "|Game-Show,Reality-TV|\n",
      "|Biography,Reality...|\n",
      "|Film-Noir,Horror,...|\n",
      "|Fantasy,Mystery,T...|\n",
      "|Adventure,Crime,M...|\n",
      "|Documentary,Myste...|\n",
      "+--------------------+\n",
      "only showing top 20 rows\n",
      "\n"
     ]
    }
   ],
   "execution_count": 36
  },
  {
   "metadata": {
    "ExecuteTime": {
     "end_time": "2024-07-23T17:28:25.172809Z",
     "start_time": "2024-07-23T17:28:24.989448Z"
    }
   },
   "cell_type": "code",
   "source": [
    "(df_join.filter((col('genres').contains('Adventure')) &\n",
    "                (df_join.titleType == 'videoGame') &\n",
    "                (df_join.startYear == '2020'))\n",
    " .sort(df_ratings.averageRating.desc())\n",
    " .show(1)\n",
    " )"
   ],
   "id": "5826aac414a62c72",
   "outputs": [
    {
     "name": "stdout",
     "output_type": "stream",
     "text": [
      "+----------+---------+---------------+---------------+-------+---------+-------+--------------+--------------------+----------+-------------+--------+\n",
      "|    tconst|titleType|   primaryTitle|  originalTitle|isAdult|startYear|endYear|runtimeMinutes|              genres|    tconst|averageRating|numVotes|\n",
      "+----------+---------+---------------+---------------+-------+---------+-------+--------------+--------------------+----------+-------------+--------+\n",
      "|tt11321196|videoGame|Half-Life: Alyx|Half-Life: Alyx|      0|     2020|     \\N|            \\N|Action,Adventure,...|tt11321196|          9.5|     506|\n",
      "+----------+---------+---------------+---------------+-------+---------+-------+--------------+--------------------+----------+-------------+--------+\n",
      "only showing top 1 row\n",
      "\n"
     ]
    }
   ],
   "execution_count": 49
  },
  {
   "metadata": {},
   "cell_type": "markdown",
   "source": "Quantos títulos de filmes diferentes existem? Use df_titles.select('primaryTitle').distinct().count().",
   "id": "dddbf1b7bc76c8f5"
  },
  {
   "metadata": {
    "ExecuteTime": {
     "end_time": "2024-07-23T17:32:12.092924Z",
     "start_time": "2024-07-23T17:32:06.772950Z"
    }
   },
   "cell_type": "code",
   "source": "df_titles.select('primaryTitle').distinct().count()",
   "id": "cf1006c5527034bd",
   "outputs": [
    {
     "data": {
      "text/plain": [
       "3931670"
      ]
     },
     "execution_count": 5,
     "metadata": {},
     "output_type": "execute_result"
    }
   ],
   "execution_count": 5
  },
  {
   "metadata": {},
   "cell_type": "markdown",
   "source": "Qual a duração média dos filmes com conteúdo adulto? Use uma combinação de filter() e describe().",
   "id": "9d3f4fb31a55b491"
  },
  {
   "metadata": {
    "ExecuteTime": {
     "end_time": "2024-07-23T17:33:18.150470Z",
     "start_time": "2024-07-23T17:33:16.084310Z"
    }
   },
   "cell_type": "code",
   "source": "df_titles.filter(df_titles.isAdult == 1).describe().show()",
   "id": "cd76c45822dc948a",
   "outputs": [
    {
     "name": "stdout",
     "output_type": "stream",
     "text": [
      "+-------+---------+---------+--------------------+--------------------+-------+------------------+------------------+-----------------+------+\n",
      "|summary|   tconst|titleType|        primaryTitle|       originalTitle|isAdult|         startYear|           endYear|   runtimeMinutes|genres|\n",
      "+-------+---------+---------+--------------------+--------------------+-------+------------------+------------------+-----------------+------+\n",
      "|  count|   250127|   250127|              250127|              250127| 250127|            250127|            250127|           250127|250127|\n",
      "|   mean|     null|     null|            Infinity|            Infinity|    1.0|2009.9655151651386|2013.4869358669835|92.79938555059914|  null|\n",
      "| stddev|     null|     null|                 NaN|                 NaN|    0.0| 9.116491116782225| 6.198536337845558|57.18982244754777|  null|\n",
      "|    min|tt0060313|    movie|\"A Different Side...|\"A Different Side...|      1|              1901|              1980|                1|Action|\n",
      "|    max|tt9916266|videoGame|öffentliche Demüt...|öffentliche Demüt...|      1|                \\N|                \\N|               \\N|    \\N|\n",
      "+-------+---------+---------+--------------------+--------------------+-------+------------------+------------------+-----------------+------+\n",
      "\n"
     ]
    }
   ],
   "execution_count": 7
  },
  {
   "metadata": {},
   "cell_type": "markdown",
   "source": "Quantos filmes têm o título atual (“primary”) diferente do título original? Use uma combinação de filter, e count().",
   "id": "fa6d9fac8440540d"
  },
  {
   "metadata": {
    "ExecuteTime": {
     "end_time": "2024-07-23T17:34:04.483027Z",
     "start_time": "2024-07-23T17:34:03.637502Z"
    }
   },
   "cell_type": "code",
   "source": "df_titles.filter(df_titles.primaryTitle != df_titles.originalTitle).count()",
   "id": "47b0fef2abab24f3",
   "outputs": [
    {
     "data": {
      "text/plain": [
       "125056"
      ]
     },
     "execution_count": 8,
     "metadata": {},
     "output_type": "execute_result"
    }
   ],
   "execution_count": 8
  },
  {
   "metadata": {},
   "cell_type": "markdown",
   "source": "Qual o filme que tem o nome mais longo? Dica: consulte https://sparkbyexamples.com/spark/spark-using-length-size-of-a-dataframe-column/ Links to an external site.e use algo como df_titles.orderBy(length(col(\"primaryTitle\")).desc()).",
   "id": "dafb5ed3c35fde4b"
  },
  {
   "metadata": {
    "ExecuteTime": {
     "end_time": "2024-07-23T17:34:45.503332Z",
     "start_time": "2024-07-23T17:34:43.911686Z"
    }
   },
   "cell_type": "code",
   "source": "df_titles.orderBy(length(col(\"primaryTitle\")).desc()).show(1)",
   "id": "c42a0838bc7f600b",
   "outputs": [
    {
     "name": "stdout",
     "output_type": "stream",
     "text": [
      "+----------+---------+--------------------+--------------------+-------+---------+-------+--------------+------+\n",
      "|    tconst|titleType|        primaryTitle|       originalTitle|isAdult|startYear|endYear|runtimeMinutes|genres|\n",
      "+----------+---------+--------------------+--------------------+-------+---------+-------+--------------+------+\n",
      "|tt12985206|    video|Otoko wa chi _ ko...|Otoko wa chi _ ko...|      1|     2020|     \\N|            99| Adult|\n",
      "+----------+---------+--------------------+--------------------+-------+---------+-------+--------------+------+\n",
      "only showing top 1 row\n",
      "\n"
     ]
    }
   ],
   "execution_count": 9
  },
  {
   "metadata": {},
   "cell_type": "markdown",
   "source": "Qual filme tem a maior quantidade de votos? Dica: Use describe().",
   "id": "395c09afde5e23fb"
  },
  {
   "metadata": {
    "ExecuteTime": {
     "end_time": "2024-07-23T17:40:50.864186Z",
     "start_time": "2024-07-23T17:40:50.197915Z"
    }
   },
   "cell_type": "code",
   "source": [
    "(df_join.\n",
    " filter(df_join.titleType.isin(\"movie\", \"tvMovie\"))\n",
    " # .describe(['numVotes'])\n",
    " .describe(['tconst','numVotes'])\n",
    " .show())"
   ],
   "id": "8136f218f27a114f",
   "outputs": [
    {
     "name": "stdout",
     "output_type": "stream",
     "text": [
      "+-------+---------+------------------+\n",
      "|summary|   tconst|          numVotes|\n",
      "+-------+---------+------------------+\n",
      "|  count|   267542|            267542|\n",
      "|   mean|     null| 3413.902878800338|\n",
      "| stddev|     null|32827.997305655605|\n",
      "|    min|tt0000502|                 5|\n",
      "|    max|tt9916538|           2449517|\n",
      "+-------+---------+------------------+\n",
      "\n"
     ]
    }
   ],
   "execution_count": 29
  },
  {
   "metadata": {
    "ExecuteTime": {
     "end_time": "2024-07-23T17:41:45.772715Z",
     "start_time": "2024-07-23T17:41:45.648660Z"
    }
   },
   "cell_type": "code",
   "source": "df_join.filter(df_join.numVotes == '2449517').show()",
   "id": "ff6cb38d36c37501",
   "outputs": [
    {
     "name": "stdout",
     "output_type": "stream",
     "text": [
      "+---------+---------+--------------------+--------------------+-------+---------+-------+--------------+------+-------------+--------+\n",
      "|   tconst|titleType|        primaryTitle|       originalTitle|isAdult|startYear|endYear|runtimeMinutes|genres|averageRating|numVotes|\n",
      "+---------+---------+--------------------+--------------------+-------+---------+-------+--------------+------+-------------+--------+\n",
      "|tt0111161|    movie|The Shawshank Red...|The Shawshank Red...|      0|     1994|     \\N|           142| Drama|          9.3| 2449517|\n",
      "+---------+---------+--------------------+--------------------+-------+---------+-------+--------------+------+-------------+--------+\n",
      "\n"
     ]
    }
   ],
   "execution_count": 31
  },
  {
   "metadata": {},
   "cell_type": "markdown",
   "source": "Qual é a menor nota média de um filme? Use describe().",
   "id": "7e03c792ca1e08a1"
  },
  {
   "metadata": {
    "ExecuteTime": {
     "end_time": "2024-07-23T17:42:34.111785Z",
     "start_time": "2024-07-23T17:42:33.506826Z"
    }
   },
   "cell_type": "code",
   "source": "df_join.describe('averageRating').show()",
   "id": "add2fc6a007d9df8",
   "outputs": [
    {
     "name": "stdout",
     "output_type": "stream",
     "text": [
      "+-------+------------------+\n",
      "|summary|     averageRating|\n",
      "+-------+------------------+\n",
      "|  count|           1182639|\n",
      "|   mean|  6.91702835776597|\n",
      "| stddev|1.3974964575775894|\n",
      "|    min|               1.0|\n",
      "|    max|              10.0|\n",
      "+-------+------------------+\n",
      "\n"
     ]
    }
   ],
   "execution_count": 32
  }
 ],
 "metadata": {
  "kernelspec": {
   "display_name": "Python 3",
   "language": "python",
   "name": "python3"
  },
  "language_info": {
   "codemirror_mode": {
    "name": "ipython",
    "version": 2
   },
   "file_extension": ".py",
   "mimetype": "text/x-python",
   "name": "python",
   "nbconvert_exporter": "python",
   "pygments_lexer": "ipython2",
   "version": "2.7.6"
  }
 },
 "nbformat": 4,
 "nbformat_minor": 5
}
