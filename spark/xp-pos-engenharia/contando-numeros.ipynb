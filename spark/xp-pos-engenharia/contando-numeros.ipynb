{
 "cells": [
  {
   "cell_type": "code",
   "id": "initial_id",
   "metadata": {
    "collapsed": true,
    "ExecuteTime": {
     "end_time": "2024-07-26T22:55:25.763338Z",
     "start_time": "2024-07-26T22:55:25.616316Z"
    }
   },
   "source": [
    "import math\n",
    "import os\n",
    "import sys\n",
    "from datetime import datetime as dt, timedelta\n",
    "from pathlib import Path\n",
    "\n",
    "import requests\n",
    "from pyspark.sql import SparkSession\n",
    "import pyspark.sql.functions as f\n",
    "\n",
    "from operator import add\n",
    "\n",
    "# Required for Spark to find Python executable\n",
    "os.environ['PYSPARK_PYTHON'] = sys.executable\n",
    "os.environ['PYSPARK_DRIVER_PYTHON'] = sys.executable"
   ],
   "outputs": [],
   "execution_count": 1
  },
  {
   "metadata": {
    "ExecuteTime": {
     "end_time": "2024-07-27T11:24:36.996718Z",
     "start_time": "2024-07-27T11:24:35.200108Z"
    }
   },
   "cell_type": "code",
   "source": "spark = SparkSession.builder.appName(\"contando-numeros\").getOrCreate()",
   "id": "5ffa382c5e1dd861",
   "outputs": [
    {
     "name": "stderr",
     "output_type": "stream",
     "text": [
      "24/07/27 08:24:36 WARN Utils: Your hostname, Alissons-MacBook-Pro.local resolves to a loopback address: 127.0.0.1; using 192.168.1.46 instead (on interface en0)\n",
      "24/07/27 08:24:36 WARN Utils: Set SPARK_LOCAL_IP if you need to bind to another address\n",
      "Setting default log level to \"WARN\".\n",
      "To adjust logging level use sc.setLogLevel(newLevel). For SparkR, use setLogLevel(newLevel).\n",
      "24/07/27 08:24:36 WARN NativeCodeLoader: Unable to load native-hadoop library for your platform... using builtin-java classes where applicable\n"
     ]
    }
   ],
   "execution_count": 2
  },
  {
   "metadata": {
    "ExecuteTime": {
     "end_time": "2024-07-27T11:25:48.978141Z",
     "start_time": "2024-07-27T11:25:48.974846Z"
    }
   },
   "cell_type": "code",
   "source": [
    "# spark.version\n",
    "spark.stop()"
   ],
   "id": "a198fe274befcb71",
   "outputs": [
    {
     "data": {
      "text/plain": [
       "'3.4.1'"
      ]
     },
     "execution_count": 3,
     "metadata": {},
     "output_type": "execute_result"
    }
   ],
   "execution_count": 3
  },
  {
   "metadata": {
    "ExecuteTime": {
     "end_time": "2024-07-22T23:26:50.993575Z",
     "start_time": "2024-07-22T23:26:50.940144Z"
    }
   },
   "cell_type": "code",
   "source": [
    "numbers_file = f\"{Path().absolute()}\\\\numbers.txt\"\n",
    "\n",
    "linesRdd = spark.read.text(numbers_file).rdd.map(lambda r: r[0])"
   ],
   "id": "6e892814f818a214",
   "outputs": [],
   "execution_count": 24
  },
  {
   "metadata": {
    "ExecuteTime": {
     "end_time": "2024-07-22T23:26:52.887905Z",
     "start_time": "2024-07-22T23:26:52.871143Z"
    }
   },
   "cell_type": "code",
   "source": "print(f\"Number of partitions: {linesRdd.getNumPartitions()}\")",
   "id": "d876945a13dc5308",
   "outputs": [
    {
     "name": "stdout",
     "output_type": "stream",
     "text": [
      "Number of partitions: 24\n"
     ]
    }
   ],
   "execution_count": 25
  },
  {
   "metadata": {
    "ExecuteTime": {
     "end_time": "2024-07-22T23:27:28.069331Z",
     "start_time": "2024-07-22T23:27:28.056084Z"
    }
   },
   "cell_type": "code",
   "source": [
    "countsRdd = (linesRdd.sample(False, 0.01)\n",
    "             .flatMap(lambda line: line.split(' '))\n",
    "             .filter(lambda number: int(number) % 2 == 0)\n",
    "             .map(lambda number: (number, 1))\n",
    "             .reduceByKey(add))\n",
    "\n",
    "print('Rodou')"
   ],
   "id": "c9df0f18cf06a5b7",
   "outputs": [
    {
     "name": "stdout",
     "output_type": "stream",
     "text": [
      "Rodou\n"
     ]
    }
   ],
   "execution_count": 28
  },
  {
   "metadata": {
    "ExecuteTime": {
     "end_time": "2024-07-22T23:32:46.524536Z",
     "start_time": "2024-07-22T23:32:35.319463Z"
    }
   },
   "cell_type": "code",
   "source": [
    "output = countsRdd.collect()\n",
    "for (number, count) in output:\n",
    "    print(number, count)"
   ],
   "id": "1bef6fe61e4f5059",
   "outputs": [
    {
     "name": "stdout",
     "output_type": "stream",
     "text": [
      "4 501433\n",
      "0 501321\n",
      "6 500477\n",
      "8 500176\n",
      "2 500972\n",
      "10 500293\n"
     ]
    }
   ],
   "execution_count": 31
  },
  {
   "metadata": {
    "ExecuteTime": {
     "end_time": "2024-07-22T23:33:08.276834Z",
     "start_time": "2024-07-22T23:32:51.370050Z"
    }
   },
   "cell_type": "code",
   "source": [
    "linesRdd.count()\n",
    "#50000000 50 milhoes"
   ],
   "id": "f3c2cc962f5086f9",
   "outputs": [
    {
     "data": {
      "text/plain": [
       "50000000"
      ]
     },
     "execution_count": 32,
     "metadata": {},
     "output_type": "execute_result"
    }
   ],
   "execution_count": 32
  }
 ],
 "metadata": {
  "kernelspec": {
   "display_name": "Python 3",
   "language": "python",
   "name": "python3"
  },
  "language_info": {
   "codemirror_mode": {
    "name": "ipython",
    "version": 2
   },
   "file_extension": ".py",
   "mimetype": "text/x-python",
   "name": "python",
   "nbconvert_exporter": "python",
   "pygments_lexer": "ipython2",
   "version": "2.7.6"
  }
 },
 "nbformat": 4,
 "nbformat_minor": 5
}
