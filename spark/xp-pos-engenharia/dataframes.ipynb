{
 "cells": [
  {
   "cell_type": "code",
   "id": "2ab56561",
   "metadata": {},
   "source": [
    "# https://data.sfgov.org/Public-Safety/Fire-Department-Calls-for-Service/nuek-vuh3\n",
    "# https://www.databricks.com/notebooks/gallery/SanFranciscoFireCallsAnalysis.html\n",
    "# Download aqui: # https://raw.githubusercontent.com/databricks/LearningSparkV2/master/chapter3/data/sf-fire-calls.csv\n",
    "\n",
    "import os\n",
    "import sys\n",
    "\n",
    "from pyspark.sql import SparkSession\n",
    "\n",
    "# Required for Spark to find Python executable\n",
    "os.environ['PYSPARK_PYTHON'] = sys.executable\n",
    "os.environ['PYSPARK_DRIVER_PYTHON'] = sys.executable\n",
    "\n",
    "spark = SparkSession \\\n",
    "    .builder \\\n",
    "    .appName(\"Aula 3.2\") \\\n",
    "    .getOrCreate()\n",
    "\n",
    "spark.version"
   ],
   "outputs": [],
   "execution_count": null
  },
  {
   "cell_type": "code",
   "id": "bdd17ea8",
   "metadata": {},
   "source": [
    "# spark.stop()\n",
    "fire_df = spark.read.csv('sf-fire-calls.csv', header=True, inferSchema=True)"
   ],
   "outputs": [],
   "execution_count": null
  },
  {
   "metadata": {},
   "cell_type": "code",
   "source": "fire_df.printSchema()",
   "id": "ef9de7dcb6d2e92d",
   "outputs": [],
   "execution_count": null
  },
  {
   "cell_type": "code",
   "id": "fd1c4c43",
   "metadata": {},
   "source": [
    "fire_df.head(5)"
   ],
   "outputs": [],
   "execution_count": null
  },
  {
   "cell_type": "code",
   "id": "dc41c6c2",
   "metadata": {},
   "source": [
    "fire_df.count()"
   ],
   "outputs": [],
   "execution_count": null
  },
  {
   "cell_type": "code",
   "id": "94de2937",
   "metadata": {},
   "source": [
    "fire_df.select('CallType').distinct().show()"
   ],
   "outputs": [],
   "execution_count": null
  },
  {
   "cell_type": "code",
   "id": "1aa4ab9f",
   "metadata": {},
   "source": [
    "fire_df.select('CallType').distinct().count()"
   ],
   "outputs": [],
   "execution_count": null
  },
  {
   "cell_type": "code",
   "id": "3f65f13a",
   "metadata": {},
   "source": [
    "from pyspark.sql.functions import col\n",
    "\n",
    "fire_df.groupBy('CallType').count().sort(col(\"count\").desc()).show()"
   ],
   "outputs": [],
   "execution_count": null
  },
  {
   "cell_type": "code",
   "id": "913ccfbd",
   "metadata": {},
   "source": [
    "fire_df.groupBy('CallType', 'UnitType').count().sort(col(\"count\").desc()).show()"
   ],
   "outputs": [],
   "execution_count": null
  },
  {
   "cell_type": "code",
   "id": "d168f4a4",
   "metadata": {},
   "source": [
    "fire_df = fire_df.withColumnRenamed(\"Delay\", \"ResponseDelayedinMins\")\n",
    "\n",
    "fire_df.printSchema()"
   ],
   "outputs": [],
   "execution_count": null
  },
  {
   "cell_type": "code",
   "id": "e683f185",
   "metadata": {},
   "source": [
    "fire_df.select(\"CallNumber\",\"ResponseDelayedinMins\").where(col(\"ResponseDelayedinMins\") > 15).show(5)\n"
   ],
   "outputs": [],
   "execution_count": null
  },
  {
   "cell_type": "code",
   "id": "90903a48",
   "metadata": {},
   "source": [
    "fire_df \\\n",
    " .select(\"CallType\", \"ZipCode\")  \\\n",
    " .where(col(\"CallType\").isNotNull()) \\\n",
    " .groupBy(\"CallType\", \"Zipcode\") \\\n",
    " .count() \\\n",
    " .orderBy(\"count\", ascending=False) \\\n",
    " .show(3)"
   ],
   "outputs": [],
   "execution_count": null
  }
 ],
 "metadata": {
  "kernelspec": {
   "display_name": "Python 3 (ipykernel)",
   "language": "python",
   "name": "python3"
  },
  "language_info": {
   "codemirror_mode": {
    "name": "ipython",
    "version": 3
   },
   "file_extension": ".py",
   "mimetype": "text/x-python",
   "name": "python",
   "nbconvert_exporter": "python",
   "pygments_lexer": "ipython3",
   "version": "3.10.6"
  }
 },
 "nbformat": 4,
 "nbformat_minor": 5
}
