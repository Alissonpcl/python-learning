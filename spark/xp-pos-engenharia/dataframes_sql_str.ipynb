{
 "cells": [
  {
   "cell_type": "code",
   "id": "2ab56561",
   "metadata": {},
   "source": [
    "# https://data.sfgov.org/Public-Safety/Fire-Department-Calls-for-Service/nuek-vuh3\n",
    "# https://www.databricks.com/notebooks/gallery/SanFranciscoFireCallsAnalysis.html\n",
    "# Download aqui: # https://raw.githubusercontent.com/databricks/LearningSparkV2/master/chapter3/data/sf-fire-calls.csv\n",
    "\n",
    "import os\n",
    "import sys\n",
    "\n",
    "from pyspark.sql import SparkSession\n",
    "\n",
    "# Required for Spark to find Python executable\n",
    "os.environ['PYSPARK_PYTHON'] = sys.executable\n",
    "os.environ['PYSPARK_DRIVER_PYTHON'] = sys.executable\n",
    "\n",
    "spark = SparkSession \\\n",
    "    .builder \\\n",
    "    .appName(\"Aula 3.2\") \\\n",
    "    .getOrCreate()\n",
    "\n",
    "spark.version"
   ],
   "outputs": [],
   "execution_count": null
  },
  {
   "cell_type": "code",
   "id": "bdd17ea8",
   "metadata": {},
   "source": [
    "# spark.stop()\n",
    "fire_df = spark.read.csv('sf-fire-calls.csv', header=True, inferSchema=True)"
   ],
   "outputs": [],
   "execution_count": null
  },
  {
   "metadata": {},
   "cell_type": "code",
   "source": "fire_df.printSchema()",
   "id": "ef9de7dcb6d2e92d",
   "outputs": [],
   "execution_count": null
  },
  {
   "cell_type": "code",
   "id": "fd1c4c43",
   "metadata": {},
   "source": [
    "fire_df.head(5)"
   ],
   "outputs": [],
   "execution_count": null
  },
  {
   "cell_type": "code",
   "id": "dc41c6c2",
   "metadata": {},
   "source": "fire_df.createOrReplaceTempView('fire_calls')",
   "outputs": [],
   "execution_count": null
  },
  {
   "cell_type": "code",
   "id": "94de2937",
   "metadata": {},
   "source": [
    "# fire_df.count()\n",
    "spark.sql('SELECT COUNT(*) FROM fire_calls').show()"
   ],
   "outputs": [],
   "execution_count": null
  },
  {
   "metadata": {},
   "cell_type": "code",
   "source": [
    "# fire_df.select('CallType').distinct().show()\n",
    "spark.sql('SELECT DISTINCT calltype FROM fire_calls').show()"
   ],
   "id": "8a6743f7628e8132",
   "outputs": [],
   "execution_count": null
  },
  {
   "cell_type": "code",
   "id": "1aa4ab9f",
   "metadata": {},
   "source": [
    "# fire_df.select('CallType').distinct().count()\n",
    "spark.sql('SELECT COUNT(DISTINCT calltype) FROM fire_calls').show()"
   ],
   "outputs": [],
   "execution_count": null
  },
  {
   "cell_type": "code",
   "id": "3f65f13a",
   "metadata": {},
   "source": [
    "# from pyspark.sql.functions import col\n",
    "# fire_df.groupBy('CallType').count().sort(col(\"count\").desc()).show()\n",
    "spark.sql(\"SELECT calltype, \"\n",
    "          \"COUNT(*) AS ligacoes \"\n",
    "          \"FROM fire_calls \"\n",
    "          \"GROUP BY 1 \"\n",
    "          \"ORDER BY 2 DESC\").show()"
   ],
   "outputs": [],
   "execution_count": null
  },
  {
   "cell_type": "code",
   "id": "e683f185",
   "metadata": {},
   "source": [
    "# fire_df.select(\"CallNumber\", \"Delay\").where(col(\"Delay\") > 15).show(5)\n",
    "spark.sql(\"SELECT callnumber,  Delay \"\n",
    "          \"FROM fire_calls \"\n",
    "          \"WHERE Delay > 15\").show(5)"
   ],
   "outputs": [],
   "execution_count": null
  },
  {
   "cell_type": "code",
   "id": "90903a48",
   "metadata": {},
   "source": [
    "# fire_df \\\n",
    "#     .select(\"CallType\", \"ZipCode\") \\\n",
    "#     .where(col(\"CallType\").isNotNull()) \\\n",
    "#     .groupBy(\"CallType\", \"Zipcode\") \\\n",
    "#     .count() \\\n",
    "#     .orderBy(\"count\", ascending=False) \\\n",
    "#     .show()\n",
    "spark.sql(\"SELECT calltype, zipcode, \"\n",
    "          \"COUNT(*) AS calls \"\n",
    "          \"FROM fire_calls \"\n",
    "          \"WHERE calltype IS NOT NULL \"\n",
    "          \"GROUP BY calltype, zipcode \"\n",
    "          \"ORDER BY 3 DESC\").show(3)"
   ],
   "outputs": [],
   "execution_count": null
  },
  {
   "metadata": {},
   "cell_type": "code",
   "source": "",
   "id": "d3571bc740f05ebe",
   "outputs": [],
   "execution_count": null
  }
 ],
 "metadata": {
  "kernelspec": {
   "display_name": "Python 3 (ipykernel)",
   "language": "python",
   "name": "python3"
  },
  "language_info": {
   "codemirror_mode": {
    "name": "ipython",
    "version": 3
   },
   "file_extension": ".py",
   "mimetype": "text/x-python",
   "name": "python",
   "nbconvert_exporter": "python",
   "pygments_lexer": "ipython3",
   "version": "3.10.6"
  }
 },
 "nbformat": 4,
 "nbformat_minor": 5
}
