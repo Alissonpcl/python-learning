{
 "cells": [
  {
   "metadata": {},
   "cell_type": "markdown",
   "source": "# Imports",
   "id": "2184f9c3d9c39340"
  },
  {
   "cell_type": "code",
   "id": "initial_id",
   "metadata": {
    "collapsed": true
   },
   "source": [
    "import os\n",
    "import sys\n",
    "\n",
    "import pyspark.sql.functions as f\n",
    "from pyspark.sql import SparkSession\n",
    "from pyspark.sql.types import IntegerType\n",
    "\n",
    "# Required for Spark to find Python executable\n",
    "os.environ['PYSPARK_PYTHON'] = sys.executable\n",
    "os.environ['PYSPARK_DRIVER_PYTHON'] = sys.executable"
   ],
   "outputs": [],
   "execution_count": null
  },
  {
   "metadata": {
    "ExecuteTime": {
     "end_time": "2024-08-08T17:12:25.235604Z",
     "start_time": "2024-08-08T17:12:12.798107Z"
    }
   },
   "cell_type": "code",
   "source": "spark = SparkSession.builder.appName(\"pipedrive_deals\").getOrCreate()",
   "id": "4d77cc17b8bb5f0d",
   "outputs": [],
   "execution_count": 2
  },
  {
   "metadata": {
    "ExecuteTime": {
     "end_time": "2024-08-08T17:12:29.943262Z",
     "start_time": "2024-08-08T17:12:26.858947Z"
    }
   },
   "cell_type": "code",
   "source": "df_deals = spark.read.json('data/pipedrive_deals.json', multiLine=True)",
   "id": "e044b61a3c2a11ac",
   "outputs": [],
   "execution_count": 3
  },
  {
   "metadata": {},
   "cell_type": "code",
   "source": [
    "# df_deal_fields.count()\n",
    "df_deals.printSchema()"
   ],
   "id": "2ef52625cd0f9939",
   "outputs": [],
   "execution_count": null
  },
  {
   "metadata": {
    "ExecuteTime": {
     "end_time": "2024-08-08T17:36:07.304512Z",
     "start_time": "2024-08-08T17:36:07.271414Z"
    }
   },
   "cell_type": "code",
   "source": [
    "column_to_keep = [\n",
    "    'active',\n",
    "    'deleted',\n",
    "    f.col('next_activity_date').cast(\"date\"),\n",
    "    f.col('last_activity_date').cast(\"date\"),\n",
    "    f.col('close_time').cast(\"timestamp\"),\n",
    "    f.col('won_time').cast(\"timestamp\"),\n",
    "    f.col('lost_time').cast(\"timestamp\"),\n",
    "    f.col('add_time').cast(\"timestamp\"),\n",
    "    f.col('update_time').cast(\"timestamp\"),\n",
    "    f.col('stage_change_time').cast(\"timestamp\"),\n",
    "    'id',\n",
    "    'stage_id',\n",
    "    f.col('next_activity_id').cast('long'),\n",
    "    f.col('last_activity_id').cast('long'),\n",
    "    'pipeline_id',\n",
    "    'activities_count',\n",
    "    'done_activities_count',\n",
    "    'undone_activities_count',\n",
    "    'stage_order_nr',\n",
    "    f.col('person_id.value').alias(\"person_id\"),\n",
    "    f.col('user_id.value').alias(\"user_id\"),\n",
    "    f.split(f.col('label'), ',').cast('array<int>').alias('labels'),\n",
    "    'status',\n",
    "    'title',\n",
    "    'lost_reason'\n",
    "]"
   ],
   "id": "2fcebdc7568eedfd",
   "outputs": [],
   "execution_count": 19
  },
  {
   "metadata": {
    "ExecuteTime": {
     "end_time": "2024-08-08T17:36:09.062886Z",
     "start_time": "2024-08-08T17:36:09.057373Z"
    }
   },
   "cell_type": "code",
   "source": [
    "custom_columns_to_keep = [\n",
    "    {\n",
    "        'key': '887fca406fde38eaf6ecdedbc0a2da27c8b2d1cb',\n",
    "        'alias': 'data_renovacao_anual',\n",
    "        'cast': 'date'\n",
    "    },\n",
    "    {\n",
    "        'key': 'd867c2c23f0e995c0381e33f0a06f2174ed111a8',\n",
    "        'alias': 'cs_data_atividade_renovacao',\n",
    "        'cast': 'date'\n",
    "    },\n",
    "    {\n",
    "        'key': '97a9344d1155a76ecbbb118db5265c29cab5c26f',\n",
    "        'alias': 'plano',\n",
    "        'cast': 'int'\n",
    "    },\n",
    "    {\n",
    "        'key': '46c1f54f65dbbe8ec25d9897d3645306f15f1364',\n",
    "        'alias': 'possui_secretaria',\n",
    "        'cast': 'int'\n",
    "    },\n",
    "    {\n",
    "        'key': '6daed313ce9dbbd6c1d1cf12a1cba7358a453d27',\n",
    "        'alias': 'possui_computador_clinica',\n",
    "        'cast': 'int'\n",
    "    },\n",
    "    {\n",
    "        'key': 'cd1807339972e4fba0dec4509635a1e897fc9de5',\n",
    "        'alias': 'qual_problema_deseja_resolver',\n",
    "        'cast': 'array<int>',\n",
    "        'split': True\n",
    "    },\n",
    "    {\n",
    "        'key': 'ed8a8d7d4ca118d2472eea5b8a0ac2bc6cbf2052',\n",
    "        'alias': 'resultado_desejado',\n",
    "        'cast': 'array<int>',\n",
    "        'split': True\n",
    "    },\n",
    "    {\n",
    "        'key': '9fc8a3a860f1fee5ca055bb289b45b66ea0e7a9b',\n",
    "        'alias': 'detalhes_cancelamento',\n",
    "        'cast': 'string'\n",
    "    },\n",
    "    {\n",
    "        'key': '4f9ad922ecba0372694470a41b6c13ece01ec6d3',\n",
    "        'alias': 'origem_vendas',\n",
    "        'cast': 'string'\n",
    "    },\n",
    "    {\n",
    "        'key': 'ba8520544e3f3fb8e8b8b5a6e42f475a3fc3a307',\n",
    "        'alias': 'link_vendas',\n",
    "        'cast': 'string'\n",
    "    },\n",
    "    {\n",
    "        'key': '58b5a663994afc6258d0d7051856ab675b6118d6',\n",
    "        'alias': 'papel_usuario',\n",
    "        'cast': 'string'\n",
    "    },\n",
    "    {\n",
    "        'key': 'eabdab9be01e6e50406c904159ed4639f8a0a2e0',\n",
    "        'alias': 'cs_ponto_de_atencao',\n",
    "        'cast': 'string'\n",
    "    }\n",
    "]"
   ],
   "id": "31a11a39a25769b6",
   "outputs": [],
   "execution_count": 20
  },
  {
   "metadata": {
    "ExecuteTime": {
     "end_time": "2024-08-08T17:36:11.629311Z",
     "start_time": "2024-08-08T17:36:11.579836Z"
    }
   },
   "cell_type": "code",
   "source": [
    "existing_columns = df_deals.columns\n",
    "\n",
    "for custom_column in custom_columns_to_keep:\n",
    "    key = custom_column['key']\n",
    "    if key in existing_columns:\n",
    "\n",
    "        if 'split' in custom_column and custom_column['split']:\n",
    "            column_to_keep.append(f.split(f.col(key), ',')\n",
    "                                  .alias(custom_column['alias'])\n",
    "                                  .cast(custom_column['cast']))\n",
    "            continue\n",
    "\n",
    "        column_to_keep.append(f.col(key)\n",
    "                              .alias(custom_column['alias'])\n",
    "                              .cast(custom_column['cast']))\n",
    "\n",
    "print(column_to_keep)"
   ],
   "id": "6d33d6f6b56d1160",
   "outputs": [
    {
     "name": "stdout",
     "output_type": "stream",
     "text": [
      "['active', 'deleted', Column<'CAST(next_activity_date AS DATE)'>, Column<'CAST(last_activity_date AS DATE)'>, Column<'CAST(close_time AS TIMESTAMP)'>, Column<'CAST(won_time AS TIMESTAMP)'>, Column<'CAST(lost_time AS TIMESTAMP)'>, Column<'CAST(add_time AS TIMESTAMP)'>, Column<'CAST(update_time AS TIMESTAMP)'>, Column<'CAST(stage_change_time AS TIMESTAMP)'>, 'id', 'stage_id', Column<'CAST(next_activity_id AS BIGINT)'>, Column<'CAST(last_activity_id AS BIGINT)'>, 'pipeline_id', 'activities_count', 'done_activities_count', 'undone_activities_count', 'stage_order_nr', Column<'person_id.value AS person_id'>, Column<'user_id.value AS user_id'>, Column<'split(label, ,, -1) AS labels'>, 'status', 'title', 'lost_reason', Column<'CAST(887fca406fde38eaf6ecdedbc0a2da27c8b2d1cb AS data_renovacao_anual AS DATE)'>, Column<'CAST(d867c2c23f0e995c0381e33f0a06f2174ed111a8 AS cs_data_atividade_renovacao AS DATE)'>, Column<'CAST(97a9344d1155a76ecbbb118db5265c29cab5c26f AS plano AS INT)'>, Column<'CAST(46c1f54f65dbbe8ec25d9897d3645306f15f1364 AS possui_secretaria AS INT)'>, Column<'CAST(6daed313ce9dbbd6c1d1cf12a1cba7358a453d27 AS possui_computador_clinica AS INT)'>, Column<'split(cd1807339972e4fba0dec4509635a1e897fc9de5, ,, -1) AS qual_problema_deseja_resolver'>, Column<'split(ed8a8d7d4ca118d2472eea5b8a0ac2bc6cbf2052, ,, -1) AS resultado_desejado'>, Column<'CAST(9fc8a3a860f1fee5ca055bb289b45b66ea0e7a9b AS detalhes_cancelamento AS STRING)'>, Column<'CAST(4f9ad922ecba0372694470a41b6c13ece01ec6d3 AS origem_vendas AS STRING)'>, Column<'CAST(ba8520544e3f3fb8e8b8b5a6e42f475a3fc3a307 AS link_vendas AS STRING)'>, Column<'CAST(58b5a663994afc6258d0d7051856ab675b6118d6 AS papel_usuario AS STRING)'>, Column<'CAST(eabdab9be01e6e50406c904159ed4639f8a0a2e0 AS cs_ponto_de_atencao AS STRING)'>]\n"
     ]
    }
   ],
   "execution_count": 21
  },
  {
   "metadata": {
    "ExecuteTime": {
     "end_time": "2024-08-08T17:36:14.270627Z",
     "start_time": "2024-08-08T17:36:14.228090Z"
    }
   },
   "cell_type": "code",
   "source": "df_deal_fields_selected = df_deals.select(*column_to_keep)",
   "id": "b6d103718326d9c5",
   "outputs": [],
   "execution_count": 22
  },
  {
   "metadata": {
    "ExecuteTime": {
     "end_time": "2024-08-08T17:36:17.257161Z",
     "start_time": "2024-08-08T17:36:17.245997Z"
    }
   },
   "cell_type": "code",
   "source": [
    "# df_deal_fields_data_options.show(2)\n",
    "df_deal_fields_selected.printSchema()"
   ],
   "id": "148e7333c0cf3794",
   "outputs": [
    {
     "name": "stdout",
     "output_type": "stream",
     "text": [
      "root\n",
      " |-- active: boolean (nullable = true)\n",
      " |-- deleted: boolean (nullable = true)\n",
      " |-- next_activity_date: date (nullable = true)\n",
      " |-- last_activity_date: date (nullable = true)\n",
      " |-- close_time: timestamp (nullable = true)\n",
      " |-- won_time: timestamp (nullable = true)\n",
      " |-- lost_time: timestamp (nullable = true)\n",
      " |-- add_time: timestamp (nullable = true)\n",
      " |-- update_time: timestamp (nullable = true)\n",
      " |-- stage_change_time: timestamp (nullable = true)\n",
      " |-- id: long (nullable = true)\n",
      " |-- stage_id: long (nullable = true)\n",
      " |-- next_activity_id: long (nullable = true)\n",
      " |-- last_activity_id: long (nullable = true)\n",
      " |-- pipeline_id: long (nullable = true)\n",
      " |-- activities_count: long (nullable = true)\n",
      " |-- done_activities_count: long (nullable = true)\n",
      " |-- undone_activities_count: long (nullable = true)\n",
      " |-- stage_order_nr: long (nullable = true)\n",
      " |-- person_id: long (nullable = true)\n",
      " |-- user_id: long (nullable = true)\n",
      " |-- labels: array (nullable = true)\n",
      " |    |-- element: integer (containsNull = true)\n",
      " |-- status: string (nullable = true)\n",
      " |-- title: string (nullable = true)\n",
      " |-- lost_reason: string (nullable = true)\n",
      " |-- data_renovacao_anual: date (nullable = true)\n",
      " |-- cs_data_atividade_renovacao: date (nullable = true)\n",
      " |-- plano: integer (nullable = true)\n",
      " |-- possui_secretaria: integer (nullable = true)\n",
      " |-- possui_computador_clinica: integer (nullable = true)\n",
      " |-- qual_problema_deseja_resolver: array (nullable = true)\n",
      " |    |-- element: integer (containsNull = true)\n",
      " |-- resultado_desejado: array (nullable = true)\n",
      " |    |-- element: integer (containsNull = true)\n",
      " |-- detalhes_cancelamento: string (nullable = true)\n",
      " |-- origem_vendas: string (nullable = true)\n",
      " |-- link_vendas: string (nullable = true)\n",
      " |-- papel_usuario: string (nullable = true)\n",
      " |-- cs_ponto_de_atencao: string (nullable = true)\n",
      "\n"
     ]
    }
   ],
   "execution_count": 23
  }
 ],
 "metadata": {
  "kernelspec": {
   "display_name": "Python 3",
   "language": "python",
   "name": "python3"
  },
  "language_info": {
   "codemirror_mode": {
    "name": "ipython",
    "version": 2
   },
   "file_extension": ".py",
   "mimetype": "text/x-python",
   "name": "python",
   "nbconvert_exporter": "python",
   "pygments_lexer": "ipython2",
   "version": "2.7.6"
  }
 },
 "nbformat": 4,
 "nbformat_minor": 5
}
