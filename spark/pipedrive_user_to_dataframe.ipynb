{
 "cells": [
  {
   "metadata": {},
   "cell_type": "markdown",
   "source": "# Imports",
   "id": "2184f9c3d9c39340"
  },
  {
   "cell_type": "code",
   "id": "initial_id",
   "metadata": {
    "collapsed": true
   },
   "source": [
    "import os\n",
    "import sys\n",
    "\n",
    "import pyspark.sql.functions as f\n",
    "from pyspark.sql import SparkSession\n",
    "\n",
    "# Required for Spark to find Python executable\n",
    "os.environ['PYSPARK_PYTHON'] = sys.executable\n",
    "os.environ['PYSPARK_DRIVER_PYTHON'] = sys.executable"
   ],
   "outputs": [],
   "execution_count": null
  },
  {
   "metadata": {},
   "cell_type": "code",
   "source": "spark = SparkSession.builder.appName(\"pipedrive_users\").getOrCreate()",
   "id": "4d77cc17b8bb5f0d",
   "outputs": [],
   "execution_count": null
  },
  {
   "metadata": {},
   "cell_type": "code",
   "source": "df_users = spark.read.json('data/pipedrive_users.json', multiLine=True)",
   "id": "e044b61a3c2a11ac",
   "outputs": [],
   "execution_count": null
  },
  {
   "metadata": {},
   "cell_type": "code",
   "source": [
    "df_users.count()\n",
    "# df_users.printSchema()"
   ],
   "id": "2ef52625cd0f9939",
   "outputs": [],
   "execution_count": null
  },
  {
   "metadata": {},
   "cell_type": "code",
   "source": "df_users.show(5)",
   "id": "987267094e32add",
   "outputs": [],
   "execution_count": null
  },
  {
   "metadata": {},
   "cell_type": "code",
   "source": [
    "df_users_data_expanded = (df_users.select(\"data\")\n",
    "                          .withColumn(\"data_expanded\", f.explode(\"data\"))\n",
    "                          .drop(\"data\"))"
   ],
   "id": "1c5fc640765f0f3",
   "outputs": [],
   "execution_count": null
  },
  {
   "metadata": {},
   "cell_type": "code",
   "source": "df_users_data_expanded.printSchema()",
   "id": "100eb29852dfe035",
   "outputs": [],
   "execution_count": null
  },
  {
   "metadata": {},
   "cell_type": "code",
   "source": "df_users_data_expanded.show(5)",
   "id": "8431e5d23be4d084",
   "outputs": [],
   "execution_count": null
  },
  {
   "metadata": {},
   "cell_type": "code",
   "source": [
    "columns_to_keep = [\"data_expanded.id\",\n",
    "                   \"data_expanded.name\",\n",
    "                   \"data_expanded.created\"\n",
    "                   ]\n",
    "\n",
    "if 'modified' in df_users_data_expanded.select('data_expanded.*').columns:\n",
    "    columns_to_keep.append('data_expanded.modified')\n",
    "\n",
    "df_users_clean = df_users_data_expanded.select(*columns_to_keep)"
   ],
   "id": "7f905505434c9618",
   "outputs": [],
   "execution_count": null
  },
  {
   "metadata": {},
   "cell_type": "code",
   "source": "df_users_clean.show(5)",
   "id": "ee04b55049354b42",
   "outputs": [],
   "execution_count": null
  }
 ],
 "metadata": {
  "kernelspec": {
   "display_name": "Python 3",
   "language": "python",
   "name": "python3"
  },
  "language_info": {
   "codemirror_mode": {
    "name": "ipython",
    "version": 2
   },
   "file_extension": ".py",
   "mimetype": "text/x-python",
   "name": "python",
   "nbconvert_exporter": "python",
   "pygments_lexer": "ipython2",
   "version": "2.7.6"
  }
 },
 "nbformat": 4,
 "nbformat_minor": 5
}
