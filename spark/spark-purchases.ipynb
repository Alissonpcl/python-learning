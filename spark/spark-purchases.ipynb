{
 "cells": [
  {
   "cell_type": "markdown",
   "id": "71f80025413a6e40",
   "metadata": {},
   "source": [
    "# Imports\n",
    "\n"
   ]
  },
  {
   "cell_type": "code",
   "id": "initial_id",
   "metadata": {
    "collapsed": true,
    "ExecuteTime": {
     "end_time": "2025-06-28T18:51:42.583324Z",
     "start_time": "2025-06-28T18:51:42.453143Z"
    }
   },
   "source": [
    "import os\n",
    "import sys\n",
    "from glob import glob\n",
    "\n",
    "from pyspark.sql import SparkSession\n",
    "from pyspark.sql import functions as F\n",
    "\n",
    "# Required for Spark to find Python executable\n",
    "os.environ['PYSPARK_PYTHON'] = sys.executable\n",
    "os.environ['PYSPARK_DRIVER_PYTHON'] = sys.executable\n",
    "\n",
    "# Required to use the correct Java version\n",
    "os.environ['JAVA_HOME'] = '/opt/homebrew/opt/openjdk@17'"
   ],
   "outputs": [],
   "execution_count": 1
  },
  {
   "cell_type": "markdown",
   "id": "b621e83618c1f81d",
   "metadata": {},
   "source": [
    "# Start Spark App"
   ]
  },
  {
   "cell_type": "code",
   "id": "b8ab15b8ffb350db",
   "metadata": {},
   "source": [
    "spark = SparkSession.builder.appName(\"interview-pre\").getOrCreate()"
   ],
   "outputs": [],
   "execution_count": null
  },
  {
   "cell_type": "markdown",
   "id": "6d652d0199921bbf",
   "metadata": {},
   "source": "# Read Purchases JSON files"
  },
  {
   "cell_type": "code",
   "id": "d3dc7da6c43cfcad",
   "metadata": {
    "ExecuteTime": {
     "end_time": "2025-06-28T18:52:27.290822Z",
     "start_time": "2025-06-28T18:52:26.141668Z"
    }
   },
   "source": [
    "json_files = glob(\"../data/purchases_*.json\")\n",
    "\n",
    "# @TODO\n",
    "# Specify the schema since it is not complex and will\n",
    "# make json reading process lighter\n",
    "\n",
    "df_purchases = spark.read.json(json_files, multiLine=True)"
   ],
   "outputs": [],
   "execution_count": 3
  },
  {
   "metadata": {},
   "cell_type": "code",
   "source": "df_purchases.show(10)",
   "id": "99756a00af729d8e",
   "outputs": [],
   "execution_count": null
  },
  {
   "metadata": {},
   "cell_type": "code",
   "source": "df_purchases.printSchema()",
   "id": "47dccca19483732",
   "outputs": [],
   "execution_count": null
  },
  {
   "metadata": {},
   "cell_type": "markdown",
   "source": "## Cast columns types",
   "id": "7b8c5f7738fa32b6"
  },
  {
   "metadata": {
    "ExecuteTime": {
     "end_time": "2025-06-28T18:52:37.659483Z",
     "start_time": "2025-06-28T18:52:37.580628Z"
    }
   },
   "cell_type": "code",
   "source": [
    "df_purchases_columns_cast = df_purchases.withColumns({\n",
    "    'timestamp': F.col('timestamp').cast('timestamp'),\n",
    "    'date': F.to_date('timestamp'),\n",
    "})"
   ],
   "id": "21b1e8bd1efb023f",
   "outputs": [],
   "execution_count": 5
  },
  {
   "metadata": {},
   "cell_type": "code",
   "source": "df_purchases_columns_cast.printSchema()",
   "id": "35c7b61242f1f1fb",
   "outputs": [],
   "execution_count": null
  },
  {
   "metadata": {},
   "cell_type": "code",
   "source": "df_purchases_columns_cast.show(3)",
   "id": "cb08faddd1f6650f",
   "outputs": [],
   "execution_count": null
  },
  {
   "metadata": {},
   "cell_type": "markdown",
   "source": "## Fill missing values",
   "id": "d2b6bc42228e99fe"
  },
  {
   "metadata": {
    "ExecuteTime": {
     "end_time": "2025-06-28T18:52:39.029776Z",
     "start_time": "2025-06-28T18:52:38.995487Z"
    }
   },
   "cell_type": "code",
   "source": [
    "df_purchases_fillna = df_purchases_columns_cast.fillna({\n",
    "    \"channel\": \"No Channel\",\n",
    "    \"discount_code\": \"\"\n",
    "})"
   ],
   "id": "2c1d5bfaa48fef",
   "outputs": [],
   "execution_count": 6
  },
  {
   "metadata": {},
   "cell_type": "code",
   "source": "df_purchases_fillna.show(10)",
   "id": "1e18ab2325db382",
   "outputs": [],
   "execution_count": null
  },
  {
   "metadata": {},
   "cell_type": "markdown",
   "source": "# Read currency conversion CSV",
   "id": "9bb400bbad0ef5ec"
  },
  {
   "metadata": {
    "ExecuteTime": {
     "end_time": "2025-06-28T18:52:42.108337Z",
     "start_time": "2025-06-28T18:52:42.105808Z"
    }
   },
   "cell_type": "code",
   "source": "csv_currency_path = '../data/currency_conversion.csv'",
   "id": "36dddf16c9b99666",
   "outputs": [],
   "execution_count": 7
  },
  {
   "metadata": {},
   "cell_type": "code",
   "source": [
    "# Read first 10 lines so I can see what to expect of the file content\n",
    "with open(csv_currency_path) as f:\n",
    "    for _ in range(10):\n",
    "        print(f.readline(),\n",
    "              end='')  # If a file is just one line long and it is huge, this call will still read the entire file in memory"
   ],
   "id": "f9e565deaed5f1cb",
   "outputs": [],
   "execution_count": null
  },
  {
   "metadata": {},
   "cell_type": "code",
   "source": [
    "with open(csv_currency_path) as f:\n",
    "    # This way we are reading just the first 2KB bytes of data\n",
    "    text = f.read(2048)\n",
    "    print(text)"
   ],
   "id": "814cf172934a8259",
   "outputs": [],
   "execution_count": null
  },
  {
   "metadata": {
    "ExecuteTime": {
     "end_time": "2025-06-28T18:52:56.824059Z",
     "start_time": "2025-06-28T18:52:56.277406Z"
    }
   },
   "cell_type": "code",
   "source": "df_conversion = spark.read.csv(csv_currency_path, header=True)",
   "id": "1c5b0dcabe898f7",
   "outputs": [],
   "execution_count": 8
  },
  {
   "metadata": {},
   "cell_type": "code",
   "source": "df_conversion.show(10)",
   "id": "33e1262f02853bc4",
   "outputs": [],
   "execution_count": null
  },
  {
   "metadata": {},
   "cell_type": "markdown",
   "source": "## Extract rate from CSV",
   "id": "e610f568fccf0a75"
  },
  {
   "metadata": {
    "ExecuteTime": {
     "end_time": "2025-06-28T18:52:59.326253Z",
     "start_time": "2025-06-28T18:52:59.176927Z"
    }
   },
   "cell_type": "code",
   "source": [
    "conversion_rate_to_brl = df_conversion \\\n",
    "    .filter(F.col('currency') == 'USD') \\\n",
    "    .select('conversion_rate_to_brl') \\\n",
    "    .first()['conversion_rate_to_brl']\n",
    "\n",
    "conversion_rate_to_brl = float(conversion_rate_to_brl)"
   ],
   "id": "aab625df9dae6e7d",
   "outputs": [],
   "execution_count": 9
  },
  {
   "metadata": {},
   "cell_type": "markdown",
   "source": "# Add converted values",
   "id": "7a1c6f56e1aeddf8"
  },
  {
   "metadata": {
    "ExecuteTime": {
     "end_time": "2025-06-28T18:53:06.577646Z",
     "start_time": "2025-06-28T18:53:06.560076Z"
    }
   },
   "cell_type": "code",
   "source": [
    "df_purchases_brl = df_purchases_fillna \\\n",
    "    .withColumns(\n",
    "    {\n",
    "        'brl_conversion_rate': F.lit(conversion_rate_to_brl),\n",
    "        'purchase_amount_brl': F.round(F.col('purchase_amount_usd') * conversion_rate_to_brl, 2),\n",
    "    }\n",
    ")\n"
   ],
   "id": "fac220ef5e466f1a",
   "outputs": [],
   "execution_count": 10
  },
  {
   "metadata": {},
   "cell_type": "code",
   "source": [
    "# df_purchases_brl.show(10)\n",
    "df_purchases_brl.printSchema()"
   ],
   "id": "644044dce7a7babe",
   "outputs": [],
   "execution_count": null
  },
  {
   "metadata": {},
   "cell_type": "markdown",
   "source": "# Read customers file",
   "id": "f27a34dfd866235d"
  },
  {
   "metadata": {
    "ExecuteTime": {
     "end_time": "2025-06-28T19:01:33.732652Z",
     "start_time": "2025-06-28T19:01:33.634058Z"
    }
   },
   "cell_type": "code",
   "source": [
    "df_customers = spark.read.csv('../data/sql_customers.csv', header=True, dateFormat=\"%Y-%m-%d\", inferSchema=True)\n",
    "df_customers.printSchema()"
   ],
   "id": "304ed528361e7aa4",
   "outputs": [
    {
     "name": "stdout",
     "output_type": "stream",
     "text": [
      "root\n",
      " |-- id: integer (nullable = true)\n",
      " |-- name: string (nullable = true)\n",
      " |-- signup_date: timestamp (nullable = true)\n",
      "\n"
     ]
    }
   ],
   "execution_count": 38
  },
  {
   "metadata": {},
   "cell_type": "markdown",
   "source": "## Cast timestamp to date",
   "id": "be04b709ec384aca"
  },
  {
   "metadata": {
    "ExecuteTime": {
     "end_time": "2025-06-28T19:00:49.008993Z",
     "start_time": "2025-06-28T19:00:49.001762Z"
    }
   },
   "cell_type": "code",
   "source": "df_customer_cast = df_customers.withColumn('signup_date', F.to_date('signup_date'))",
   "id": "38da565c97564b53",
   "outputs": [],
   "execution_count": 34
  },
  {
   "metadata": {
    "ExecuteTime": {
     "end_time": "2025-06-28T19:01:09.817341Z",
     "start_time": "2025-06-28T19:01:09.759349Z"
    }
   },
   "cell_type": "code",
   "source": "df_customer_cast.show(2)",
   "id": "1d0e652b21fcb8b4",
   "outputs": [
    {
     "name": "stdout",
     "output_type": "stream",
     "text": [
      "+---+---------------+-----------+\n",
      "| id|           name|signup_date|\n",
      "+---+---------------+-----------+\n",
      "|  1|   Keith Gordon| 2024-09-29|\n",
      "|  2|Jonathan Bolton| 2025-02-05|\n",
      "+---+---------------+-----------+\n",
      "only showing top 2 rows\n"
     ]
    }
   ],
   "execution_count": 36
  },
  {
   "metadata": {
    "ExecuteTime": {
     "end_time": "2025-06-28T19:03:20.877568Z",
     "start_time": "2025-06-28T19:03:20.875055Z"
    }
   },
   "cell_type": "code",
   "source": [
    "# df_customers.show(2)\n",
    "df_customer_cast.printSchema()"
   ],
   "id": "9114311ae5f3048a",
   "outputs": [
    {
     "name": "stdout",
     "output_type": "stream",
     "text": [
      "root\n",
      " |-- id: integer (nullable = true)\n",
      " |-- name: string (nullable = true)\n",
      " |-- signup_date: date (nullable = true)\n",
      "\n"
     ]
    }
   ],
   "execution_count": 41
  },
  {
   "metadata": {},
   "cell_type": "markdown",
   "source": "# Join customers with purchases",
   "id": "86d270bdd012943a"
  },
  {
   "metadata": {
    "ExecuteTime": {
     "end_time": "2025-06-28T19:14:52.947300Z",
     "start_time": "2025-06-28T19:14:52.914552Z"
    }
   },
   "cell_type": "code",
   "source": [
    "# help(df_purchases_brl.join)\n",
    "print(df_customer_cast.where(\"id = 18\").first())"
   ],
   "id": "ba0765a56cc8a3a6",
   "outputs": [
    {
     "name": "stdout",
     "output_type": "stream",
     "text": [
      "18\n"
     ]
    }
   ],
   "execution_count": 54
  },
  {
   "metadata": {
    "ExecuteTime": {
     "end_time": "2025-06-28T19:23:57.723230Z",
     "start_time": "2025-06-28T19:23:57.708035Z"
    }
   },
   "cell_type": "code",
   "source": [
    "df_purchases_customers = df_purchases_brl.join(\n",
    "    df_customer_cast.select(\"id\", \"name\", \"signup_date\"),\n",
    "    on=df_purchases_brl.customer_id == df_customer_cast.id,\n",
    "    how=\"left\") \\\n",
    "    .drop(\"id\") \\\n",
    "    .fillna({\n",
    "    'name': ''\n",
    "})"
   ],
   "id": "101f31d06a5f848b",
   "outputs": [],
   "execution_count": 66
  },
  {
   "metadata": {
    "ExecuteTime": {
     "end_time": "2025-06-28T19:23:59.382578Z",
     "start_time": "2025-06-28T19:23:59.265831Z"
    }
   },
   "cell_type": "code",
   "source": "df_purchases_customers.show(2)",
   "id": "ee8bee6405395669",
   "outputs": [
    {
     "name": "stdout",
     "output_type": "stream",
     "text": [
      "+----------+-----------+-------------+-------------------+-------------------+----------+-------------------+-------------------+------------+-----------+\n",
      "|   channel|customer_id|discount_code|purchase_amount_usd|          timestamp|      date|brl_conversion_rate|purchase_amount_brl|        name|signup_date|\n",
      "+----------+-----------+-------------+-------------------+-------------------+----------+-------------------+-------------------+------------+-----------+\n",
      "|     store|         45|     remember|             374.03|2025-04-21 16:40:36|2025-04-21|                5.3|            1982.36|            |       NULL|\n",
      "|No Channel|         18|             |              245.4|2025-02-08 19:42:46|2025-02-08|                5.3|            1300.62|Kristin Dunn| 2023-12-27|\n",
      "+----------+-----------+-------------+-------------------+-------------------+----------+-------------------+-------------------+------------+-----------+\n",
      "only showing top 2 rows\n"
     ]
    }
   ],
   "execution_count": 67
  },
  {
   "metadata": {},
   "cell_type": "markdown",
   "source": "# Group by customer (groupby, agg)",
   "id": "b454a1d54b6bb6f4"
  },
  {
   "metadata": {
    "ExecuteTime": {
     "end_time": "2025-06-28T19:25:10.779329Z",
     "start_time": "2025-06-28T19:25:10.742339Z"
    }
   },
   "cell_type": "code",
   "source": [
    "df_total_per_customer = df_purchases_customers.groupby(F.col('customer_id'), F.col('name'), F.col('date')).agg(\n",
    "    F.count(\"*\").alias(\"nr_purachases\"),\n",
    "    F.sum(\"purchase_amount_usd\").alias(\"total_amount_usd\"),\n",
    "    F.sum(\"purchase_amount_brl\").alias(\"total_amount_brl\")\n",
    ")\n"
   ],
   "id": "49158c2c406154dd",
   "outputs": [],
   "execution_count": 68
  },
  {
   "metadata": {
    "ExecuteTime": {
     "end_time": "2025-06-28T19:25:13.826089Z",
     "start_time": "2025-06-28T19:25:13.290532Z"
    }
   },
   "cell_type": "code",
   "source": "df_total_per_customer.show(5)",
   "id": "c3f327335e5fde53",
   "outputs": [
    {
     "name": "stdout",
     "output_type": "stream",
     "text": [
      "+-----------+------------+----------+-------------+----------------+----------------+\n",
      "|customer_id|        name|      date|nr_purachases|total_amount_usd|total_amount_brl|\n",
      "+-----------+------------+----------+-------------+----------------+----------------+\n",
      "|          6|   Karen Ray|2025-01-15|            1|          376.07|         1993.17|\n",
      "|         47|            |2024-07-10|            1|          305.42|         1618.73|\n",
      "|         14|Katelyn Dunn|2024-12-08|            1|          403.69|         2139.56|\n",
      "|         29|            |2025-03-14|            1|          380.77|         2018.08|\n",
      "|         28|            |2024-07-22|            1|           93.48|          495.44|\n",
      "+-----------+------------+----------+-------------+----------------+----------------+\n",
      "only showing top 5 rows\n"
     ]
    }
   ],
   "execution_count": 69
  },
  {
   "metadata": {},
   "cell_type": "markdown",
   "source": "# Write to Parquet (partitioned)",
   "id": "a1a8a9447e3fac30"
  },
  {
   "metadata": {},
   "cell_type": "code",
   "source": [
    "df_total_per_customer.write.partitionBy('date') \\\n",
    "    .parquet(\"../data/output\", mode=\"overwrite\")"
   ],
   "id": "f670a37243b8f0c8",
   "outputs": [],
   "execution_count": null
  }
 ],
 "metadata": {
  "kernelspec": {
   "display_name": "Python 3",
   "language": "python",
   "name": "python3"
  },
  "language_info": {
   "codemirror_mode": {
    "name": "ipython",
    "version": 2
   },
   "file_extension": ".py",
   "mimetype": "text/x-python",
   "name": "python",
   "nbconvert_exporter": "python",
   "pygments_lexer": "ipython2",
   "version": "2.7.6"
  }
 },
 "nbformat": 4,
 "nbformat_minor": 5
}
