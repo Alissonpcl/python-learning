{
 "cells": [
  {
   "metadata": {},
   "cell_type": "markdown",
   "source": [
    "# Summary\n",
    "\n",
    "The goal of this notebook is to be an exercise of PySpark, and it consists in preparing data to be delivered in an expected format.\n",
    "\n",
    "The input data comes from [web_input.csv](../data/web_input.csv).\n",
    "The expected output data is in [web_output.csv](../data/web_output.csv).\n",
    "\n",
    "In the cells below, I'm going to create Python code to import required libraries and apply the required data transformations using PySpark to achieve the expected output."
   ],
   "id": "c82dee8ea4fd39ce"
  },
  {
   "metadata": {},
   "cell_type": "markdown",
   "source": "# Imports",
   "id": "e63c798591dc5950"
  },
  {
   "cell_type": "code",
   "id": "initial_id",
   "metadata": {
    "collapsed": true
   },
   "source": [
    "import os\n",
    "import sys\n",
    "\n",
    "import pyspark.sql.functions as F\n",
    "from pyspark.sql import SparkSession\n",
    "\n",
    "# Required for Spark to find Python executable\n",
    "os.environ['PYSPARK_PYTHON'] = sys.executable\n",
    "os.environ['PYSPARK_DRIVER_PYTHON'] = sys.executable\n",
    "os.environ['JAVA_HOME'] = '/opt/homebrew/opt/openjdk@17'"
   ],
   "outputs": [],
   "execution_count": null
  },
  {
   "metadata": {},
   "cell_type": "code",
   "source": "spark = SparkSession.builder.appName(\"web_input\").getOrCreate()",
   "id": "5382b8cccb49ded9",
   "outputs": [],
   "execution_count": null
  },
  {
   "metadata": {},
   "cell_type": "markdown",
   "source": "# Read CSV",
   "id": "7fd73cbdee292741"
  },
  {
   "metadata": {},
   "cell_type": "code",
   "source": "input_df = spark.read.csv('../data/web_input.csv', header=True)",
   "id": "34884b2a5d2abf8d",
   "outputs": [],
   "execution_count": null
  },
  {
   "metadata": {},
   "cell_type": "code",
   "source": "input_df.show()",
   "id": "34dc76a6b4ac969d",
   "outputs": [],
   "execution_count": null
  },
  {
   "metadata": {},
   "cell_type": "code",
   "source": "input_df.printSchema()",
   "id": "9c77df7bb7e903f3",
   "outputs": [],
   "execution_count": null
  },
  {
   "metadata": {},
   "cell_type": "markdown",
   "source": "# Create Output DF",
   "id": "b1637134d86ea05e"
  },
  {
   "metadata": {},
   "cell_type": "markdown",
   "source": "## Date Generated, AllimID, Name",
   "id": "75d32bc310759df0"
  },
  {
   "metadata": {},
   "cell_type": "code",
   "source": [
    "# Creates a copy of a dataframe so we keep the original intact\n",
    "output_df = input_df.select('*')"
   ],
   "id": "724dbddba03f5194",
   "outputs": [],
   "execution_count": null
  },
  {
   "metadata": {},
   "cell_type": "code",
   "source": [
    "output_df = output_df.withColumn('Date Generated', F.lit('2022-07-14 14:35:04')) \\\n",
    "    .withColumnsRenamed({'integerId': 'AllimID', 'name': 'Name'})"
   ],
   "id": "1a5c97a3bbedc0bb",
   "outputs": [],
   "execution_count": null
  },
  {
   "metadata": {},
   "cell_type": "markdown",
   "source": "## Entity Type",
   "id": "4d3ac710a5266cc6"
  },
  {
   "metadata": {},
   "cell_type": "code",
   "source": "help(F.concat)",
   "id": "ecff90aa1ace09a6",
   "outputs": [],
   "execution_count": null
  },
  {
   "metadata": {},
   "cell_type": "code",
   "source": [
    "output_df = output_df.withColumn('Entity Type', F.concat(\n",
    "    F.lit(\"\\\"\"),\n",
    "    F.split_part(F.col('type'), F.lit('#'), F.lit(2)),\n",
    "    F.lit(\"\\\"\")\n",
    "))"
   ],
   "id": "ed638acd89761eaf",
   "outputs": [],
   "execution_count": null
  },
  {
   "metadata": {},
   "cell_type": "markdown",
   "source": "## Risk Labels",
   "id": "1b78f2353dfe66f1"
  },
  {
   "metadata": {},
   "cell_type": "code",
   "source": [
    "output_df = output_df.withColumn('risk_labels_stage', F.concat(\n",
    "    F.lit(\"\\\"\"),\n",
    "    F.split_part(F.col('riskLabel'), F.lit('#'), F.lit(2)),\n",
    "    F.lit(\"\\\"\")\n",
    "))"
   ],
   "id": "27c7618927312bd3",
   "outputs": [],
   "execution_count": null
  },
  {
   "metadata": {},
   "cell_type": "code",
   "source": [
    "output_df = output_df.withColumn('Risk Labels',\n",
    "                                 F.when(\n",
    "                                     F.contains(F.col('risk_labels_stage'), F.lit('CnForcedLabor')),\n",
    "                                     F.lit('\"CnForcedLabor\"')\n",
    "                                 ).otherwise(F.col('risk_labels_stage')))"
   ],
   "id": "2e8a85b490fdffc7",
   "outputs": [],
   "execution_count": null
  },
  {
   "metadata": {},
   "cell_type": "markdown",
   "source": "## Primary City, Primary Country",
   "id": "65373be71d440250"
  },
  {
   "metadata": {},
   "cell_type": "code",
   "source": [
    "output_df = (output_df\n",
    "             # .withColumn('Primary City', F.coalesce(F.col('cityAndRegion'), F.lit('')))\n",
    "             .withColumn('Primary City', F.col('cityAndRegion'))\n",
    "             .withColumnRenamed('country', 'Primary Country'))"
   ],
   "id": "54886a9f825afcda",
   "outputs": [],
   "execution_count": null
  },
  {
   "metadata": {},
   "cell_type": "markdown",
   "source": "# Group values",
   "id": "8d2bbbebdb31027c"
  },
  {
   "metadata": {},
   "cell_type": "code",
   "source": [
    "output_df_grouped = output_df.groupBy(['Date Generated', 'AllimID', 'Name', 'Primary City', 'Primary Country']).agg(\n",
    "    F.collect_set('Entity Type').alias('Entity Type'),\n",
    "    F.collect_set('Risk Labels').alias('Risk Labels')\n",
    ").select(['Date Generated',\n",
    "          'AllimID',\n",
    "          'Name',\n",
    "          'Entity Type',\n",
    "          'Risk Labels',\n",
    "          'Primary City',\n",
    "          'Primary Country'])"
   ],
   "id": "5b669e75b74cfd0b",
   "outputs": [],
   "execution_count": null
  },
  {
   "metadata": {},
   "cell_type": "markdown",
   "source": [
    "# Cast list to str\n",
    "\n",
    "It was required to cast the list to string since CSV datasource doesn't support the column `Entity Type` of the type \"ARRAY<STRING>\""
   ],
   "id": "3d2289cf6dd25540"
  },
  {
   "metadata": {},
   "cell_type": "code",
   "source": [
    "final_df_list_str = output_df_grouped.withColumns({\n",
    "    'Entity Type': F.sort_array(F.col('Entity Type')).cast('string'),\n",
    "    'Risk Labels': F.sort_array(F.col('Risk Labels')).cast('string')\n",
    "})"
   ],
   "id": "b8a744427dfe2323",
   "outputs": [],
   "execution_count": null
  },
  {
   "metadata": {},
   "cell_type": "markdown",
   "source": "# Write CSV",
   "id": "8749ca0821ceae1a"
  },
  {
   "metadata": {},
   "cell_type": "code",
   "source": [
    "(\n",
    "    final_df_list_str\n",
    "    .sort(F.lower(F.col('AllimID')))\n",
    "    .write\n",
    "    .mode('overwrite').csv('../data/my_output.csv', header=True, escape='\"')\n",
    ")"
   ],
   "id": "2ba838cbe4c5bf96",
   "outputs": [],
   "execution_count": null
  }
 ],
 "metadata": {
  "kernelspec": {
   "display_name": "Python 3",
   "language": "python",
   "name": "python3"
  },
  "language_info": {
   "codemirror_mode": {
    "name": "ipython",
    "version": 2
   },
   "file_extension": ".py",
   "mimetype": "text/x-python",
   "name": "python",
   "nbconvert_exporter": "python",
   "pygments_lexer": "ipython2",
   "version": "2.7.6"
  }
 },
 "nbformat": 4,
 "nbformat_minor": 5
}
