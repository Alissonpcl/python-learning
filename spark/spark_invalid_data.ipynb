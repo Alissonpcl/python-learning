{
 "cells": [
  {
   "cell_type": "markdown",
   "id": "33f6a71f",
   "metadata": {},
   "source": [
    "# imports"
   ]
  },
  {
   "cell_type": "code",
   "execution_count": null,
   "id": "b4010d13",
   "metadata": {},
   "outputs": [],
   "source": [
    "from pyspark.sql import SparkSession\n",
    "from pyspark.sql import functions as F\n",
    "from pyspark.sql.types import *\n",
    "from pyspark.sql.window import Window\n",
    "import os\n",
    "import sys\n",
    "import numpy as np\n",
    "import pandas as pd"
   ]
  },
  {
   "cell_type": "code",
   "execution_count": null,
   "id": "a1c53fdc",
   "metadata": {},
   "outputs": [],
   "source": [
    "# Required for Spark to find Python executable\n",
    "os.environ['PYSPARK_PYTHON'] = sys.executable\n",
    "os.environ['PYSPARK_DRIVER_PYTHON'] = sys.executable"
   ]
  },
  {
   "cell_type": "code",
   "execution_count": null,
   "id": "b72c58e4",
   "metadata": {},
   "outputs": [],
   "source": [
    "# Initialize Spark session\n",
    "spark = SparkSession.builder \\\n",
    "    .appName(\"InterviewChallenges\") \\\n",
    "    .config(\"spark.sql.adaptive.enabled\", \"true\") \\\n",
    "    .getOrCreate()"
   ]
  },
  {
   "cell_type": "code",
   "execution_count": null,
   "id": "e0eb32cb",
   "metadata": {},
   "outputs": [],
   "source": [
    "data = {\n",
    "    'user_id': [1, 2, 3, 4, 5, 6],\n",
    "    'country': ['US', 'US', 'UK', None, 'FR', 'DE'],\n",
    "    'signup_date': ['2022-01-05', '2022-01-06', np.nan, '2022-01-08', '2022-01-09', 'not_a_date'],\n",
    "    'purchase': ['100', 200, 'N/A', 300, 400, 500],\n",
    "    'is_active': [True, False, 'yes', 'no', 1, 0]    \n",
    "}\n",
    "\n",
    "pandas_df = pd.DataFrame(data)\n",
    "sales_df = spark.createDataFrame(pandas_df)"
   ]
  },
  {
   "cell_type": "code",
   "execution_count": null,
   "id": "f9461b46",
   "metadata": {},
   "outputs": [],
   "source": [
    "sales_df.show()"
   ]
  },
  {
   "cell_type": "code",
   "execution_count": null,
   "id": "2d0411b1",
   "metadata": {},
   "outputs": [],
   "source": [
    "sales_df.printSchema()"
   ]
  },
  {
   "cell_type": "code",
   "execution_count": null,
   "id": "a143a4d1",
   "metadata": {},
   "outputs": [],
   "source": [
    "sales_df = sales_df.withColumn('signup_date_3',\n",
    "                               F.coalesce(\n",
    "                                   F.try_to_timestamp(\n",
    "                                       F.col('signup_date'), F.lit('yyyy-MM-dd')),\n",
    "                                   F.lit('2025-01-01')).cast('date'))\n",
    "\n",
    "sales_df.show()"
   ]
  },
  {
   "cell_type": "code",
   "execution_count": null,
   "id": "a95c67dc",
   "metadata": {},
   "outputs": [],
   "source": [
    "sales_df = sales_df.withColumn(\n",
    "    'is_active_2',\n",
    "    F.when(F.col('is_active').isin(['1', 'yes', 'true']),\n",
    "           F.lit(True))\n",
    "    .otherwise(F.lit(False))\n",
    ")\n",
    "\n",
    "sales_df.show()"
   ]
  },
  {
   "cell_type": "code",
   "execution_count": null,
   "id": "3b720fd5",
   "metadata": {},
   "outputs": [],
   "source": [
    "sales_df = sales_df.withColumn(\n",
    "    'purchase_2',\n",
    "    F.when(\n",
    "        F.col('purchase').isin(['N/A']),\n",
    "        0\n",
    "    )\n",
    "    .otherwise(F.col('purchase')))\n",
    "\n",
    "sales_df.show()"
   ]
  },
  {
   "cell_type": "code",
   "execution_count": null,
   "id": "27563de0",
   "metadata": {},
   "outputs": [],
   "source": [
    "rn_purchase = Window().rowsBetween(Window.unboundedPreceding, Window.unboundedFollowing)\n",
    "sales_df \\\n",
    "    .withColumn('running_purchase', F.sum('purchase_2').over(rn_purchase)) \\\n",
    "    .show()"
   ]
  },
  {
   "cell_type": "code",
   "execution_count": null,
   "id": "4b26f638",
   "metadata": {},
   "outputs": [],
   "source": [
    "# df['is_active_2'] = df['is_active'].apply(lambda x: True if x in (True, 1, 'yes') else False)\n",
    "# active_df = df[df['is_active_2'] == True]\n",
    "\n",
    "active_df = sales_df.where(F.col('is_active_2') == True)\n",
    "\n",
    "active_df.show()"
   ]
  },
  {
   "cell_type": "code",
   "execution_count": null,
   "id": "b00edef7",
   "metadata": {},
   "outputs": [],
   "source": [
    "# avg_purchase = active_df.groupby('country')['purchase_2'].mean()\n",
    " \n",
    "# print(avg_purchase)\n",
    "\n",
    "avg_purchase = active_df.groupby('country').agg(\n",
    "    F.avg(F.col('purchase_2')).alias('avg_purchase')\n",
    ")\n",
    "\n",
    "avg_purchase.show()"
   ]
  }
 ],
 "metadata": {
  "kernelspec": {
   "display_name": "python-learning",
   "language": "python",
   "name": "python3"
  },
  "language_info": {
   "codemirror_mode": {
    "name": "ipython",
    "version": 3
   },
   "file_extension": ".py",
   "mimetype": "text/x-python",
   "name": "python",
   "nbconvert_exporter": "python",
   "pygments_lexer": "ipython3",
   "version": "3.12.11"
  }
 },
 "nbformat": 4,
 "nbformat_minor": 5
}
