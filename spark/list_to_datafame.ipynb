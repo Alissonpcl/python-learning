{
 "cells": [
  {
   "cell_type": "code",
   "id": "initial_id",
   "metadata": {
    "collapsed": true,
    "ExecuteTime": {
     "end_time": "2024-09-13T13:00:05.295530Z",
     "start_time": "2024-09-13T13:00:05.167457Z"
    }
   },
   "source": [
    "import os\n",
    "import sys\n",
    "\n",
    "import pyspark.sql.functions as f\n",
    "from pyspark.sql import SparkSession\n",
    "\n",
    "# Required for Spark to find Python executable\n",
    "os.environ['PYSPARK_PYTHON'] = sys.executable\n",
    "os.environ['PYSPARK_DRIVER_PYTHON'] = sys.executable"
   ],
   "outputs": [],
   "execution_count": 1
  },
  {
   "metadata": {
    "ExecuteTime": {
     "end_time": "2024-09-13T13:00:13.144329Z",
     "start_time": "2024-09-13T13:00:10.393031Z"
    }
   },
   "cell_type": "code",
   "source": "spark = SparkSession.builder.appName(\"pipedrive_deal_fields\").getOrCreate()",
   "id": "d9b5f30e914cda4b",
   "outputs": [],
   "execution_count": 2
  },
  {
   "metadata": {
    "ExecuteTime": {
     "end_time": "2024-09-13T13:00:20.204713Z",
     "start_time": "2024-09-13T13:00:18.661498Z"
    }
   },
   "cell_type": "code",
   "source": [
    "data_array = [1,2,3]\n",
    "\n",
    "df_data = spark.range(1,5)"
   ],
   "id": "7a4dfb7d699283d0",
   "outputs": [],
   "execution_count": 3
  },
  {
   "metadata": {
    "ExecuteTime": {
     "end_time": "2024-09-13T13:00:22.164333Z",
     "start_time": "2024-09-13T13:00:22.150646Z"
    }
   },
   "cell_type": "code",
   "source": "df_data.printSchema()",
   "id": "881bfd17e3ac0d98",
   "outputs": [
    {
     "name": "stdout",
     "output_type": "stream",
     "text": [
      "root\n",
      " |-- id: long (nullable = false)\n",
      "\n"
     ]
    }
   ],
   "execution_count": 4
  },
  {
   "metadata": {
    "ExecuteTime": {
     "end_time": "2024-09-13T13:00:30.051639Z",
     "start_time": "2024-09-13T13:00:30.002106Z"
    }
   },
   "cell_type": "code",
   "source": [
    "ids =  [row.id for row in df_data.collect()]\n",
    "\n",
    "ids"
   ],
   "id": "d6e7a588646bbc59",
   "outputs": [
    {
     "data": {
      "text/plain": [
       "[1, 2, 3, 4]"
      ]
     },
     "execution_count": 6,
     "metadata": {},
     "output_type": "execute_result"
    }
   ],
   "execution_count": 6
  }
 ],
 "metadata": {
  "kernelspec": {
   "display_name": "Python 3",
   "language": "python",
   "name": "python3"
  },
  "language_info": {
   "codemirror_mode": {
    "name": "ipython",
    "version": 2
   },
   "file_extension": ".py",
   "mimetype": "text/x-python",
   "name": "python",
   "nbconvert_exporter": "python",
   "pygments_lexer": "ipython2",
   "version": "2.7.6"
  }
 },
 "nbformat": 4,
 "nbformat_minor": 5
}
