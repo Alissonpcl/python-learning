{
 "cells": [
  {
   "metadata": {},
   "cell_type": "markdown",
   "source": "# Imports",
   "id": "2184f9c3d9c39340"
  },
  {
   "cell_type": "code",
   "id": "initial_id",
   "metadata": {
    "collapsed": true
   },
   "source": [
    "import os\n",
    "import sys\n",
    "\n",
    "import pyspark.sql.functions as f\n",
    "from pyspark.sql import SparkSession\n",
    "\n",
    "# Required for Spark to find Python executable\n",
    "os.environ['PYSPARK_PYTHON'] = sys.executable\n",
    "os.environ['PYSPARK_DRIVER_PYTHON'] = sys.executable"
   ],
   "outputs": [],
   "execution_count": null
  },
  {
   "metadata": {},
   "cell_type": "code",
   "source": "spark = SparkSession.builder.appName(\"pipedrive_deal_fields\").getOrCreate()",
   "id": "4d77cc17b8bb5f0d",
   "outputs": [],
   "execution_count": null
  },
  {
   "metadata": {},
   "cell_type": "code",
   "source": "df_deal_fields = spark.read.json('data/pipedrive_deal_fields.json', multiLine=True)",
   "id": "e044b61a3c2a11ac",
   "outputs": [],
   "execution_count": null
  },
  {
   "metadata": {},
   "cell_type": "code",
   "source": [
    "# df_deal_fields.count()\n",
    "df_deal_fields.printSchema()"
   ],
   "id": "2ef52625cd0f9939",
   "outputs": [],
   "execution_count": null
  },
  {
   "metadata": {
    "ExecuteTime": {
     "end_time": "2024-08-02T18:40:12.051163Z",
     "start_time": "2024-08-02T18:40:12.030986Z"
    }
   },
   "cell_type": "code",
   "source": [
    "df_deal_fields_data = (df_deal_fields\n",
    "                       .withColumn(\"data_exploded\", f.explode(\"data\"))\n",
    "                       .select(\"data_exploded.*\"))"
   ],
   "id": "987267094e32add",
   "outputs": [],
   "execution_count": 56
  },
  {
   "metadata": {
    "ExecuteTime": {
     "end_time": "2024-08-02T18:40:13.625248Z",
     "start_time": "2024-08-02T18:40:13.615488Z"
    }
   },
   "cell_type": "code",
   "source": "df_deal_fields_data.printSchema()",
   "id": "f910474ffb83f57e",
   "outputs": [
    {
     "name": "stdout",
     "output_type": "stream",
     "text": [
      "root\n",
      " |-- active_flag: boolean (nullable = true)\n",
      " |-- add_time: string (nullable = true)\n",
      " |-- add_visible_flag: boolean (nullable = true)\n",
      " |-- bulk_edit_allowed: boolean (nullable = true)\n",
      " |-- created_by_user_id: long (nullable = true)\n",
      " |-- description: string (nullable = true)\n",
      " |-- details_visible_flag: boolean (nullable = true)\n",
      " |-- edit_flag: boolean (nullable = true)\n",
      " |-- field_type: string (nullable = true)\n",
      " |-- filtering_allowed: boolean (nullable = true)\n",
      " |-- group_id: long (nullable = true)\n",
      " |-- id: long (nullable = true)\n",
      " |-- id_suffix: string (nullable = true)\n",
      " |-- important_flag: boolean (nullable = true)\n",
      " |-- is_subfield: boolean (nullable = true)\n",
      " |-- json_column_flag: boolean (nullable = true)\n",
      " |-- key: string (nullable = true)\n",
      " |-- last_updated_by_user_id: long (nullable = true)\n",
      " |-- link: string (nullable = true)\n",
      " |-- mandatory_flag: string (nullable = true)\n",
      " |-- name: string (nullable = true)\n",
      " |-- options: array (nullable = true)\n",
      " |    |-- element: struct (containsNull = true)\n",
      " |    |    |-- color: string (nullable = true)\n",
      " |    |    |-- id: string (nullable = true)\n",
      " |    |    |-- label: string (nullable = true)\n",
      " |-- order_nr: long (nullable = true)\n",
      " |-- parent_id: long (nullable = true)\n",
      " |-- projects_detail_visible_flag: boolean (nullable = true)\n",
      " |-- searchable_flag: boolean (nullable = true)\n",
      " |-- show_in_pipelines: struct (nullable = true)\n",
      " |    |-- pipeline_ids: array (nullable = true)\n",
      " |    |    |-- element: string (containsNull = true)\n",
      " |    |-- show_in_all: boolean (nullable = true)\n",
      " |-- sortable_flag: boolean (nullable = true)\n",
      " |-- update_time: string (nullable = true)\n",
      " |-- use_field: string (nullable = true)\n",
      "\n"
     ]
    }
   ],
   "execution_count": 57
  },
  {
   "metadata": {
    "ExecuteTime": {
     "end_time": "2024-08-02T18:48:15.238242Z",
     "start_time": "2024-08-02T18:48:15.221707Z"
    }
   },
   "cell_type": "code",
   "source": [
    "column_to_keep = [\n",
    "    'id',\n",
    "    'key',\n",
    "    f.explode('options').alias('options'),\n",
    "    f.col('add_time').cast(\"timestamp\"),\n",
    "    f.col('update_time').cast(\"timestamp\")]"
   ],
   "id": "2fcebdc7568eedfd",
   "outputs": [],
   "execution_count": 70
  },
  {
   "metadata": {
    "ExecuteTime": {
     "end_time": "2024-08-02T18:48:16.401286Z",
     "start_time": "2024-08-02T18:48:16.379145Z"
    }
   },
   "cell_type": "code",
   "source": "df_deal_fields_data_options = df_deal_fields_data.select(*column_to_keep)",
   "id": "b6d103718326d9c5",
   "outputs": [],
   "execution_count": 71
  },
  {
   "metadata": {
    "ExecuteTime": {
     "end_time": "2024-08-02T18:48:25.918586Z",
     "start_time": "2024-08-02T18:48:25.913154Z"
    }
   },
   "cell_type": "code",
   "source": [
    "# df_deal_fields_data_options.show(2)\n",
    "df_deal_fields_data_options.printSchema()"
   ],
   "id": "148e7333c0cf3794",
   "outputs": [
    {
     "name": "stdout",
     "output_type": "stream",
     "text": [
      "root\n",
      " |-- id: long (nullable = true)\n",
      " |-- key: string (nullable = true)\n",
      " |-- options: struct (nullable = true)\n",
      " |    |-- color: string (nullable = true)\n",
      " |    |-- id: string (nullable = true)\n",
      " |    |-- label: string (nullable = true)\n",
      " |-- add_time: timestamp (nullable = true)\n",
      " |-- update_time: timestamp (nullable = true)\n",
      "\n"
     ]
    }
   ],
   "execution_count": 73
  },
  {
   "metadata": {
    "ExecuteTime": {
     "end_time": "2024-08-02T18:48:36.199085Z",
     "start_time": "2024-08-02T18:48:36.179107Z"
    }
   },
   "cell_type": "code",
   "source": [
    "df_deal_fields_clean = (df_deal_fields_data_options\n",
    "                        .select(\"id\",\n",
    "                                \"key\",\n",
    "                                \"add_time\",\n",
    "                                \"update_time\",\n",
    "                                f.col(\"options.id\").alias(\"option_id\"),\n",
    "                                f.col(\"options.label\").alias(\"option_label\")))"
   ],
   "id": "a57fab0b0166fa3c",
   "outputs": [],
   "execution_count": 74
  },
  {
   "metadata": {
    "ExecuteTime": {
     "end_time": "2024-08-02T18:48:37.920165Z",
     "start_time": "2024-08-02T18:48:37.914118Z"
    }
   },
   "cell_type": "code",
   "source": "df_deal_fields_clean.printSchema()",
   "id": "8f894df67eae18eb",
   "outputs": [
    {
     "name": "stdout",
     "output_type": "stream",
     "text": [
      "root\n",
      " |-- id: long (nullable = true)\n",
      " |-- key: string (nullable = true)\n",
      " |-- add_time: timestamp (nullable = true)\n",
      " |-- update_time: timestamp (nullable = true)\n",
      " |-- option_id: string (nullable = true)\n",
      " |-- option_label: string (nullable = true)\n",
      "\n"
     ]
    }
   ],
   "execution_count": 75
  },
  {
   "metadata": {
    "ExecuteTime": {
     "end_time": "2024-08-02T18:48:40.060230Z",
     "start_time": "2024-08-02T18:48:39.959453Z"
    }
   },
   "cell_type": "code",
   "source": "df_deal_fields_clean.show(5)",
   "id": "50cfc59344e5f58b",
   "outputs": [
    {
     "name": "stdout",
     "output_type": "stream",
     "text": [
      "+-----+-----------+-------------------+-------------------+---------+--------------------+\n",
      "|   id|        key|           add_time|        update_time|option_id|        option_label|\n",
      "+-----+-----------+-------------------+-------------------+---------+--------------------+\n",
      "|12457|     status|2017-06-20 18:34:47|2017-06-20 18:34:45|     open|              Aberto|\n",
      "|12457|     status|2017-06-20 18:34:47|2017-06-20 18:34:45|     lost|             Perdido|\n",
      "|12457|     status|2017-06-20 18:34:47|2017-06-20 18:34:45|      won|               Ganho|\n",
      "|12457|     status|2017-06-20 18:34:47|2017-06-20 18:34:45|  deleted|            Excluído|\n",
      "|12468|lost_reason|2017-06-20 18:34:47|2024-07-25 19:30:02|     1269|TRIALS e SDR - Mo...|\n",
      "+-----+-----------+-------------------+-------------------+---------+--------------------+\n",
      "only showing top 5 rows\n",
      "\n"
     ]
    }
   ],
   "execution_count": 76
  }
 ],
 "metadata": {
  "kernelspec": {
   "display_name": "Python 3",
   "language": "python",
   "name": "python3"
  },
  "language_info": {
   "codemirror_mode": {
    "name": "ipython",
    "version": 2
   },
   "file_extension": ".py",
   "mimetype": "text/x-python",
   "name": "python",
   "nbconvert_exporter": "python",
   "pygments_lexer": "ipython2",
   "version": "2.7.6"
  }
 },
 "nbformat": 4,
 "nbformat_minor": 5
}
