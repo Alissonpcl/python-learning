{
 "cells": [
  {
   "metadata": {},
   "cell_type": "markdown",
   "source": [
    "# The case\n",
    "\n",
    "You have to iterate through a big list of items. You can do this with a simple for loop. The problem is that this approach will load the entire list in memory. If your items are big (e.g., each item is a file content) your code can slow down a lot and even throw an OOM exception.\n",
    "\n",
    "Generators are a good way to solve that.\n",
    "\n",
    "Practical example:\n",
    "\n",
    "In the sample code below, lazy_generator() function yields items that are created as used.\n",
    "\n",
    "In practice:\n",
    "\n",
    "As the return type of this function is a generator (yield expressions are used to create generators) all the function code is only executed when next() is called in the generator object returned.\n",
    "\n",
    "Each time next() both for loops runs. The first controls how many batches of items will be created. The second, how many items each list created will have.\n",
    "\n",
    "With this approach, instead of loading the entire list in memory in a single operation, it loads items using a lazy approach where this items are loaded in memory as requested."
   ],
   "id": "7fbb1199ef10b9a9"
  },
  {
   "cell_type": "code",
   "id": "initial_id",
   "metadata": {
    "collapsed": true
   },
   "source": [
    "def lazy_generator(limit=8):\n",
    "    batch_size = int(limit / 4)\n",
    "    for i in range(0, limit, batch_size):\n",
    "        print('Iteration through i:', i)\n",
    "        yield [\n",
    "            x for x in range(i, i + batch_size)\n",
    "        ]"
   ],
   "outputs": [],
   "execution_count": null
  },
  {
   "metadata": {},
   "cell_type": "code",
   "source": [
    "gen = lazy_generator()\n",
    "for res in gen:\n",
    "    print(res)"
   ],
   "id": "c354be4db85f01a0",
   "outputs": [],
   "execution_count": null
  }
 ],
 "metadata": {
  "kernelspec": {
   "display_name": "Python 3",
   "language": "python",
   "name": "python3"
  },
  "language_info": {
   "codemirror_mode": {
    "name": "ipython",
    "version": 2
   },
   "file_extension": ".py",
   "mimetype": "text/x-python",
   "name": "python",
   "nbconvert_exporter": "python",
   "pygments_lexer": "ipython2",
   "version": "2.7.6"
  }
 },
 "nbformat": 4,
 "nbformat_minor": 5
}
