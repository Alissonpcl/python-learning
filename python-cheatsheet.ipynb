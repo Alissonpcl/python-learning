{
 "cells": [
  {
   "metadata": {},
   "cell_type": "markdown",
   "source": "# Imports",
   "id": "e96d57d6b3ab0823"
  },
  {
   "metadata": {},
   "cell_type": "code",
   "source": [
    "import json\n",
    "import pandas as pd\n",
    "import inspect"
   ],
   "id": "90c00007a1be481a",
   "outputs": [],
   "execution_count": null
  },
  {
   "metadata": {},
   "cell_type": "markdown",
   "source": "# Helpers",
   "id": "c8c19deb465475e1"
  },
  {
   "metadata": {},
   "cell_type": "code",
   "source": [
    "help(zip)\n",
    "\n",
    "# Output\n",
    "# Help on class zip in module builtins:\n",
    "#\n",
    "# class zip(object)\n",
    "# |  zip(*iterables, strict=False) --> Yield tuples until an input is exhausted.\n",
    "# |\n",
    "# |     >>> list(zip('abcdefg', range(3), range(4)))\n",
    "# |     [('a', 0, 0), ('b', 1, 1), ('c', 2, 2)]\n",
    "# |\n",
    "# |  The zip object yields n-length tuples, where n is the number of iterables\n",
    "# |  passed as positional arguments to zip().  The i-th element in every tuple\n",
    "# |  comes from the i-th iterable argument to zip().  This continues until the\n",
    "# |  shortest argument is exhausted.\n",
    "# |"
   ],
   "id": "160c526da50356c7",
   "outputs": [],
   "execution_count": null
  },
  {
   "metadata": {},
   "cell_type": "code",
   "source": [
    "dir(zip)\n",
    "\n",
    "# Output\n",
    "# ['__class__',\n",
    "#  '__delattr__',\n",
    "#  '__dir__',\n",
    "#  '__doc__',\n",
    "#  '__eq__',\n",
    "#  '__format__',\n",
    "#  '__ge__',\n",
    "#   ....\n",
    "#  '__next__',\n",
    "#  '__setstate__',\n",
    "#  '__sizeof__',\n",
    "#  '__str__',\n",
    "#  '__subclasshook__']"
   ],
   "id": "e3cbfa668b79cade",
   "outputs": [],
   "execution_count": null
  },
  {
   "metadata": {},
   "cell_type": "code",
   "source": [
    "inspect.signature(pd.read_csv)\n",
    "\n",
    "# Output\n",
    "# <Signature (filepath_or_buffer: 'FilePath | ReadCsvBuffer[bytes] | ReadCsvBuffer[str]', *, sep: 'str | None | lib.NoDefault' = <no_default>, delimiter: 'str | None | lib.NoDefault' = None, header: \"int | Sequence[int] | None | Literal['infer']\" = 'infer', names: 'Sequence[Hashable] | None | lib.NoDefault' = <no_default>, index_col: 'IndexLabel | Literal[False] | None' = None, usecols: 'UsecolsArgType' = None, dtype: 'DtypeArg | None' = None, engine: 'CSVEngine | None' = None, converters: 'Mapping[Hashable, Callable] | None' = None, true_values: 'list | None' = None, false_values: 'list | None' = None, skipinitialspace: 'bool' = False, skiprows: 'list[int] | int | Callable[[Hashable], bool] | None' = None, skipfooter: 'int' = 0, nrows: 'int | None' = None, na_values: 'Hashable | Iterable[Hashable] | Mapping[Hashable, Iterable[Hashable]] | None' = None, keep_default_na: 'bool' = True, na_filter: 'bool' = True, verbose: 'bool | lib.NoDefault' = <no_default>, skip_blank_lines: 'bool' = True, parse_dates: 'bool | Sequence[Hashable] | None' = None, infer_datetime_format: 'bool | lib.NoDefault' = <no_default>, keep_date_col: 'bool | lib.NoDefault' = <no_default>, date_parser: 'Callable | lib.NoDefault' = <no_default>, date_format: 'str | dict[Hashable, str] | None' = None, dayfirst: 'bool' = False, cache_dates: 'bool' = True, iterator: 'bool' = False, chunksize: 'int | None' = None, compression: 'CompressionOptions' = 'infer', thousands: 'str | None' = None, decimal: 'str' = '.', lineterminator: 'str | None' = None, quotechar: 'str' = '\"', quoting: 'int' = 0, doublequote: 'bool' = True, escapechar: 'str | None' = None, comment: 'str | None' = None, encoding: 'str | None' = None, encoding_errors: 'str | None' = 'strict', dialect: 'str | csv.Dialect | None' = None, on_bad_lines: 'str' = 'error', delim_whitespace: 'bool | lib.NoDefault' = <no_default>, low_memory: 'bool' = True, memory_map: 'bool' = False, float_precision: \"Literal['high', 'legacy'] | None\" = None, storage_options: 'StorageOptions | None' = None, dtype_backend: 'DtypeBackend | lib.NoDefault' = <no_default>) -> 'DataFrame | TextFileReader'>"
   ],
   "id": "a9aecc8f53d607b7",
   "outputs": [],
   "execution_count": null
  },
  {
   "metadata": {},
   "cell_type": "markdown",
   "source": "# File Handling",
   "id": "c1fcf59bdfccf482"
  },
  {
   "metadata": {},
   "cell_type": "markdown",
   "source": "## Load JSON file",
   "id": "e9fbb62e3eee6255"
  },
  {
   "metadata": {},
   "cell_type": "code",
   "source": [
    "with open('data/people.json') as f:\n",
    "    data = json.load(f)"
   ],
   "id": "e5f9e4749dac0b4a",
   "outputs": [],
   "execution_count": null
  },
  {
   "metadata": {},
   "cell_type": "code",
   "source": [
    "data\n",
    "# [{'name': 'Alice', 'age': 28},\n",
    "#  {'name': 'Bob', 'age': 34},\n",
    "#  {'name': 'Charlie', 'age': 22},\n",
    "#  {'name': 'Diana', 'age': 31},\n",
    "#  {'name': 'Ethan', 'age': 45},\n",
    "#  {'name': 'Fiona', 'age': 27},\n",
    "#  {'name': 'George', 'age': 38},\n",
    "#  {'name': 'Hannah', 'age': 25},\n",
    "#  {'name': 'Ian', 'age': 29},\n",
    "#  {'name': 'Julia', 'age': 33}]"
   ],
   "id": "d3983d94b9d57c29",
   "outputs": [],
   "execution_count": null
  },
  {
   "metadata": {},
   "cell_type": "markdown",
   "source": [
    "# Date & Time\n",
    "\n",
    "| Format String | Meaning          | Example |\n",
    "| ------------- | ---------------- | ------- |\n",
    "| `%Y`          | Year (4 digits)  | `2025`  |\n",
    "| `%m`          | Month (2 digits) | `06`    |\n",
    "| `%d`          | Day              | `24`    |\n",
    "| `%H`          | Hour (24h)       | `19`    |\n",
    "| `%M`          | Minute           | `00`    |\n",
    "| `%S`          | Second           | `45`    |\n"
   ],
   "id": "88e2dd47f76ae17a"
  },
  {
   "metadata": {},
   "cell_type": "code",
   "source": [
    "from datetime import datetime, timedelta, date, UTC\n",
    "# Current local time\n",
    "now = datetime.now()\n",
    "now"
   ],
   "id": "f5ec663128578f59",
   "outputs": [],
   "execution_count": null
  },
  {
   "metadata": {},
   "cell_type": "code",
   "source": [
    "# Current UTC time\n",
    "utc_now = datetime.now(UTC)\n",
    "utc_now"
   ],
   "id": "b99d12b56f9e8587",
   "outputs": [],
   "execution_count": null
  },
  {
   "metadata": {},
   "cell_type": "code",
   "source": [
    "# Current date only\n",
    "today = date.today()\n",
    "today"
   ],
   "id": "66b63190e236518e",
   "outputs": [],
   "execution_count": null
  },
  {
   "metadata": {},
   "cell_type": "markdown",
   "source": "## String <> Datetime Conversion",
   "id": "cd9a57637b4bfe30"
  },
  {
   "metadata": {
    "ExecuteTime": {
     "end_time": "2025-06-25T00:49:28.713328Z",
     "start_time": "2025-06-25T00:49:28.708641Z"
    }
   },
   "cell_type": "code",
   "source": [
    "dt = datetime.strptime(\"2025-06-24 19:00\", \"%Y-%m-%d %H:%M\")\n",
    "dt\n",
    "\n",
    "# datetime.datetime(2025, 6, 24, 19, 0)"
   ],
   "id": "7959bf6c08f7fa61",
   "outputs": [
    {
     "data": {
      "text/plain": [
       "datetime.datetime(2025, 6, 24, 19, 0)"
      ]
     },
     "execution_count": 97,
     "metadata": {},
     "output_type": "execute_result"
    }
   ],
   "execution_count": 97
  },
  {
   "metadata": {
    "ExecuteTime": {
     "end_time": "2025-06-25T00:50:23.417333Z",
     "start_time": "2025-06-25T00:50:23.415293Z"
    }
   },
   "cell_type": "code",
   "source": [
    "s = dt.strftime(\"%Y-%m-%d %H:%M\")\n",
    "s\n",
    "\n",
    "# '2025-06-24 19:00'"
   ],
   "id": "283c9e74bd466241",
   "outputs": [
    {
     "data": {
      "text/plain": [
       "'2025-06n-24 19:00'"
      ]
     },
     "execution_count": 109,
     "metadata": {},
     "output_type": "execute_result"
    }
   ],
   "execution_count": 109
  },
  {
   "metadata": {},
   "cell_type": "markdown",
   "source": "## Add, subtract, time delta",
   "id": "19a5f643ed0ac9b1"
  },
  {
   "metadata": {},
   "cell_type": "code",
   "outputs": [],
   "execution_count": null,
   "source": [
    "yesterday = today - timedelta(days=1)\n",
    "tomorrow = today + timedelta(days=1)"
   ],
   "id": "c835e4306b12889f"
  },
  {
   "metadata": {
    "ExecuteTime": {
     "end_time": "2025-06-25T00:47:07.639574Z",
     "start_time": "2025-06-25T00:47:07.636137Z"
    }
   },
   "cell_type": "code",
   "source": [
    "delta = timedelta(days=5, hours=0)\n",
    "new_time = now + delta\n",
    "new_time"
   ],
   "id": "847539d032b67720",
   "outputs": [
    {
     "data": {
      "text/plain": [
       "datetime.datetime(2025, 6, 29, 21, 40, 54, 750434)"
      ]
     },
     "execution_count": 94,
     "metadata": {},
     "output_type": "execute_result"
    }
   ],
   "execution_count": 94
  },
  {
   "metadata": {},
   "cell_type": "markdown",
   "source": [
    "# Data Structures\n",
    "\n",
    "| **Data Structure**              | **Properties**                                                                                             | **When to Use**                                                                                           |\n",
    "| ------------------------------- | ---------------------------------------------------------------------------------------------------------- | --------------------------------------------------------------------------------------------------------- |\n",
    "| **List** (`[]`)                 | - Ordered  <br> - Mutable  <br> - Allows duplicates  <br> - O(1) append <br> - O(n) search, insert, delete | - Ordered collection of items  <br> - Need to maintain sequence  <br> - Iteration and processing in order |\n",
    "| **Tuple** (`()`)                | - Ordered <br> - Immutable <br> - Allows duplicates <br> - Faster than list                                | - Fixed collection of items <br> - Keys in dictionaries <br> - Function return of multiple values         |\n",
    "| **Set** (`{}`)                  | - Unordered <br> - Unique elements <br> - No duplicates <br> - O(1) lookup and add                         | - Removing duplicates <br> - Membership tests <br> - Set operations (union, intersection)                 |\n",
    "| **Dict** (`{key: value}`)       | - Key-value pairs <br> - Unordered <br> - O(1) lookup by key <br> - Keys must be unique                    | - Fast lookups <br> - Mapping relationships (id → value) <br> - Counting, grouping                        |\n",
    "| **Deque** (`collections.deque`) | - Double-ended queue <br> - Fast append/pop both ends <br> - O(1) append/pop left and right                | - Queue or stack with fast performance <br> - Sliding windows, BFS                                        |\n",
    "| **Heap** (`heapq`)              | - Min-heap by default <br> - O(log n) insert and extract <br> - Always access smallest element             | - Priority queues <br> - Scheduling <br> - Top K elements                                                 |\n",
    "\n",
    "In plain words: <br/>\n",
    "✅ List → For general ordered sequences <br/>\n",
    "✅ Tuple → For fixed-size or immutable sequences <br/>\n",
    "✅ Set → For unique items & fast \"is this in?\" tests <br/>\n",
    "✅ Dict → For key-value mappings (extremely common in data engineering) <br/>\n",
    "✅ Deque → For efficient queue or stack <br/>\n",
    "✅ Heap → For \"always get me the smallest (or largest) item fast\"\n"
   ],
   "id": "7635498ed407bfb4"
  },
  {
   "metadata": {},
   "cell_type": "markdown",
   "source": "## Lists",
   "id": "93a8070e54bb29bc"
  },
  {
   "metadata": {},
   "cell_type": "code",
   "source": [
    "# Create\n",
    "lst = [1, 2, 3]\n",
    "lst\n",
    "# [1, 2, 3]"
   ],
   "id": "67c0adbfb86c467",
   "outputs": [],
   "execution_count": null
  },
  {
   "metadata": {},
   "cell_type": "code",
   "source": [
    "# Add\n",
    "lst.append(4)\n",
    "lst\n",
    "# [1, 2, 3, 4]"
   ],
   "id": "68acef0c1e661c6b",
   "outputs": [],
   "execution_count": null
  },
  {
   "metadata": {},
   "cell_type": "code",
   "source": [
    "# Insert\n",
    "lst.insert(1, 10) # insert new item before index (index, new item)\n",
    "lst\n",
    "# [1, 10, 2, 3, 4]"
   ],
   "id": "e530c2f4ff57b2d8",
   "outputs": [],
   "execution_count": null
  },
  {
   "metadata": {},
   "cell_type": "code",
   "source": [
    "# Remove\n",
    "lst.remove(4) # remove the value; ValueError if not found\n",
    "lst"
   ],
   "id": "4e78e6592041cf9a",
   "outputs": [],
   "execution_count": null
  },
  {
   "metadata": {},
   "cell_type": "code",
   "source": [
    "lst.sort() # doesn't work if the list has values from different types\n",
    "lst"
   ],
   "id": "4cf2c0d9c8cfa270",
   "outputs": [],
   "execution_count": null
  },
  {
   "metadata": {},
   "cell_type": "code",
   "source": [
    "lst.reverse() # sort descending\n",
    "lst"
   ],
   "id": "def1fba98574c683",
   "outputs": [],
   "execution_count": null
  },
  {
   "metadata": {},
   "cell_type": "code",
   "source": [
    "# comprehension\n",
    "fruits = [\"apple\", \"banana\", \"cherry\", \"kiwi\", \"mango\"]\n",
    "newlist = [x for x in fruits if \"a\" in x]\n",
    "newlist\n",
    "\n",
    "# ['apple', 'banana', 'mango']"
   ],
   "id": "8d148e33dba34668",
   "outputs": [],
   "execution_count": null
  },
  {
   "metadata": {},
   "cell_type": "markdown",
   "source": "## Dicts",
   "id": "bb98aab25f6a96ef"
  },
  {
   "metadata": {},
   "cell_type": "code",
   "source": [
    "# Create\n",
    "d = {'a': 1, 'b': 2}\n",
    "d\n",
    "# {'a': 1, 'b': 2}"
   ],
   "id": "cd3b36369ebaf06c",
   "outputs": [],
   "execution_count": null
  },
  {
   "metadata": {},
   "cell_type": "code",
   "source": [
    "# Add/Update\n",
    "d['c'] = 3\n",
    "d\n",
    "# {'a': 1, 'b': 2, 'c': 3}"
   ],
   "id": "94791659f2be928d",
   "outputs": [],
   "execution_count": null
  },
  {
   "metadata": {},
   "cell_type": "code",
   "source": [
    "# Access\n",
    "value = d.get('a', 0) # or just d['a']\n",
    "value"
   ],
   "id": "771a2efe404f330",
   "outputs": [],
   "execution_count": null
  },
  {
   "metadata": {},
   "cell_type": "code",
   "source": [
    "# Iterate\n",
    "for k, v in d.items():\n",
    "    print(k, v)\n",
    "\n",
    "# a 1\n",
    "# b 2\n",
    "# c 3"
   ],
   "id": "326b34e8f37d9d48",
   "outputs": [],
   "execution_count": null
  },
  {
   "metadata": {},
   "cell_type": "code",
   "source": [
    "# Comprehension to generator\n",
    "keys = (k for k, v in d.items())\n",
    "print(keys)\n",
    "for k in keys:\n",
    "    print(k)\n",
    "\n",
    "# <generator object <genexpr> at 0x106a04ee0>\n",
    "# a\n",
    "# b\n",
    "# c"
   ],
   "id": "82343e346ccb5711",
   "outputs": [],
   "execution_count": null
  },
  {
   "metadata": {},
   "cell_type": "code",
   "source": [
    "# Comprehension to list\n",
    "keys = [k for k, v in d.items()]\n",
    "print(keys)\n",
    "for k in keys:\n",
    "    print(k)\n",
    "\n",
    "# ['a', 'b', 'c']\n",
    "# a\n",
    "# b\n",
    "# c"
   ],
   "id": "950019049fe05628",
   "outputs": [],
   "execution_count": null
  },
  {
   "metadata": {},
   "cell_type": "code",
   "source": [
    "# Dict comprehension\n",
    "squares = {x: x**2 for x in range(5)}\n",
    "squares"
   ],
   "id": "4174741d97545bef",
   "outputs": [],
   "execution_count": null
  },
  {
   "metadata": {},
   "cell_type": "markdown",
   "source": "## Sets",
   "id": "fcff2742faa6f4f8"
  },
  {
   "metadata": {},
   "cell_type": "code",
   "source": [
    "# Create\n",
    "s = {1, 2, 3}\n",
    "s\n",
    "\n",
    "# {1, 2, 3}"
   ],
   "id": "18b497965be96a1f",
   "outputs": [],
   "execution_count": null
  },
  {
   "metadata": {},
   "cell_type": "code",
   "source": [
    "# Add\n",
    "s.add(4)\n",
    "s\n",
    "\n",
    "# {1, 2, 3, 4}"
   ],
   "id": "1dbd6b846a594752",
   "outputs": [],
   "execution_count": null
  },
  {
   "metadata": {},
   "cell_type": "code",
   "source": [
    "# Remove\n",
    "s.discard(2) # doesn't throw error if not found\n",
    "s\n",
    "\n",
    "# {1, 3, 4}"
   ],
   "id": "3ba4d404b1fb345d",
   "outputs": [],
   "execution_count": null
  },
  {
   "metadata": {},
   "cell_type": "code",
   "source": [
    "# Set operations\n",
    "a = {1, 2, 3}\n",
    "b = {3, 4, 5}\n",
    "union = a | b\n",
    "intersection = a & b\n",
    "difference = a - b\n",
    "\n",
    "print(union) # {1, 2, 3, 4, 5}\n",
    "print(intersection) # {3}\n",
    "print(difference) # {1, 2}"
   ],
   "id": "bf24bca0ba614233",
   "outputs": [],
   "execution_count": null
  },
  {
   "metadata": {},
   "cell_type": "markdown",
   "source": [
    "## Tuples\n",
    "\n"
   ],
   "id": "b317047f4a4d9bda"
  },
  {
   "metadata": {},
   "cell_type": "code",
   "source": [
    "# Create\n",
    "t = (1, 2, 3)\n",
    "\n",
    "# Unpack\n",
    "a, b, c = t\n",
    "\n",
    "# Useful in dict keys and as function return\n",
    "# return (min_val, max_val)"
   ],
   "id": "8b83fe9bc8a76b20",
   "outputs": [],
   "execution_count": null
  },
  {
   "metadata": {},
   "cell_type": "code",
   "source": [
    "# as dict keys\n",
    "salaries = {}\n",
    "salaries[('John', 'Smith')] = 10000.0\n",
    "salaries[('John', 'Parker')] = 99999.0\n",
    "salaries\n",
    "\n",
    "# {('John', 'Smith'): 10000.0, ('John', 'Parker'): 99999.0}"
   ],
   "id": "473c08faa5d23b38",
   "outputs": [],
   "execution_count": null
  },
  {
   "metadata": {},
   "cell_type": "code",
   "source": [
    "for k, v in salaries.items():\n",
    "    print(k[0], k[1], v)\n",
    "\n",
    "# John Smith 10000.0\n",
    "# John Parker 99999.0"
   ],
   "id": "25733b3e254c5bf8",
   "outputs": [],
   "execution_count": null
  },
  {
   "metadata": {},
   "cell_type": "markdown",
   "source": "## Queue and Stack",
   "id": "cd1df7755a80f875"
  },
  {
   "metadata": {},
   "cell_type": "code",
   "source": [
    "# Stack (LIFO) The same as list\n",
    "stack = []\n",
    "stack.append(10)\n",
    "v = stack.pop()\n",
    "print(v)     # 10\n",
    "print(stack) # []"
   ],
   "id": "8664e24e64d5266e",
   "outputs": [],
   "execution_count": null
  },
  {
   "metadata": {},
   "cell_type": "code",
   "source": [
    "from collections import deque\n",
    "# Queue (FIFO)\n",
    "queue = deque()\n",
    "queue.append(10)\n",
    "queue.append(20)\n",
    "queue.append(30)\n",
    "queue\n",
    "\n",
    "# deque([10, 20, 30])"
   ],
   "id": "162a92d02f358c2d",
   "outputs": [],
   "execution_count": null
  },
  {
   "metadata": {},
   "cell_type": "code",
   "source": [
    "queue.popleft() # 10\n",
    "queue\n",
    "\n",
    "# deque([20, 30])"
   ],
   "id": "647bc0999f49fa39",
   "outputs": [],
   "execution_count": null
  },
  {
   "metadata": {},
   "cell_type": "code",
   "source": [
    "queue.pop() # 30\n",
    "\n",
    "# deque([20])"
   ],
   "id": "f7ef66689d4233c1",
   "outputs": [],
   "execution_count": null
  },
  {
   "metadata": {},
   "cell_type": "markdown",
   "source": "# Data Transformations",
   "id": "e197575bc8e236f0"
  },
  {
   "metadata": {},
   "cell_type": "markdown",
   "source": "## Filtering",
   "id": "88e289eb08f6b73"
  },
  {
   "metadata": {},
   "cell_type": "code",
   "source": [
    "young  = [x for x in data if x['age'] < 40]\n",
    "young\n",
    "\n",
    "#  [{'name': 'Alice', 'age': 28},\n",
    "#  {'name': 'Charlie', 'age': 22},\n",
    "#  {'name': 'Fiona', 'age': 27},\n",
    "#  {'name': 'Hannah', 'age': 25},\n",
    "#  {'name': 'Ian', 'age': 29}]"
   ],
   "id": "83aba46b76e6dec7",
   "outputs": [],
   "execution_count": null
  },
  {
   "metadata": {},
   "cell_type": "markdown",
   "source": "## Sorting",
   "id": "bb05d43fe5ae8777"
  },
  {
   "metadata": {},
   "cell_type": "code",
   "source": [
    "young_sorted = sorted(young, key=lambda x: x['age'])\n",
    "young_sorted\n",
    "\n",
    "# [{'name': 'Charlie', 'age': 22},\n",
    "#  {'name': 'Hannah', 'age': 25},\n",
    "#  {'name': 'Fiona', 'age': 27},\n",
    "#  {'name': 'Alice', 'age': 28},\n",
    "#  {'name': 'Ian', 'age': 29},\n",
    "#  {'name': 'Diana', 'age': 31},\n",
    "#  {'name': 'Julia', 'age': 33},\n",
    "#  {'name': 'Bob', 'age': 34},\n",
    "#  {'name': 'George', 'age': 38}]"
   ],
   "id": "b574faa6d830e50d",
   "outputs": [],
   "execution_count": null
  },
  {
   "metadata": {},
   "cell_type": "code",
   "source": "",
   "id": "2e7d1f940eaf40ff",
   "outputs": [],
   "execution_count": null
  }
 ],
 "metadata": {
  "kernelspec": {
   "display_name": "Python 3",
   "language": "python",
   "name": "python3"
  },
  "language_info": {
   "codemirror_mode": {
    "name": "ipython",
    "version": 2
   },
   "file_extension": ".py",
   "mimetype": "text/x-python",
   "name": "python",
   "nbconvert_exporter": "python",
   "pygments_lexer": "ipython2",
   "version": "2.7.6"
  }
 },
 "nbformat": 4,
 "nbformat_minor": 5
}
