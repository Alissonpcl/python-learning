{
 "cells": [
  {
   "cell_type": "code",
   "execution_count": null,
   "id": "7813cef2",
   "metadata": {},
   "outputs": [],
   "source": [
    "import pandas as pd\n",
    "import numpy as np\n",
    "from datetime import datetime\n",
    " \n",
    "data = {\n",
    "    'user_id': [1, 2, 3, 4, 5, 6],\n",
    "    'country': ['US', 'US', 'UK', None, 'FR', 'DE'],\n",
    "    'signup_date': ['2022-01-05', '2022-01-06', np.nan, '2022-01-08', '2022-01-09', 'not_a_date'],\n",
    "    'purchase': ['100', 200, 'N/A', 300, 400, 500],\n",
    "    'is_active': [True, False, 'yes', 'no', 1, 0]    \n",
    "}\n",
    " \n",
    "df = pd.DataFrame(data)"
   ]
  },
  {
   "cell_type": "code",
   "execution_count": null,
   "id": "9baa3c58",
   "metadata": {},
   "outputs": [],
   "source": [
    "def replace_invalid_dates(p_date):\n",
    "    default_date = '2025-01-01'\n",
    "    if pd.isna(p_date):\n",
    "        return default_date\n",
    "    \n",
    "    try:        \n",
    "        datetime.strptime(p_date, '%Y-%m-%d')\n",
    "        return p_date\n",
    "    except ValueError as e:\n",
    "        return default_date    \n",
    "\n",
    "# Convert signup_date to datetime\n",
    "# df['signup_date'] = pd.to_datetime(df['signup_date'])\n",
    "df['signup_date_2'] = df['signup_date'].apply(replace_invalid_dates)\n",
    "df['signup_date_2'] = pd.to_datetime(df['signup_date_2'])"
   ]
  },
  {
   "cell_type": "code",
   "execution_count": null,
   "id": "58ecc463",
   "metadata": {},
   "outputs": [],
   "source": [
    "df"
   ]
  },
  {
   "cell_type": "code",
   "execution_count": null,
   "id": "c97f4de3",
   "metadata": {},
   "outputs": [],
   "source": [
    "# Convert purchase to float\n",
    "df['purchase_2'] = df['purchase'].apply(lambda x: float(x) if x != 'N/A' else 0)"
   ]
  },
  {
   "cell_type": "code",
   "execution_count": null,
   "id": "3e8aaea0",
   "metadata": {},
   "outputs": [],
   "source": [
    "df"
   ]
  },
  {
   "cell_type": "code",
   "execution_count": null,
   "id": "edc7feaf",
   "metadata": {},
   "outputs": [],
   "source": [
    "\n",
    "df['is_active_2'] = df['is_active'].apply(lambda x: True if x in (True, 1, 'yes') else False)\n",
    "active_df = df[df['is_active_2'] == True]"
   ]
  },
  {
   "cell_type": "code",
   "execution_count": null,
   "id": "9c68691c",
   "metadata": {},
   "outputs": [],
   "source": [
    "\n",
    "# Calculate average purchase per country\n",
    "avg_purchase = active_df.groupby('country')['purchase_2'].mean()\n",
    " \n",
    "print(avg_purchase)\n",
    " "
   ]
  }
 ],
 "metadata": {
  "kernelspec": {
   "display_name": "python-learning",
   "language": "python",
   "name": "python3"
  },
  "language_info": {
   "codemirror_mode": {
    "name": "ipython",
    "version": 3
   },
   "file_extension": ".py",
   "mimetype": "text/x-python",
   "name": "python",
   "nbconvert_exporter": "python",
   "pygments_lexer": "ipython3",
   "version": "3.12.11"
  }
 },
 "nbformat": 4,
 "nbformat_minor": 5
}
