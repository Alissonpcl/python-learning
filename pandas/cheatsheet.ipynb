{
 "cells": [
  {
   "metadata": {},
   "cell_type": "markdown",
   "source": "# import",
   "id": "7bc47e0e3fdd96e"
  },
  {
   "cell_type": "code",
   "id": "initial_id",
   "metadata": {
    "collapsed": true,
    "ExecuteTime": {
     "end_time": "2025-06-15T16:12:34.364555Z",
     "start_time": "2025-06-15T16:12:34.360153Z"
    }
   },
   "source": [
    "from os import rename\n",
    "from pathlib import Path\n",
    "\n",
    "import pandas as pd"
   ],
   "outputs": [],
   "execution_count": 73
  },
  {
   "metadata": {},
   "cell_type": "markdown",
   "source": "# Dataframes",
   "id": "b87c48b83c1b4252"
  },
  {
   "metadata": {},
   "cell_type": "markdown",
   "source": "## from dict",
   "id": "f96e112ecff716dd"
  },
  {
   "metadata": {
    "ExecuteTime": {
     "end_time": "2025-06-15T16:04:12.177208Z",
     "start_time": "2025-06-15T16:04:12.173983Z"
    }
   },
   "cell_type": "code",
   "source": [
    "data = {\n",
    "    'Country': ['Belgium', 'India', 'Brazil'],\n",
    "    'Capital': ['Brussels', 'New Delhi', 'Brasilia'],\n",
    "    'Population': [100, 200, 300]\n",
    "}\n",
    "df = pd.DataFrame(data, columns=['Country', 'Capital', 'Population'])"
   ],
   "id": "2ab6cc12e8c66d12",
   "outputs": [],
   "execution_count": 68
  },
  {
   "metadata": {},
   "cell_type": "markdown",
   "source": "## from files",
   "id": "57a7d60bee4c2e0"
  },
  {
   "metadata": {},
   "cell_type": "markdown",
   "source": "### CSV",
   "id": "d3fab87b1eb8abfe"
  },
  {
   "metadata": {},
   "cell_type": "code",
   "outputs": [],
   "execution_count": null,
   "source": [
    "# Simple read file\n",
    "df = pd.read_csv(\"../data/products.csv\")\n",
    "\n",
    "\"\"\"\n",
    "Most commons params\n",
    "\n",
    "| Parameter                   | Description                                                | Common Use Case                                             |\n",
    "| --------------------------- | ---------------------------------------------------------- | ----------------------------------------------------------- |\n",
    "| filepath_or_buffer          | File path (string or URL) or file-like object              | Required to point to the CSV file                           |\n",
    "| sep                         | Field delimiter (default is `','`)                         | Use `\\t` for TSV, `;` for European-style CSV                |\n",
    "| header                      | Row number to use as column names (default is `0`)         | Use `None` if there's no header                             |\n",
    "| names                       | List of column names to use (overrides `header`)           | Useful when header is missing or needs renaming             |\n",
    "| index_col                   | Column(s) to set as index                                  | Often used to set time or ID columns as index               |\n",
    "| usecols                     | Subset of columns to read (by name or index)               | Improves performance when not all columns are needed        |\n",
    "| dtype                       | Dict of column types                                       | Enforces type consistency or memory optimization            |\n",
    "| parse_dates                 | List of columns to parse as datetime                       | Automatically converts date strings into `datetime` objects |\n",
    "| infer_datetime_format       | Speed up datetime parsing when format is consistent        | Faster parsing with consistent formats                      |\n",
    "| na_values                   | List of strings to recognize as NaN                        | Customize missing value handling (`[\"NA\", \"NULL\", \"n/a\"]`)  |\n",
    "| skiprows                    | Number of lines to skip at the start                       | Useful for skipping metadata or junk rows                   |\n",
    "| nrows                       | Number of rows to read                                     | Used for sampling large files                               |\n",
    "| chunksize                   | Return an iterator with chunks of data (number of lines)   | Enables streaming large datasets in pieces                  |\n",
    "| encoding                    | Encoding of the file (default is `'utf-8'`)                | Use `'ISO-8859-1'` or `'latin1'` for special characters     |\n",
    "| compression                 | For compressed files (`'gzip'`, `'zip'`, etc.)             | Automatically handles zipped data files                     |\n",
    "\n",
    "\"\"\"\n",
    "\n"
   ],
   "id": "c9ef10022e9dfafe"
  },
  {
   "metadata": {},
   "cell_type": "code",
   "outputs": [],
   "execution_count": null,
   "source": [
    "\"\"\"\n",
    "    This would read a CSV in chunks from S3,\n",
    "    parse timestamps,\n",
    "    optimize memory by enforcing types,\n",
    "    and limit to specific useful columns.\n",
    "\"\"\"\n",
    "df = pd.read_csv(\n",
    "    \"s3://bucket/data.csv\",\n",
    "    sep=\",\",\n",
    "    usecols=[\"id\", \"timestamp\", \"event_type\"],\n",
    "    parse_dates=[\"timestamp\"],\n",
    "    dtype={\"id\": \"int32\", \"event_type\": \"category\"},\n",
    "    chunksize=100000\n",
    ")"
   ],
   "id": "6b9abcfdd8afb6b4"
  },
  {
   "metadata": {},
   "cell_type": "code",
   "outputs": [],
   "execution_count": null,
   "source": [
    "\"\"\"\n",
    "    Treating date fields\n",
    "\"\"\"\n",
    "df = pd.read_csv(f\"{Path().absolute()}/netflix_titles.csv\",\n",
    "                 parse_dates=['date_added'],\n",
    "                 date_format='%B %d, %Y')\n",
    "\n",
    "# It's required to use str.strip() because some of the values\n",
    "# have a whitespace at the beginning\n",
    "df['date_added'] = pd.to_datetime(df['date_added'].str.strip(), format='%B %d, %Y')\n",
    "\n",
    "df.dtypes"
   ],
   "id": "5876e2312d660b60"
  },
  {
   "metadata": {},
   "cell_type": "markdown",
   "source": "## from database",
   "id": "62d8708b75d9e5c2"
  },
  {
   "metadata": {},
   "cell_type": "code",
   "outputs": [],
   "execution_count": null,
   "source": [
    "from sqlalchemy import create_engine\n",
    "\n",
    "# Database connection settings\n",
    "host = \"your_host\"\n",
    "port = \"5432\"\n",
    "database = \"your_database\"\n",
    "user = \"your_username\"\n",
    "password = \"your_password\"\n",
    "\n",
    "# Create the SQLAlchemy connection string\n",
    "connection_string = f\"postgresql+psycopg2://{user}:{password}@{host}:{port}/{database}\"\n",
    "\n",
    "# Create the database engine\n",
    "engine = create_engine(connection_string)\n",
    "\n",
    "# Example query\n",
    "query = \"\"\"\n",
    "        SELECT id, name, created_at\n",
    "        FROM your_table\n",
    "        WHERE created_at >= CURRENT_DATE - INTERVAL '30 days' \\\n",
    "        \"\"\"\n",
    "\n",
    "# Read the query into a DataFrame\n",
    "df = pd.read_sql(query, engine)\n",
    "\n",
    "# Preview data\n",
    "print(df.head())\n"
   ],
   "id": "9c2bd456a0322ea7"
  },
  {
   "metadata": {},
   "cell_type": "markdown",
   "source": "## basic info",
   "id": "ea800db43e9bfc67"
  },
  {
   "metadata": {
    "ExecuteTime": {
     "end_time": "2025-06-15T15:46:27.719089Z",
     "start_time": "2025-06-15T15:46:27.699889Z"
    }
   },
   "cell_type": "code",
   "source": [
    "# df.shape   # (rows,columns)\n",
    "# df.index   # Describe index\n",
    "# df.columns # Describe columns\n",
    "# df.info()  # Info of df\n",
    "df.count()  # Number of non-NA values"
   ],
   "id": "f63de1aeeb066378",
   "outputs": [
    {
     "data": {
      "text/plain": [
       "       Population\n",
       "count         3.0\n",
       "mean        200.0\n",
       "std         100.0\n",
       "min         100.0\n",
       "25%         150.0\n",
       "50%         200.0\n",
       "75%         250.0\n",
       "max         300.0"
      ],
      "text/html": [
       "<div>\n",
       "<style scoped>\n",
       "    .dataframe tbody tr th:only-of-type {\n",
       "        vertical-align: middle;\n",
       "    }\n",
       "\n",
       "    .dataframe tbody tr th {\n",
       "        vertical-align: top;\n",
       "    }\n",
       "\n",
       "    .dataframe thead th {\n",
       "        text-align: right;\n",
       "    }\n",
       "</style>\n",
       "<table border=\"1\" class=\"dataframe\">\n",
       "  <thead>\n",
       "    <tr style=\"text-align: right;\">\n",
       "      <th></th>\n",
       "      <th>Population</th>\n",
       "    </tr>\n",
       "  </thead>\n",
       "  <tbody>\n",
       "    <tr>\n",
       "      <th>count</th>\n",
       "      <td>3.0</td>\n",
       "    </tr>\n",
       "    <tr>\n",
       "      <th>mean</th>\n",
       "      <td>200.0</td>\n",
       "    </tr>\n",
       "    <tr>\n",
       "      <th>std</th>\n",
       "      <td>100.0</td>\n",
       "    </tr>\n",
       "    <tr>\n",
       "      <th>min</th>\n",
       "      <td>100.0</td>\n",
       "    </tr>\n",
       "    <tr>\n",
       "      <th>25%</th>\n",
       "      <td>150.0</td>\n",
       "    </tr>\n",
       "    <tr>\n",
       "      <th>50%</th>\n",
       "      <td>200.0</td>\n",
       "    </tr>\n",
       "    <tr>\n",
       "      <th>75%</th>\n",
       "      <td>250.0</td>\n",
       "    </tr>\n",
       "    <tr>\n",
       "      <th>max</th>\n",
       "      <td>300.0</td>\n",
       "    </tr>\n",
       "  </tbody>\n",
       "</table>\n",
       "</div>"
      ]
     },
     "execution_count": 41,
     "metadata": {},
     "output_type": "execute_result"
    }
   ],
   "execution_count": 41
  },
  {
   "metadata": {},
   "cell_type": "markdown",
   "source": "# Saving dataframes",
   "id": "4c018e591d7046a7"
  },
  {
   "metadata": {},
   "cell_type": "markdown",
   "source": "## to files",
   "id": "7a95feb9849779a"
  },
  {
   "metadata": {},
   "cell_type": "code",
   "outputs": [],
   "execution_count": null,
   "source": [
    "df.to_csv('data.csv', index=False)\n",
    "\n",
    "\"\"\"\n",
    "| Parameter             | Description                                           | Common Use Case                                         |\n",
    "| --------------------- | ----------------------------------------------------- | ------------------------------------------------------- |\n",
    "| path_or_buf           | File path or file-like object                         | Local path or cloud storage path                        |\n",
    "| sep                   | Field delimiter (default is `','`)                    | Use `\\t` for TSV or `;` in European formats             |\n",
    "| index                 | Whether to write row indices (default `True`)         | Set to `False` to exclude index column                  |\n",
    "| columns               | List of columns to write                              | Export only selected columns                            |\n",
    "| header                | Whether to write column names (default `True`)        | Set to `False` to exclude header row                    |\n",
    "| mode                  | Write mode (`'w'` or `'a'`)                           | `'a'` allows appending to existing files                |\n",
    "| encoding              | Output encoding (default `'utf-8'`)                   | Use `'utf-8-sig'` for Excel compatibility or `'latin1'` |\n",
    "| compression           | Compression format (`'gzip'`, `'zip'`, `'bz2'`, etc.) | Compress files during export                            |\n",
    "| line_terminator       | End-of-line character (`'\\n'`, `'\\r\\n'`)              | Control line endings across platforms                   |\n",
    "| float_format          | Format for floating-point numbers                     | Useful for consistent rounding (e.g., `\"%.2f\"`)         |\n",
    "| date_format           | Format for datetime columns                           | Standardize timestamp export (`\"%Y-%m-%d\"`)             |\n",
    "| quoting               | CSV quoting behavior (from `csv` module)              | Handle special characters in text                       |\n",
    "| chunksize             | Number of rows to write at a time                     | Useful for large data export                            |\n",
    "| na_rep                | Representation for NaN/missing values                 | Replace NaN with specific text (e.g., `'-'`)            |\n",
    "\n",
    "\"\"\""
   ],
   "id": "945bfd1b4db1dfc7"
  },
  {
   "metadata": {},
   "cell_type": "markdown",
   "source": "# Tranformations",
   "id": "25c9ac36b996ebb4"
  },
  {
   "metadata": {},
   "cell_type": "markdown",
   "source": "## drop columns",
   "id": "2414482c7ed549d7"
  },
  {
   "metadata": {
    "ExecuteTime": {
     "end_time": "2025-06-15T15:04:04.276375Z",
     "start_time": "2025-06-15T15:04:04.271600Z"
    }
   },
   "cell_type": "code",
   "source": [
    "df2 = df.drop(columns=['Capital'])\n",
    "df2"
   ],
   "id": "57580c111ba65ab9",
   "outputs": [
    {
     "data": {
      "text/plain": [
       "   Country\n",
       "0  Belgium\n",
       "1    India\n",
       "2   Brazil"
      ],
      "text/html": [
       "<div>\n",
       "<style scoped>\n",
       "    .dataframe tbody tr th:only-of-type {\n",
       "        vertical-align: middle;\n",
       "    }\n",
       "\n",
       "    .dataframe tbody tr th {\n",
       "        vertical-align: top;\n",
       "    }\n",
       "\n",
       "    .dataframe thead th {\n",
       "        text-align: right;\n",
       "    }\n",
       "</style>\n",
       "<table border=\"1\" class=\"dataframe\">\n",
       "  <thead>\n",
       "    <tr style=\"text-align: right;\">\n",
       "      <th></th>\n",
       "      <th>Country</th>\n",
       "    </tr>\n",
       "  </thead>\n",
       "  <tbody>\n",
       "    <tr>\n",
       "      <th>0</th>\n",
       "      <td>Belgium</td>\n",
       "    </tr>\n",
       "    <tr>\n",
       "      <th>1</th>\n",
       "      <td>India</td>\n",
       "    </tr>\n",
       "    <tr>\n",
       "      <th>2</th>\n",
       "      <td>Brazil</td>\n",
       "    </tr>\n",
       "  </tbody>\n",
       "</table>\n",
       "</div>"
      ]
     },
     "execution_count": 13,
     "metadata": {},
     "output_type": "execute_result"
    }
   ],
   "execution_count": 13
  },
  {
   "metadata": {},
   "cell_type": "markdown",
   "source": "## drop rows",
   "id": "e5ec9bc043488477"
  },
  {
   "metadata": {
    "ExecuteTime": {
     "end_time": "2025-06-15T15:02:12.174477Z",
     "start_time": "2025-06-15T15:02:12.171288Z"
    }
   },
   "cell_type": "code",
   "source": [
    "df2 = df.drop(0)  # index-based, drops first row\n",
    "df2"
   ],
   "id": "3a3e03580d74b038",
   "outputs": [
    {
     "data": {
      "text/plain": [
       "   Country    Capital\n",
       "0  Belgium   Brussels\n",
       "1    India  New Delhi\n",
       "2   Brazil   Brasilia"
      ],
      "text/html": [
       "<div>\n",
       "<style scoped>\n",
       "    .dataframe tbody tr th:only-of-type {\n",
       "        vertical-align: middle;\n",
       "    }\n",
       "\n",
       "    .dataframe tbody tr th {\n",
       "        vertical-align: top;\n",
       "    }\n",
       "\n",
       "    .dataframe thead th {\n",
       "        text-align: right;\n",
       "    }\n",
       "</style>\n",
       "<table border=\"1\" class=\"dataframe\">\n",
       "  <thead>\n",
       "    <tr style=\"text-align: right;\">\n",
       "      <th></th>\n",
       "      <th>Country</th>\n",
       "      <th>Capital</th>\n",
       "    </tr>\n",
       "  </thead>\n",
       "  <tbody>\n",
       "    <tr>\n",
       "      <th>0</th>\n",
       "      <td>Belgium</td>\n",
       "      <td>Brussels</td>\n",
       "    </tr>\n",
       "    <tr>\n",
       "      <th>1</th>\n",
       "      <td>India</td>\n",
       "      <td>New Delhi</td>\n",
       "    </tr>\n",
       "    <tr>\n",
       "      <th>2</th>\n",
       "      <td>Brazil</td>\n",
       "      <td>Brasilia</td>\n",
       "    </tr>\n",
       "  </tbody>\n",
       "</table>\n",
       "</div>"
      ]
     },
     "execution_count": 5,
     "metadata": {},
     "output_type": "execute_result"
    }
   ],
   "execution_count": 5
  },
  {
   "metadata": {},
   "cell_type": "markdown",
   "source": "## applying functions",
   "id": "a8e9db4412b6eefe"
  },
  {
   "metadata": {
    "ExecuteTime": {
     "end_time": "2025-06-15T15:59:04.759549Z",
     "start_time": "2025-06-15T15:59:04.746353Z"
    }
   },
   "cell_type": "code",
   "source": [
    "f = lambda x: x * 3\n",
    "df2 = df.apply(f)"
   ],
   "id": "df047cac8f702949",
   "outputs": [],
   "execution_count": 61
  },
  {
   "metadata": {
    "ExecuteTime": {
     "end_time": "2025-06-15T16:05:33.263298Z",
     "start_time": "2025-06-15T16:05:33.250288Z"
    }
   },
   "cell_type": "code",
   "source": [
    "def concat_country_capital(row):\n",
    "    return f\"{row['Country']} ({row['Capital']})\"\n",
    "\n",
    "\n",
    "df2 = df.copy()\n",
    "\n",
    "# Using axis = 1, so the parameters passed to the function\n",
    "# is a PD Series representing the row\n",
    "df2['new_column'] = df2.apply(concat_country_capital, axis=1)\n",
    "df2"
   ],
   "id": "4e3893dddc05258d",
   "outputs": [
    {
     "data": {
      "text/plain": [
       "   Country    Capital  Population          new_column\n",
       "0  Belgium   Brussels         100  Belgium (Brussels)\n",
       "1    India  New Delhi         200   India (New Delhi)\n",
       "2   Brazil   Brasilia         300   Brazil (Brasilia)"
      ],
      "text/html": [
       "<div>\n",
       "<style scoped>\n",
       "    .dataframe tbody tr th:only-of-type {\n",
       "        vertical-align: middle;\n",
       "    }\n",
       "\n",
       "    .dataframe tbody tr th {\n",
       "        vertical-align: top;\n",
       "    }\n",
       "\n",
       "    .dataframe thead th {\n",
       "        text-align: right;\n",
       "    }\n",
       "</style>\n",
       "<table border=\"1\" class=\"dataframe\">\n",
       "  <thead>\n",
       "    <tr style=\"text-align: right;\">\n",
       "      <th></th>\n",
       "      <th>Country</th>\n",
       "      <th>Capital</th>\n",
       "      <th>Population</th>\n",
       "      <th>new_column</th>\n",
       "    </tr>\n",
       "  </thead>\n",
       "  <tbody>\n",
       "    <tr>\n",
       "      <th>0</th>\n",
       "      <td>Belgium</td>\n",
       "      <td>Brussels</td>\n",
       "      <td>100</td>\n",
       "      <td>Belgium (Brussels)</td>\n",
       "    </tr>\n",
       "    <tr>\n",
       "      <th>1</th>\n",
       "      <td>India</td>\n",
       "      <td>New Delhi</td>\n",
       "      <td>200</td>\n",
       "      <td>India (New Delhi)</td>\n",
       "    </tr>\n",
       "    <tr>\n",
       "      <th>2</th>\n",
       "      <td>Brazil</td>\n",
       "      <td>Brasilia</td>\n",
       "      <td>300</td>\n",
       "      <td>Brazil (Brasilia)</td>\n",
       "    </tr>\n",
       "  </tbody>\n",
       "</table>\n",
       "</div>"
      ]
     },
     "execution_count": 72,
     "metadata": {},
     "output_type": "execute_result"
    }
   ],
   "execution_count": 72
  },
  {
   "metadata": {},
   "cell_type": "markdown",
   "source": "# Combining Data",
   "id": "60b4c79e9bc6a34d"
  },
  {
   "metadata": {},
   "cell_type": "markdown",
   "source": "## df merge",
   "id": "9da93cac64dda073"
  },
  {
   "metadata": {
    "ExecuteTime": {
     "end_time": "2025-06-15T16:33:07.896077Z",
     "start_time": "2025-06-15T16:33:07.882690Z"
    }
   },
   "cell_type": "code",
   "source": [
    "\n",
    "# reading two csv files\n",
    "products_df = pd.read_csv(\"../data/products.csv\")\n",
    "sales_df = pd.read_csv(\"../data/sales.csv\", parse_dates=[\"sale_date\"])\n",
    "\n",
    "merged_sales_df = pd.merge(products_df, sales_df,\n",
    "                           on='product_id',\n",
    "                           how='left')\n",
    "\n",
    "merged_sales_df"
   ],
   "id": "6011f95bb84eda82",
   "outputs": [
    {
     "data": {
      "text/plain": [
       "   product_id product_name     category   price  sale_id  quantity  sale_date\n",
       "0           1       Laptop  Electronics  1200.0    101.0       1.0 2025-06-01\n",
       "1           1       Laptop  Electronics  1200.0    103.0       1.0 2025-06-03\n",
       "2           2   Smartphone  Electronics   800.0    102.0       2.0 2025-06-02\n",
       "3           2   Smartphone  Electronics   800.0    106.0       1.0 2025-06-05\n",
       "4           3   Headphones  Accessories   150.0    104.0       3.0 2025-06-03\n",
       "5           4      Monitor  Electronics   300.0      NaN       NaN        NaT"
      ],
      "text/html": [
       "<div>\n",
       "<style scoped>\n",
       "    .dataframe tbody tr th:only-of-type {\n",
       "        vertical-align: middle;\n",
       "    }\n",
       "\n",
       "    .dataframe tbody tr th {\n",
       "        vertical-align: top;\n",
       "    }\n",
       "\n",
       "    .dataframe thead th {\n",
       "        text-align: right;\n",
       "    }\n",
       "</style>\n",
       "<table border=\"1\" class=\"dataframe\">\n",
       "  <thead>\n",
       "    <tr style=\"text-align: right;\">\n",
       "      <th></th>\n",
       "      <th>product_id</th>\n",
       "      <th>product_name</th>\n",
       "      <th>category</th>\n",
       "      <th>price</th>\n",
       "      <th>sale_id</th>\n",
       "      <th>quantity</th>\n",
       "      <th>sale_date</th>\n",
       "    </tr>\n",
       "  </thead>\n",
       "  <tbody>\n",
       "    <tr>\n",
       "      <th>0</th>\n",
       "      <td>1</td>\n",
       "      <td>Laptop</td>\n",
       "      <td>Electronics</td>\n",
       "      <td>1200.0</td>\n",
       "      <td>101.0</td>\n",
       "      <td>1.0</td>\n",
       "      <td>2025-06-01</td>\n",
       "    </tr>\n",
       "    <tr>\n",
       "      <th>1</th>\n",
       "      <td>1</td>\n",
       "      <td>Laptop</td>\n",
       "      <td>Electronics</td>\n",
       "      <td>1200.0</td>\n",
       "      <td>103.0</td>\n",
       "      <td>1.0</td>\n",
       "      <td>2025-06-03</td>\n",
       "    </tr>\n",
       "    <tr>\n",
       "      <th>2</th>\n",
       "      <td>2</td>\n",
       "      <td>Smartphone</td>\n",
       "      <td>Electronics</td>\n",
       "      <td>800.0</td>\n",
       "      <td>102.0</td>\n",
       "      <td>2.0</td>\n",
       "      <td>2025-06-02</td>\n",
       "    </tr>\n",
       "    <tr>\n",
       "      <th>3</th>\n",
       "      <td>2</td>\n",
       "      <td>Smartphone</td>\n",
       "      <td>Electronics</td>\n",
       "      <td>800.0</td>\n",
       "      <td>106.0</td>\n",
       "      <td>1.0</td>\n",
       "      <td>2025-06-05</td>\n",
       "    </tr>\n",
       "    <tr>\n",
       "      <th>4</th>\n",
       "      <td>3</td>\n",
       "      <td>Headphones</td>\n",
       "      <td>Accessories</td>\n",
       "      <td>150.0</td>\n",
       "      <td>104.0</td>\n",
       "      <td>3.0</td>\n",
       "      <td>2025-06-03</td>\n",
       "    </tr>\n",
       "    <tr>\n",
       "      <th>5</th>\n",
       "      <td>4</td>\n",
       "      <td>Monitor</td>\n",
       "      <td>Electronics</td>\n",
       "      <td>300.0</td>\n",
       "      <td>NaN</td>\n",
       "      <td>NaN</td>\n",
       "      <td>NaT</td>\n",
       "    </tr>\n",
       "  </tbody>\n",
       "</table>\n",
       "</div>"
      ]
     },
     "execution_count": 105,
     "metadata": {},
     "output_type": "execute_result"
    }
   ],
   "execution_count": 105
  },
  {
   "metadata": {},
   "cell_type": "markdown",
   "source": "## finding absent values",
   "id": "9a8ccd727262252a"
  },
  {
   "metadata": {
    "ExecuteTime": {
     "end_time": "2025-06-15T16:37:25.347078Z",
     "start_time": "2025-06-15T16:37:25.320830Z"
    }
   },
   "cell_type": "code",
   "source": [
    "# Load the CSV files\n",
    "products_df = pd.read_csv(\"../data/products.csv\")\n",
    "sales_df = pd.read_csv(\"../data/sales.csv\")\n",
    "\n",
    "# Find products without sales\n",
    "products_with_sales = sales_df[\"product_id\"].unique()\n",
    "\n",
    "# What doest the trick if the ~ operator, it works like \"not in\"\n",
    "products_without_sales = products_df[~products_df[\"product_id\"].isin(products_with_sales)]\n",
    "\n",
    "print(\"Products without sales:\")\n",
    "print(products_without_sales)"
   ],
   "id": "84df91e23ab898e0",
   "outputs": [
    {
     "name": "stdout",
     "output_type": "stream",
     "text": [
      "Products without sales:\n",
      "   product_id product_name     category  price\n",
      "3           4      Monitor  Electronics  300.0\n"
     ]
    }
   ],
   "execution_count": 110
  },
  {
   "metadata": {},
   "cell_type": "markdown",
   "source": "# Calculations",
   "id": "4e52e432f4d352ee"
  },
  {
   "metadata": {},
   "cell_type": "markdown",
   "source": "## Sort by index",
   "id": "e933b20555fed04a"
  },
  {
   "metadata": {
    "ExecuteTime": {
     "end_time": "2025-06-15T15:07:10.906056Z",
     "start_time": "2025-06-15T15:07:10.902211Z"
    }
   },
   "cell_type": "code",
   "source": "df2 = df.sort_index(ascending=True)",
   "id": "e3626876cf7d1577",
   "outputs": [],
   "execution_count": 16
  },
  {
   "metadata": {},
   "cell_type": "markdown",
   "source": "## Sort by values",
   "id": "e75bff8220bcdec2"
  },
  {
   "metadata": {
    "ExecuteTime": {
     "end_time": "2025-06-15T15:07:47.240689Z",
     "start_time": "2025-06-15T15:07:47.235325Z"
    }
   },
   "cell_type": "code",
   "source": "df2 = df.sort_values(by='Capital', ascending=True)",
   "id": "693e46187f251475",
   "outputs": [],
   "execution_count": 18
  },
  {
   "metadata": {},
   "cell_type": "markdown",
   "source": "## cumulative sum",
   "id": "4b07ba0e720eebec"
  },
  {
   "metadata": {},
   "cell_type": "code",
   "outputs": [],
   "execution_count": null,
   "source": [
    "df2 = df.copy()\n",
    "\n",
    "df2['Cumulative_pop'] = df2['Population'].cumsum()"
   ],
   "id": "ae1c36614815f8d1"
  },
  {
   "metadata": {},
   "cell_type": "markdown",
   "source": "## min, max, mean, median, describe stats",
   "id": "c2ca30d72c13425b"
  },
  {
   "metadata": {
    "ExecuteTime": {
     "end_time": "2025-06-15T15:47:14.684121Z",
     "start_time": "2025-06-15T15:47:14.678630Z"
    }
   },
   "cell_type": "code",
   "source": [
    "# df['Population'].min()\n",
    "# df['Population'].max()\n",
    "# df['Population'].mean() # = average\n",
    "# df['Population'].median() # middle value in a sorted dataset\n",
    "# df['Population'].describe()"
   ],
   "id": "4475949cf4bcac38",
   "outputs": [
    {
     "data": {
      "text/plain": [
       "np.float64(200.0)"
      ]
     },
     "execution_count": 45,
     "metadata": {},
     "output_type": "execute_result"
    }
   ],
   "execution_count": 45
  },
  {
   "metadata": {},
   "cell_type": "markdown",
   "source": "## group by and sum",
   "id": "bfc61ad451afd1e1"
  },
  {
   "metadata": {
    "ExecuteTime": {
     "end_time": "2025-06-15T16:40:38.525213Z",
     "start_time": "2025-06-15T16:40:38.519180Z"
    }
   },
   "cell_type": "code",
   "source": [
    "sales_summary = (merged_sales_df.groupby('product_id')['quantity'].sum()\n",
    "                 .sort_values(ascending=False)\n",
    "                 .reset_index())\n",
    "sales_summary"
   ],
   "id": "5f7bb047aa611d0a",
   "outputs": [
    {
     "data": {
      "text/plain": [
       "   product_id  quantity\n",
       "0           2       3.0\n",
       "1           3       3.0\n",
       "2           1       2.0\n",
       "3           4       0.0"
      ],
      "text/html": [
       "<div>\n",
       "<style scoped>\n",
       "    .dataframe tbody tr th:only-of-type {\n",
       "        vertical-align: middle;\n",
       "    }\n",
       "\n",
       "    .dataframe tbody tr th {\n",
       "        vertical-align: top;\n",
       "    }\n",
       "\n",
       "    .dataframe thead th {\n",
       "        text-align: right;\n",
       "    }\n",
       "</style>\n",
       "<table border=\"1\" class=\"dataframe\">\n",
       "  <thead>\n",
       "    <tr style=\"text-align: right;\">\n",
       "      <th></th>\n",
       "      <th>product_id</th>\n",
       "      <th>quantity</th>\n",
       "    </tr>\n",
       "  </thead>\n",
       "  <tbody>\n",
       "    <tr>\n",
       "      <th>0</th>\n",
       "      <td>2</td>\n",
       "      <td>3.0</td>\n",
       "    </tr>\n",
       "    <tr>\n",
       "      <th>1</th>\n",
       "      <td>3</td>\n",
       "      <td>3.0</td>\n",
       "    </tr>\n",
       "    <tr>\n",
       "      <th>2</th>\n",
       "      <td>1</td>\n",
       "      <td>2.0</td>\n",
       "    </tr>\n",
       "    <tr>\n",
       "      <th>3</th>\n",
       "      <td>4</td>\n",
       "      <td>0.0</td>\n",
       "    </tr>\n",
       "  </tbody>\n",
       "</table>\n",
       "</div>"
      ]
     },
     "execution_count": 115,
     "metadata": {},
     "output_type": "execute_result"
    }
   ],
   "execution_count": 115
  },
  {
   "metadata": {},
   "cell_type": "markdown",
   "source": "## finding the highest sale",
   "id": "a72101b164932c1f"
  },
  {
   "metadata": {},
   "cell_type": "code",
   "outputs": [
    {
     "name": "stdout",
     "output_type": "stream",
     "text": [
      "Most sold product with total revenue:\n",
      "   product_id product_name     category   price  total_quantity  total_revenue\n",
      "0           1       Laptop  Electronics  1200.0             2.0         2400.0\n"
     ]
    }
   ],
   "execution_count": 109,
   "source": [
    "# Group sales by product_id and sum the quantity\n",
    "# Calculate total revenue per product\n",
    "sales_summary = (\n",
    "    merged_sales_df\n",
    "    .groupby([\"product_id\", \"product_name\", \"category\", \"price\"])\n",
    "    .agg(total_quantity=(\"quantity\", \"sum\"),\n",
    "         total_revenue=(\"quantity\", lambda x: (x * merged_sales_df.loc[x.index, \"price\"]).sum()))\n",
    "    .reset_index()\n",
    ")\n",
    "\n",
    "# Sort by quantity to find the most sold product\n",
    "most_sold_product = sales_summary.sort_values(by=\"total_revenue\", ascending=False).head(1)\n",
    "\n",
    "print(\"Most sold product with total revenue:\")\n",
    "print(most_sold_product)"
   ],
   "id": "f7b9c7fad797f45d"
  },
  {
   "metadata": {
    "ExecuteTime": {
     "end_time": "2025-06-15T22:14:27.681996Z",
     "start_time": "2025-06-15T22:14:27.680027Z"
    }
   },
   "cell_type": "code",
   "source": [
    "nums = \"Alisson Lima\"\n",
    "\n",
    "nums[::-1]"
   ],
   "id": "2d61a9b44fb350cf",
   "outputs": [
    {
     "data": {
      "text/plain": [
       "'amiL nossilA'"
      ]
     },
     "execution_count": 176,
     "metadata": {},
     "output_type": "execute_result"
    }
   ],
   "execution_count": 176
  },
  {
   "metadata": {
    "ExecuteTime": {
     "end_time": "2025-06-15T22:23:37.660320Z",
     "start_time": "2025-06-15T22:23:37.655451Z"
    }
   },
   "cell_type": "code",
   "source": [
    "class ListNode:\n",
    "    def __init__(self, val=0, next=None):\n",
    "        self.val = val\n",
    "        self.next = next"
   ],
   "id": "636b00aec7eff40f",
   "outputs": [],
   "execution_count": 177
  },
  {
   "metadata": {
    "ExecuteTime": {
     "end_time": "2025-06-15T22:36:20.074436Z",
     "start_time": "2025-06-15T22:36:20.071120Z"
    }
   },
   "cell_type": "code",
   "source": [
    "def reverse_linked_list(head: ListNode) -> ListNode:\n",
    "    curr = head\n",
    "    before = None\n",
    "    last = None\n",
    "    while curr:\n",
    "        next = curr.next\n",
    "        curr.next = before\n",
    "        before = curr\n",
    "        last = curr\n",
    "        curr = next\n",
    "\n",
    "    return last\n"
   ],
   "id": "fa6318483f8de69c",
   "outputs": [],
   "execution_count": 189
  },
  {
   "metadata": {
    "ExecuteTime": {
     "end_time": "2025-06-15T22:36:23.777020Z",
     "start_time": "2025-06-15T22:36:23.772677Z"
    }
   },
   "cell_type": "code",
   "source": [
    "# Helper functions to create and print linked list for testing\n",
    "def create_linked_list(values):\n",
    "    head = ListNode(values[0])\n",
    "    curr = head\n",
    "    for v in values[1:]:\n",
    "        curr.next = ListNode(v)\n",
    "        curr = curr.next\n",
    "    return head\n",
    "\n",
    "def print_linked_list(head):\n",
    "    vals = []\n",
    "    curr = head\n",
    "    while curr:\n",
    "        vals.append(str(curr.val))\n",
    "        curr = curr.next\n",
    "    print(\"->\".join(vals))\n",
    "\n",
    "# Example usage\n",
    "head = create_linked_list([1, 2, 3, 4, 5])\n",
    "print(\"Original list:\")\n",
    "print_linked_list(head)\n",
    "reversed_head = reverse_linked_list(head)\n",
    "print(\"Reversed list:\")\n",
    "print_linked_list(reversed_head)"
   ],
   "id": "78cb1cef90a426f6",
   "outputs": [
    {
     "name": "stdout",
     "output_type": "stream",
     "text": [
      "Original list:\n",
      "1->2->3->4->5\n",
      "Reversed list:\n",
      "5->4->3->2->1\n"
     ]
    }
   ],
   "execution_count": 190
  }
 ],
 "metadata": {
  "kernelspec": {
   "display_name": "Python 3",
   "language": "python",
   "name": "python3"
  },
  "language_info": {
   "codemirror_mode": {
    "name": "ipython",
    "version": 2
   },
   "file_extension": ".py",
   "mimetype": "text/x-python",
   "name": "python",
   "nbconvert_exporter": "python",
   "pygments_lexer": "ipython2",
   "version": "2.7.6"
  }
 },
 "nbformat": 4,
 "nbformat_minor": 5
}
