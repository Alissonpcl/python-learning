{
 "cells": [
  {
   "cell_type": "markdown",
   "id": "c8ea407655264471",
   "metadata": {},
   "source": [
    "# Summary\n",
    "\n",
    "The goal of this notebook is to be an exercise of Pandas, and it consists in preparing data to be delivered in an expected format.\n",
    "\n",
    "The input data comes from [web_input.csv](../data/web_input.csv).\n",
    "The expected output data is in [web_output.csv](../data/web_output.csv).\n",
    "\n",
    "In the cells below, I'm going to create Python code to import required libraries and apply the required data transformations using Pandas to achieve the expected output."
   ]
  },
  {
   "cell_type": "markdown",
   "id": "752b67708975cc7e",
   "metadata": {},
   "source": [
    "# Imports"
   ]
  },
  {
   "cell_type": "code",
   "execution_count": null,
   "id": "initial_id",
   "metadata": {
    "ExecuteTime": {
     "end_time": "2025-07-16T00:40:25.236837Z",
     "start_time": "2025-07-16T00:40:24.888062Z"
    },
    "collapsed": true
   },
   "outputs": [],
   "source": [
    "import pandas as pd"
   ]
  },
  {
   "cell_type": "markdown",
   "id": "b15605ca19d14287",
   "metadata": {},
   "source": [
    "# Read CSV"
   ]
  },
  {
   "cell_type": "code",
   "execution_count": null,
   "id": "d97032ab42d50cd",
   "metadata": {
    "ExecuteTime": {
     "end_time": "2025-07-16T00:40:25.848299Z",
     "start_time": "2025-07-16T00:40:25.841145Z"
    }
   },
   "outputs": [],
   "source": [
    "input_df = pd.read_csv('../data/web_input.csv')"
   ]
  },
  {
   "cell_type": "code",
   "execution_count": null,
   "id": "588e04eab1f2b82b",
   "metadata": {},
   "outputs": [],
   "source": [
    "input_df.head()"
   ]
  },
  {
   "cell_type": "markdown",
   "id": "350ff0ddb01d46c3",
   "metadata": {},
   "source": [
    "# Create Output DF"
   ]
  },
  {
   "cell_type": "markdown",
   "id": "cc5f8679da8c8f88",
   "metadata": {},
   "source": [
    "## Date Generated, AllimID, Name"
   ]
  },
  {
   "cell_type": "code",
   "execution_count": null,
   "id": "fd6a793a42b7d92b",
   "metadata": {
    "ExecuteTime": {
     "end_time": "2025-07-16T00:40:28.447081Z",
     "start_time": "2025-07-16T00:40:28.444665Z"
    }
   },
   "outputs": [],
   "source": [
    "output_df = input_df.copy()"
   ]
  },
  {
   "cell_type": "code",
   "execution_count": null,
   "id": "eed0dc703867ecb4",
   "metadata": {
    "ExecuteTime": {
     "end_time": "2025-07-16T00:40:29.634752Z",
     "start_time": "2025-07-16T00:40:29.631012Z"
    }
   },
   "outputs": [],
   "source": [
    "output_df['Date Generated'] = '2022-07-14 14:35:04'\n",
    "output_df['AllimID'] = input_df['integerId']\n",
    "output_df['Name'] = input_df['name']"
   ]
  },
  {
   "cell_type": "markdown",
   "id": "646313a2d33ee334",
   "metadata": {},
   "source": [
    "## Entity Type"
   ]
  },
  {
   "cell_type": "code",
   "execution_count": null,
   "id": "1bd98d78562f889a",
   "metadata": {
    "ExecuteTime": {
     "end_time": "2025-07-16T00:42:08.828033Z",
     "start_time": "2025-07-16T00:42:08.825742Z"
    }
   },
   "outputs": [],
   "source": [
    "output_df['Entity Type'] = input_df['type'].apply(lambda x: x.split('#')[1])\n",
    "\n",
    "# A more \"Pandas\" format would be the following:\n",
    "# output_df['Entity Type 2'] = input_df['type'].str.split('#').str[1]"
   ]
  },
  {
   "cell_type": "code",
   "execution_count": null,
   "id": "7e7ad58c78318ff1",
   "metadata": {
    "ExecuteTime": {
     "end_time": "2025-07-16T00:42:10.762833Z",
     "start_time": "2025-07-16T00:42:10.756801Z"
    }
   },
   "outputs": [],
   "source": [
    "output_df.head()"
   ]
  },
  {
   "cell_type": "markdown",
   "id": "f2c12f817168aec1",
   "metadata": {},
   "source": [
    "## Risk Labels"
   ]
  },
  {
   "cell_type": "code",
   "execution_count": null,
   "id": "c5b5b3d46d301d0d",
   "metadata": {},
   "outputs": [],
   "source": [
    "def get_risk_labels_from_risk_label_url(url):\n",
    "    risk_label = url.split(\"#\")[1]\n",
    "\n",
    "    if 'CnForcedLabor' in risk_label:\n",
    "        risk_label = 'CnForcedLabor'\n",
    "\n",
    "    return f'\"{risk_label}\"'\n",
    "\n",
    "\n",
    "output_df['Risk Labels'] = output_df['riskLabel'].apply(get_risk_labels_from_risk_label_url)"
   ]
  },
  {
   "cell_type": "markdown",
   "id": "6ec40080b5c18a95",
   "metadata": {},
   "source": [
    "## Primary City, Primary Country"
   ]
  },
  {
   "cell_type": "code",
   "execution_count": null,
   "id": "2c3285c23fe4b6f9",
   "metadata": {},
   "outputs": [],
   "source": [
    "output_df['Primary City'] = output_df['cityAndRegion'].fillna('')\n",
    "output_df['Primary Country'] = output_df['country']"
   ]
  },
  {
   "cell_type": "markdown",
   "id": "82a84964fe6a4916",
   "metadata": {},
   "source": [
    "# Group values"
   ]
  },
  {
   "cell_type": "code",
   "execution_count": null,
   "id": "66d4bbab3aacff27",
   "metadata": {},
   "outputs": [],
   "source": [
    "output_df_grouped = output_df.groupby(['Date Generated', 'AllimID', 'Name', 'Primary City', 'Primary Country']).agg({\n",
    "    'Entity Type': list,\n",
    "    'Risk Labels': list\n",
    "}).reset_index()[['Date Generated', 'AllimID', 'Name', 'Entity Type', 'Risk Labels', 'Primary City', 'Primary Country']]"
   ]
  },
  {
   "cell_type": "code",
   "execution_count": null,
   "id": "45f84e7ada877896",
   "metadata": {},
   "outputs": [],
   "source": [
    "output_df_grouped.head()"
   ]
  },
  {
   "cell_type": "code",
   "execution_count": null,
   "id": "bc4d7b84418dc68b",
   "metadata": {},
   "outputs": [],
   "source": [
    "def array_to_str(arr):\n",
    "    arr_distinct = sorted(set(arr))\n",
    "    return str(arr_distinct).replace('\\'', '')"
   ]
  },
  {
   "cell_type": "markdown",
   "id": "9d17aed7031a48a",
   "metadata": {},
   "source": [
    "# Cast list to str\n",
    "\n",
    "It was required to cast the list to string since this was the only way to achieve the same format of string as the expected output"
   ]
  },
  {
   "cell_type": "code",
   "execution_count": null,
   "id": "764eef427a690e19",
   "metadata": {},
   "outputs": [],
   "source": [
    "final_df_list_str = output_df_grouped.copy()\n",
    "\n",
    "final_df_list_str['Entity Type'] = final_df_list_str['Entity Type'].apply(array_to_str)\n",
    "final_df_list_str['Risk Labels'] = final_df_list_str['Risk Labels'].apply(array_to_str)"
   ]
  },
  {
   "cell_type": "code",
   "execution_count": null,
   "id": "dba63e925c6954cc",
   "metadata": {},
   "outputs": [],
   "source": [
    "final_df_list_str.head(12)"
   ]
  },
  {
   "cell_type": "markdown",
   "id": "da8064e6675781ad",
   "metadata": {},
   "source": [
    "# Write CSV\n",
    "\n",
    "The final CSV has a blank line in the end that is not in the expected output. I tried to remove this line using different options of `to_csv` but it didn't work."
   ]
  },
  {
   "cell_type": "code",
   "execution_count": null,
   "id": "e041c87e5cdc6a19",
   "metadata": {},
   "outputs": [],
   "source": [
    "final_df_list_str.sort_values(by='AllimID', key=lambda x: x.str.lower()).to_csv('../data/my_output.csv', index=False)"
   ]
  }
 ],
 "metadata": {
  "kernelspec": {
   "display_name": "python-learning",
   "language": "python",
   "name": "python3"
  },
  "language_info": {
   "codemirror_mode": {
    "name": "ipython",
    "version": 3
   },
   "file_extension": ".py",
   "mimetype": "text/x-python",
   "name": "python",
   "nbconvert_exporter": "python",
   "pygments_lexer": "ipython3",
   "version": "3.12.2"
  }
 },
 "nbformat": 4,
 "nbformat_minor": 5
}
