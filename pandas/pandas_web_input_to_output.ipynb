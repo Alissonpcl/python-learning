{
 "cells": [
  {
   "metadata": {},
   "cell_type": "markdown",
   "source": [
    "# TODO\n",
    "Properly comment the code"
   ],
   "id": "5d683f75487c7040"
  },
  {
   "cell_type": "code",
   "id": "initial_id",
   "metadata": {
    "collapsed": true,
    "ExecuteTime": {
     "end_time": "2025-07-09T22:29:48.364087Z",
     "start_time": "2025-07-09T22:29:47.990471Z"
    }
   },
   "source": "import pandas as pd",
   "outputs": [],
   "execution_count": 1
  },
  {
   "metadata": {},
   "cell_type": "markdown",
   "source": "",
   "id": "9d3e47389e09eb42"
  },
  {
   "metadata": {
    "ExecuteTime": {
     "end_time": "2025-07-09T22:29:52.161367Z",
     "start_time": "2025-07-09T22:29:52.156136Z"
    }
   },
   "cell_type": "code",
   "source": "input_df = pd.read_csv('../data/web_input.csv')",
   "id": "d97032ab42d50cd",
   "outputs": [],
   "execution_count": 3
  },
  {
   "metadata": {
    "ExecuteTime": {
     "end_time": "2025-07-09T22:30:05.119443Z",
     "start_time": "2025-07-09T22:30:05.110775Z"
    }
   },
   "cell_type": "code",
   "source": "input_df.head()",
   "id": "588e04eab1f2b82b",
   "outputs": [
    {
     "data": {
      "text/plain": [
       "                                                id  \\\n",
       "0  http://data.allim.com/core/Integer#intent018lUW   \n",
       "1  http://data.allim.com/core/Integer#intent01F6Yz   \n",
       "2  http://data.allim.com/core/Integer#intent01F6Yz   \n",
       "3  http://data.allim.com/core/Integer#intent01GiDN   \n",
       "4  http://data.allim.com/core/Integer#intent01mMB4   \n",
       "\n",
       "                                type     integerId  \\\n",
       "0  http://data.allim.com/core#Entity  intent018lUW   \n",
       "1  http://data.allim.com/core#Entity  intent01F6Yz   \n",
       "2  http://data.allim.com/core#Vessel  intent01F6Yz   \n",
       "3  http://data.allim.com/core#Entity  intent01GiDN   \n",
       "4  http://data.allim.com/core#Entity  intent01mMB4   \n",
       "\n",
       "                                                name  \\\n",
       "0  Aral Southern Xinjiang Hongguopin Famers Profe...   \n",
       "1              Wusu Yuanda Cotton Industry Co., Ltd.   \n",
       "2              Wusu Yuanda Cotton Industry Co., Ltd.   \n",
       "3  Shihezi Tiancheng Water Saving Equipment Co., ...   \n",
       "4  Xinjiang Xinte Crystal Silicon Hightech Co., Ltd.   \n",
       "\n",
       "                                    riskLabel            cityAndRegion country  \n",
       "0   http://data.allim.com/core#CnForcedLaborl           Alar, Xinjiang   China  \n",
       "1    http://data.allim.com/core#CnForcedLabor  Wusu, Tacheng, Xinjiang   China  \n",
       "2    http://data.allim.com/core#CnForcedLabor  Wusu, Tacheng, Xinjiang   China  \n",
       "3   http://data.allim.com/core#CnForcedLaborl                      NaN   China  \n",
       "4  http://data.allim.com/core#CnForcedLabor0l         Urumqi, Xinjiang   China  "
      ],
      "text/html": [
       "<div>\n",
       "<style scoped>\n",
       "    .dataframe tbody tr th:only-of-type {\n",
       "        vertical-align: middle;\n",
       "    }\n",
       "\n",
       "    .dataframe tbody tr th {\n",
       "        vertical-align: top;\n",
       "    }\n",
       "\n",
       "    .dataframe thead th {\n",
       "        text-align: right;\n",
       "    }\n",
       "</style>\n",
       "<table border=\"1\" class=\"dataframe\">\n",
       "  <thead>\n",
       "    <tr style=\"text-align: right;\">\n",
       "      <th></th>\n",
       "      <th>id</th>\n",
       "      <th>type</th>\n",
       "      <th>integerId</th>\n",
       "      <th>name</th>\n",
       "      <th>riskLabel</th>\n",
       "      <th>cityAndRegion</th>\n",
       "      <th>country</th>\n",
       "    </tr>\n",
       "  </thead>\n",
       "  <tbody>\n",
       "    <tr>\n",
       "      <th>0</th>\n",
       "      <td>http://data.allim.com/core/Integer#intent018lUW</td>\n",
       "      <td>http://data.allim.com/core#Entity</td>\n",
       "      <td>intent018lUW</td>\n",
       "      <td>Aral Southern Xinjiang Hongguopin Famers Profe...</td>\n",
       "      <td>http://data.allim.com/core#CnForcedLaborl</td>\n",
       "      <td>Alar, Xinjiang</td>\n",
       "      <td>China</td>\n",
       "    </tr>\n",
       "    <tr>\n",
       "      <th>1</th>\n",
       "      <td>http://data.allim.com/core/Integer#intent01F6Yz</td>\n",
       "      <td>http://data.allim.com/core#Entity</td>\n",
       "      <td>intent01F6Yz</td>\n",
       "      <td>Wusu Yuanda Cotton Industry Co., Ltd.</td>\n",
       "      <td>http://data.allim.com/core#CnForcedLabor</td>\n",
       "      <td>Wusu, Tacheng, Xinjiang</td>\n",
       "      <td>China</td>\n",
       "    </tr>\n",
       "    <tr>\n",
       "      <th>2</th>\n",
       "      <td>http://data.allim.com/core/Integer#intent01F6Yz</td>\n",
       "      <td>http://data.allim.com/core#Vessel</td>\n",
       "      <td>intent01F6Yz</td>\n",
       "      <td>Wusu Yuanda Cotton Industry Co., Ltd.</td>\n",
       "      <td>http://data.allim.com/core#CnForcedLabor</td>\n",
       "      <td>Wusu, Tacheng, Xinjiang</td>\n",
       "      <td>China</td>\n",
       "    </tr>\n",
       "    <tr>\n",
       "      <th>3</th>\n",
       "      <td>http://data.allim.com/core/Integer#intent01GiDN</td>\n",
       "      <td>http://data.allim.com/core#Entity</td>\n",
       "      <td>intent01GiDN</td>\n",
       "      <td>Shihezi Tiancheng Water Saving Equipment Co., ...</td>\n",
       "      <td>http://data.allim.com/core#CnForcedLaborl</td>\n",
       "      <td>NaN</td>\n",
       "      <td>China</td>\n",
       "    </tr>\n",
       "    <tr>\n",
       "      <th>4</th>\n",
       "      <td>http://data.allim.com/core/Integer#intent01mMB4</td>\n",
       "      <td>http://data.allim.com/core#Entity</td>\n",
       "      <td>intent01mMB4</td>\n",
       "      <td>Xinjiang Xinte Crystal Silicon Hightech Co., Ltd.</td>\n",
       "      <td>http://data.allim.com/core#CnForcedLabor0l</td>\n",
       "      <td>Urumqi, Xinjiang</td>\n",
       "      <td>China</td>\n",
       "    </tr>\n",
       "  </tbody>\n",
       "</table>\n",
       "</div>"
      ]
     },
     "execution_count": 5,
     "metadata": {},
     "output_type": "execute_result"
    }
   ],
   "execution_count": 5
  },
  {
   "metadata": {
    "ExecuteTime": {
     "end_time": "2025-07-09T22:37:26.766124Z",
     "start_time": "2025-07-09T22:37:26.763717Z"
    }
   },
   "cell_type": "code",
   "source": [
    "input_df['Date Generated'] = '2022-07-14 14:35:04'\n",
    "input_df['AllimID'] = input_df['integerId']\n",
    "input_df['Name'] = input_df['name']"
   ],
   "id": "eed0dc703867ecb4",
   "outputs": [],
   "execution_count": 14
  },
  {
   "metadata": {
    "ExecuteTime": {
     "end_time": "2025-07-09T23:52:53.898179Z",
     "start_time": "2025-07-09T23:52:53.893443Z"
    }
   },
   "cell_type": "code",
   "source": [
    "def get_type_from_url(row):\n",
    "    type_value = row['type'].split(\"#\")[1]\n",
    "    return f'{type_value}'"
   ],
   "id": "2f02b5bdc72c442",
   "outputs": [],
   "execution_count": 172
  },
  {
   "metadata": {
    "ExecuteTime": {
     "end_time": "2025-07-09T23:52:54.590912Z",
     "start_time": "2025-07-09T23:52:54.587146Z"
    }
   },
   "cell_type": "code",
   "source": "input_df['Entity Type'] = input_df.apply(get_type_from_url, axis=1)",
   "id": "1bd98d78562f889a",
   "outputs": [],
   "execution_count": 173
  },
  {
   "metadata": {
    "ExecuteTime": {
     "end_time": "2025-07-10T00:00:18.116951Z",
     "start_time": "2025-07-10T00:00:18.113168Z"
    }
   },
   "cell_type": "code",
   "source": [
    "def get_risk_label_from_input(row):\n",
    "    risk_value = row['riskLabel'].split(\"#\")[1]\n",
    "\n",
    "    if 'CnForcedLabor' in risk_value:\n",
    "        return 'CnForcedLabor'\n",
    "\n",
    "    return f'{risk_value}'"
   ],
   "id": "c5b5b3d46d301d0d",
   "outputs": [],
   "execution_count": 210
  },
  {
   "metadata": {
    "ExecuteTime": {
     "end_time": "2025-07-10T00:00:20.524898Z",
     "start_time": "2025-07-10T00:00:20.521317Z"
    }
   },
   "cell_type": "code",
   "source": "input_df['Risk Labels'] = input_df.apply(get_risk_label_from_input, axis=1)",
   "id": "90152d418c53d5ac",
   "outputs": [],
   "execution_count": 211
  },
  {
   "metadata": {
    "ExecuteTime": {
     "end_time": "2025-07-09T22:57:31.993156Z",
     "start_time": "2025-07-09T22:57:31.988289Z"
    }
   },
   "cell_type": "code",
   "source": "input_df['Primary City'] = input_df['cityAndRegion'].fillna('')",
   "id": "2c3285c23fe4b6f9",
   "outputs": [],
   "execution_count": 36
  },
  {
   "metadata": {
    "ExecuteTime": {
     "end_time": "2025-07-09T22:58:40.547377Z",
     "start_time": "2025-07-09T22:58:40.538874Z"
    }
   },
   "cell_type": "code",
   "source": "input_df['Primary Country'] = input_df['country']",
   "id": "1ba88a13897a6890",
   "outputs": [],
   "execution_count": 38
  },
  {
   "metadata": {
    "ExecuteTime": {
     "end_time": "2025-07-09T22:59:16.407472Z",
     "start_time": "2025-07-09T22:59:16.404920Z"
    }
   },
   "cell_type": "code",
   "source": "input_df.dtypes",
   "id": "89a16b71b1d7a9c7",
   "outputs": [
    {
     "data": {
      "text/plain": [
       "id                 object\n",
       "type               object\n",
       "integerId          object\n",
       "name               object\n",
       "riskLabel          object\n",
       "cityAndRegion      object\n",
       "country            object\n",
       "Date Generated     object\n",
       "AllimID            object\n",
       "Name               object\n",
       "Entity Type        object\n",
       "Risk Labels        object\n",
       "Primary City       object\n",
       "Primary Country    object\n",
       "dtype: object"
      ]
     },
     "execution_count": 40,
     "metadata": {},
     "output_type": "execute_result"
    }
   ],
   "execution_count": 40
  },
  {
   "metadata": {
    "ExecuteTime": {
     "end_time": "2025-07-10T00:00:23.522836Z",
     "start_time": "2025-07-10T00:00:23.519821Z"
    }
   },
   "cell_type": "code",
   "source": "final_df = input_df.drop(['id', 'type', 'integerId', 'name', 'riskLabel', 'cityAndRegion', 'country'], axis=1)",
   "id": "bba45592f7af8b11",
   "outputs": [],
   "execution_count": 212
  },
  {
   "metadata": {
    "ExecuteTime": {
     "end_time": "2025-07-10T00:00:25.613708Z",
     "start_time": "2025-07-10T00:00:25.608182Z"
    }
   },
   "cell_type": "code",
   "source": "final_df.head(15)",
   "id": "d384dc013ae1a0dd",
   "outputs": [
    {
     "data": {
      "text/plain": [
       "         Date Generated       AllimID  \\\n",
       "0   2022-07-14 14:35:04  intent018lUW   \n",
       "1   2022-07-14 14:35:04  intent01F6Yz   \n",
       "2   2022-07-14 14:35:04  intent01F6Yz   \n",
       "3   2022-07-14 14:35:04  intent01GiDN   \n",
       "4   2022-07-14 14:35:04  intent01mMB4   \n",
       "5   2022-07-14 14:35:04  intent01sKCr   \n",
       "6   2022-07-14 14:35:04  intent02arS7   \n",
       "7   2022-07-14 14:35:04  intent02CuQE   \n",
       "8   2022-07-14 14:35:04  intent02VAMB   \n",
       "9   2022-07-14 14:35:04  intent03amTY   \n",
       "10  2022-07-14 14:35:04  intent03lyKo   \n",
       "11  2022-07-14 14:35:04  intent03lyKo   \n",
       "\n",
       "                                                 Name Entity Type  \\\n",
       "0   Aral Southern Xinjiang Hongguopin Famers Profe...      Entity   \n",
       "1               Wusu Yuanda Cotton Industry Co., Ltd.      Entity   \n",
       "2               Wusu Yuanda Cotton Industry Co., Ltd.      Vessel   \n",
       "3   Shihezi Tiancheng Water Saving Equipment Co., ...      Entity   \n",
       "4   Xinjiang Xinte Crystal Silicon Hightech Co., Ltd.      Entity   \n",
       "5               Shihezi West Ningxin Carbon Co., Ltd.      Entity   \n",
       "6                 Yengisar Tianyan Industry Co., Ltd.      Entity   \n",
       "7   Hunan Xinxiang Expressway Construction Develop...      Entity   \n",
       "8      Toli County Bing Jin Cotton Industry Co., Ltd.      Entity   \n",
       "9   Korla Transit Station, Agricultural Production...      Entity   \n",
       "10         Xinjiang Longtai Jufeng Concrete Co., Ltd.      Entity   \n",
       "11         Xinjiang Longtai Jufeng Concrete Co., Ltd.      Entity   \n",
       "\n",
       "      Risk Labels                                   Primary City  \\\n",
       "0   CnForcedLabor                                 Alar, Xinjiang   \n",
       "1   CnForcedLabor                        Wusu, Tacheng, Xinjiang   \n",
       "2   CnForcedLabor                        Wusu, Tacheng, Xinjiang   \n",
       "3   CnForcedLabor                                                  \n",
       "4   CnForcedLabor                               Urumqi, Xinjiang   \n",
       "5   CnForcedLabor                              Shihezi, Xinjiang   \n",
       "6   CnForcedLabor  Yengisar County, Kashgar Prefecture, Xinjiang   \n",
       "7   CnForcedLabor                                Changsha, Hunan   \n",
       "8   CnForcedLabor                              Tacheng, Xinjiang   \n",
       "9   CnForcedLabor                                                  \n",
       "10  CnForcedLabor                               Urumqi, Xinjiang   \n",
       "11   CnRepression                               Urumqi, Xinjiang   \n",
       "\n",
       "   Primary Country  \n",
       "0            China  \n",
       "1            China  \n",
       "2            China  \n",
       "3            China  \n",
       "4            China  \n",
       "5            China  \n",
       "6            China  \n",
       "7            China  \n",
       "8            China  \n",
       "9            China  \n",
       "10           China  \n",
       "11           China  "
      ],
      "text/html": [
       "<div>\n",
       "<style scoped>\n",
       "    .dataframe tbody tr th:only-of-type {\n",
       "        vertical-align: middle;\n",
       "    }\n",
       "\n",
       "    .dataframe tbody tr th {\n",
       "        vertical-align: top;\n",
       "    }\n",
       "\n",
       "    .dataframe thead th {\n",
       "        text-align: right;\n",
       "    }\n",
       "</style>\n",
       "<table border=\"1\" class=\"dataframe\">\n",
       "  <thead>\n",
       "    <tr style=\"text-align: right;\">\n",
       "      <th></th>\n",
       "      <th>Date Generated</th>\n",
       "      <th>AllimID</th>\n",
       "      <th>Name</th>\n",
       "      <th>Entity Type</th>\n",
       "      <th>Risk Labels</th>\n",
       "      <th>Primary City</th>\n",
       "      <th>Primary Country</th>\n",
       "    </tr>\n",
       "  </thead>\n",
       "  <tbody>\n",
       "    <tr>\n",
       "      <th>0</th>\n",
       "      <td>2022-07-14 14:35:04</td>\n",
       "      <td>intent018lUW</td>\n",
       "      <td>Aral Southern Xinjiang Hongguopin Famers Profe...</td>\n",
       "      <td>Entity</td>\n",
       "      <td>CnForcedLabor</td>\n",
       "      <td>Alar, Xinjiang</td>\n",
       "      <td>China</td>\n",
       "    </tr>\n",
       "    <tr>\n",
       "      <th>1</th>\n",
       "      <td>2022-07-14 14:35:04</td>\n",
       "      <td>intent01F6Yz</td>\n",
       "      <td>Wusu Yuanda Cotton Industry Co., Ltd.</td>\n",
       "      <td>Entity</td>\n",
       "      <td>CnForcedLabor</td>\n",
       "      <td>Wusu, Tacheng, Xinjiang</td>\n",
       "      <td>China</td>\n",
       "    </tr>\n",
       "    <tr>\n",
       "      <th>2</th>\n",
       "      <td>2022-07-14 14:35:04</td>\n",
       "      <td>intent01F6Yz</td>\n",
       "      <td>Wusu Yuanda Cotton Industry Co., Ltd.</td>\n",
       "      <td>Vessel</td>\n",
       "      <td>CnForcedLabor</td>\n",
       "      <td>Wusu, Tacheng, Xinjiang</td>\n",
       "      <td>China</td>\n",
       "    </tr>\n",
       "    <tr>\n",
       "      <th>3</th>\n",
       "      <td>2022-07-14 14:35:04</td>\n",
       "      <td>intent01GiDN</td>\n",
       "      <td>Shihezi Tiancheng Water Saving Equipment Co., ...</td>\n",
       "      <td>Entity</td>\n",
       "      <td>CnForcedLabor</td>\n",
       "      <td></td>\n",
       "      <td>China</td>\n",
       "    </tr>\n",
       "    <tr>\n",
       "      <th>4</th>\n",
       "      <td>2022-07-14 14:35:04</td>\n",
       "      <td>intent01mMB4</td>\n",
       "      <td>Xinjiang Xinte Crystal Silicon Hightech Co., Ltd.</td>\n",
       "      <td>Entity</td>\n",
       "      <td>CnForcedLabor</td>\n",
       "      <td>Urumqi, Xinjiang</td>\n",
       "      <td>China</td>\n",
       "    </tr>\n",
       "    <tr>\n",
       "      <th>5</th>\n",
       "      <td>2022-07-14 14:35:04</td>\n",
       "      <td>intent01sKCr</td>\n",
       "      <td>Shihezi West Ningxin Carbon Co., Ltd.</td>\n",
       "      <td>Entity</td>\n",
       "      <td>CnForcedLabor</td>\n",
       "      <td>Shihezi, Xinjiang</td>\n",
       "      <td>China</td>\n",
       "    </tr>\n",
       "    <tr>\n",
       "      <th>6</th>\n",
       "      <td>2022-07-14 14:35:04</td>\n",
       "      <td>intent02arS7</td>\n",
       "      <td>Yengisar Tianyan Industry Co., Ltd.</td>\n",
       "      <td>Entity</td>\n",
       "      <td>CnForcedLabor</td>\n",
       "      <td>Yengisar County, Kashgar Prefecture, Xinjiang</td>\n",
       "      <td>China</td>\n",
       "    </tr>\n",
       "    <tr>\n",
       "      <th>7</th>\n",
       "      <td>2022-07-14 14:35:04</td>\n",
       "      <td>intent02CuQE</td>\n",
       "      <td>Hunan Xinxiang Expressway Construction Develop...</td>\n",
       "      <td>Entity</td>\n",
       "      <td>CnForcedLabor</td>\n",
       "      <td>Changsha, Hunan</td>\n",
       "      <td>China</td>\n",
       "    </tr>\n",
       "    <tr>\n",
       "      <th>8</th>\n",
       "      <td>2022-07-14 14:35:04</td>\n",
       "      <td>intent02VAMB</td>\n",
       "      <td>Toli County Bing Jin Cotton Industry Co., Ltd.</td>\n",
       "      <td>Entity</td>\n",
       "      <td>CnForcedLabor</td>\n",
       "      <td>Tacheng, Xinjiang</td>\n",
       "      <td>China</td>\n",
       "    </tr>\n",
       "    <tr>\n",
       "      <th>9</th>\n",
       "      <td>2022-07-14 14:35:04</td>\n",
       "      <td>intent03amTY</td>\n",
       "      <td>Korla Transit Station, Agricultural Production...</td>\n",
       "      <td>Entity</td>\n",
       "      <td>CnForcedLabor</td>\n",
       "      <td></td>\n",
       "      <td>China</td>\n",
       "    </tr>\n",
       "    <tr>\n",
       "      <th>10</th>\n",
       "      <td>2022-07-14 14:35:04</td>\n",
       "      <td>intent03lyKo</td>\n",
       "      <td>Xinjiang Longtai Jufeng Concrete Co., Ltd.</td>\n",
       "      <td>Entity</td>\n",
       "      <td>CnForcedLabor</td>\n",
       "      <td>Urumqi, Xinjiang</td>\n",
       "      <td>China</td>\n",
       "    </tr>\n",
       "    <tr>\n",
       "      <th>11</th>\n",
       "      <td>2022-07-14 14:35:04</td>\n",
       "      <td>intent03lyKo</td>\n",
       "      <td>Xinjiang Longtai Jufeng Concrete Co., Ltd.</td>\n",
       "      <td>Entity</td>\n",
       "      <td>CnRepression</td>\n",
       "      <td>Urumqi, Xinjiang</td>\n",
       "      <td>China</td>\n",
       "    </tr>\n",
       "  </tbody>\n",
       "</table>\n",
       "</div>"
      ]
     },
     "execution_count": 213,
     "metadata": {},
     "output_type": "execute_result"
    }
   ],
   "execution_count": 213
  },
  {
   "metadata": {
    "ExecuteTime": {
     "end_time": "2025-07-10T00:12:50.957781Z",
     "start_time": "2025-07-10T00:12:50.951321Z"
    }
   },
   "cell_type": "code",
   "source": [
    "final_df_grouped = final_df.groupby(['Date Generated', 'AllimID', 'Name', 'Primary City', 'Primary Country']).agg({\n",
    "    'Entity Type': list,\n",
    "    'Risk Labels': list}\n",
    ").reset_index()[['Date Generated', 'AllimID', 'Name', 'Entity Type', 'Risk Labels', 'Primary City', 'Primary Country']]\n"
   ],
   "id": "66d4bbab3aacff27",
   "outputs": [],
   "execution_count": 258
  },
  {
   "metadata": {
    "ExecuteTime": {
     "end_time": "2025-07-10T00:14:25.829467Z",
     "start_time": "2025-07-10T00:14:25.827371Z"
    }
   },
   "cell_type": "code",
   "source": [
    "def array_to_str(lst):\n",
    "    if isinstance(lst, list):\n",
    "        distinct_list = set(lst)\n",
    "        return '[' + ', '.join(f'\"{item}\"' for item in distinct_list) + ']'\n",
    "    return lst"
   ],
   "id": "bc4d7b84418dc68b",
   "outputs": [],
   "execution_count": 274
  },
  {
   "metadata": {
    "ExecuteTime": {
     "end_time": "2025-07-10T00:14:27.493946Z",
     "start_time": "2025-07-10T00:14:27.491033Z"
    }
   },
   "cell_type": "code",
   "source": [
    "final_df_list_str = final_df_grouped.copy()\n",
    "\n",
    "final_df_list_str['Entity Type'] = final_df_list_str['Entity Type'].apply(array_to_str)\n",
    "final_df_list_str['Risk Labels'] = final_df_list_str['Risk Labels'].apply(array_to_str)\n",
    "\n",
    "# final_df_list_str['Entity Type'] = final_df_list_str['Entity Type'].astype(str)\n",
    "# final_df_list_str['Risk Labels'] = final_df_list_str['Risk Labels'].astype(str)"
   ],
   "id": "764eef427a690e19",
   "outputs": [],
   "execution_count": 275
  },
  {
   "metadata": {
    "ExecuteTime": {
     "end_time": "2025-07-10T00:14:28.502951Z",
     "start_time": "2025-07-10T00:14:28.497620Z"
    }
   },
   "cell_type": "code",
   "source": "final_df_list_str.head(12)",
   "id": "dba63e925c6954cc",
   "outputs": [
    {
     "data": {
      "text/plain": [
       "        Date Generated       AllimID  \\\n",
       "0  2022-07-14 14:35:04  intent018lUW   \n",
       "1  2022-07-14 14:35:04  intent01F6Yz   \n",
       "2  2022-07-14 14:35:04  intent01GiDN   \n",
       "3  2022-07-14 14:35:04  intent01mMB4   \n",
       "4  2022-07-14 14:35:04  intent01sKCr   \n",
       "5  2022-07-14 14:35:04  intent02CuQE   \n",
       "6  2022-07-14 14:35:04  intent02VAMB   \n",
       "7  2022-07-14 14:35:04  intent02arS7   \n",
       "8  2022-07-14 14:35:04  intent03amTY   \n",
       "9  2022-07-14 14:35:04  intent03lyKo   \n",
       "\n",
       "                                                Name           Entity Type  \\\n",
       "0  Aral Southern Xinjiang Hongguopin Famers Profe...            [\"Entity\"]   \n",
       "1              Wusu Yuanda Cotton Industry Co., Ltd.  [\"Entity\", \"Vessel\"]   \n",
       "2  Shihezi Tiancheng Water Saving Equipment Co., ...            [\"Entity\"]   \n",
       "3  Xinjiang Xinte Crystal Silicon Hightech Co., Ltd.            [\"Entity\"]   \n",
       "4              Shihezi West Ningxin Carbon Co., Ltd.            [\"Entity\"]   \n",
       "5  Hunan Xinxiang Expressway Construction Develop...            [\"Entity\"]   \n",
       "6     Toli County Bing Jin Cotton Industry Co., Ltd.            [\"Entity\"]   \n",
       "7                Yengisar Tianyan Industry Co., Ltd.            [\"Entity\"]   \n",
       "8  Korla Transit Station, Agricultural Production...            [\"Entity\"]   \n",
       "9         Xinjiang Longtai Jufeng Concrete Co., Ltd.            [\"Entity\"]   \n",
       "\n",
       "                         Risk Labels  \\\n",
       "0                  [\"CnForcedLabor\"]   \n",
       "1                  [\"CnForcedLabor\"]   \n",
       "2                  [\"CnForcedLabor\"]   \n",
       "3                  [\"CnForcedLabor\"]   \n",
       "4                  [\"CnForcedLabor\"]   \n",
       "5                  [\"CnForcedLabor\"]   \n",
       "6                  [\"CnForcedLabor\"]   \n",
       "7                  [\"CnForcedLabor\"]   \n",
       "8                  [\"CnForcedLabor\"]   \n",
       "9  [\"CnForcedLabor\", \"CnRepression\"]   \n",
       "\n",
       "                                    Primary City Primary Country  \n",
       "0                                 Alar, Xinjiang           China  \n",
       "1                        Wusu, Tacheng, Xinjiang           China  \n",
       "2                                                          China  \n",
       "3                               Urumqi, Xinjiang           China  \n",
       "4                              Shihezi, Xinjiang           China  \n",
       "5                                Changsha, Hunan           China  \n",
       "6                              Tacheng, Xinjiang           China  \n",
       "7  Yengisar County, Kashgar Prefecture, Xinjiang           China  \n",
       "8                                                          China  \n",
       "9                               Urumqi, Xinjiang           China  "
      ],
      "text/html": [
       "<div>\n",
       "<style scoped>\n",
       "    .dataframe tbody tr th:only-of-type {\n",
       "        vertical-align: middle;\n",
       "    }\n",
       "\n",
       "    .dataframe tbody tr th {\n",
       "        vertical-align: top;\n",
       "    }\n",
       "\n",
       "    .dataframe thead th {\n",
       "        text-align: right;\n",
       "    }\n",
       "</style>\n",
       "<table border=\"1\" class=\"dataframe\">\n",
       "  <thead>\n",
       "    <tr style=\"text-align: right;\">\n",
       "      <th></th>\n",
       "      <th>Date Generated</th>\n",
       "      <th>AllimID</th>\n",
       "      <th>Name</th>\n",
       "      <th>Entity Type</th>\n",
       "      <th>Risk Labels</th>\n",
       "      <th>Primary City</th>\n",
       "      <th>Primary Country</th>\n",
       "    </tr>\n",
       "  </thead>\n",
       "  <tbody>\n",
       "    <tr>\n",
       "      <th>0</th>\n",
       "      <td>2022-07-14 14:35:04</td>\n",
       "      <td>intent018lUW</td>\n",
       "      <td>Aral Southern Xinjiang Hongguopin Famers Profe...</td>\n",
       "      <td>[\"Entity\"]</td>\n",
       "      <td>[\"CnForcedLabor\"]</td>\n",
       "      <td>Alar, Xinjiang</td>\n",
       "      <td>China</td>\n",
       "    </tr>\n",
       "    <tr>\n",
       "      <th>1</th>\n",
       "      <td>2022-07-14 14:35:04</td>\n",
       "      <td>intent01F6Yz</td>\n",
       "      <td>Wusu Yuanda Cotton Industry Co., Ltd.</td>\n",
       "      <td>[\"Entity\", \"Vessel\"]</td>\n",
       "      <td>[\"CnForcedLabor\"]</td>\n",
       "      <td>Wusu, Tacheng, Xinjiang</td>\n",
       "      <td>China</td>\n",
       "    </tr>\n",
       "    <tr>\n",
       "      <th>2</th>\n",
       "      <td>2022-07-14 14:35:04</td>\n",
       "      <td>intent01GiDN</td>\n",
       "      <td>Shihezi Tiancheng Water Saving Equipment Co., ...</td>\n",
       "      <td>[\"Entity\"]</td>\n",
       "      <td>[\"CnForcedLabor\"]</td>\n",
       "      <td></td>\n",
       "      <td>China</td>\n",
       "    </tr>\n",
       "    <tr>\n",
       "      <th>3</th>\n",
       "      <td>2022-07-14 14:35:04</td>\n",
       "      <td>intent01mMB4</td>\n",
       "      <td>Xinjiang Xinte Crystal Silicon Hightech Co., Ltd.</td>\n",
       "      <td>[\"Entity\"]</td>\n",
       "      <td>[\"CnForcedLabor\"]</td>\n",
       "      <td>Urumqi, Xinjiang</td>\n",
       "      <td>China</td>\n",
       "    </tr>\n",
       "    <tr>\n",
       "      <th>4</th>\n",
       "      <td>2022-07-14 14:35:04</td>\n",
       "      <td>intent01sKCr</td>\n",
       "      <td>Shihezi West Ningxin Carbon Co., Ltd.</td>\n",
       "      <td>[\"Entity\"]</td>\n",
       "      <td>[\"CnForcedLabor\"]</td>\n",
       "      <td>Shihezi, Xinjiang</td>\n",
       "      <td>China</td>\n",
       "    </tr>\n",
       "    <tr>\n",
       "      <th>5</th>\n",
       "      <td>2022-07-14 14:35:04</td>\n",
       "      <td>intent02CuQE</td>\n",
       "      <td>Hunan Xinxiang Expressway Construction Develop...</td>\n",
       "      <td>[\"Entity\"]</td>\n",
       "      <td>[\"CnForcedLabor\"]</td>\n",
       "      <td>Changsha, Hunan</td>\n",
       "      <td>China</td>\n",
       "    </tr>\n",
       "    <tr>\n",
       "      <th>6</th>\n",
       "      <td>2022-07-14 14:35:04</td>\n",
       "      <td>intent02VAMB</td>\n",
       "      <td>Toli County Bing Jin Cotton Industry Co., Ltd.</td>\n",
       "      <td>[\"Entity\"]</td>\n",
       "      <td>[\"CnForcedLabor\"]</td>\n",
       "      <td>Tacheng, Xinjiang</td>\n",
       "      <td>China</td>\n",
       "    </tr>\n",
       "    <tr>\n",
       "      <th>7</th>\n",
       "      <td>2022-07-14 14:35:04</td>\n",
       "      <td>intent02arS7</td>\n",
       "      <td>Yengisar Tianyan Industry Co., Ltd.</td>\n",
       "      <td>[\"Entity\"]</td>\n",
       "      <td>[\"CnForcedLabor\"]</td>\n",
       "      <td>Yengisar County, Kashgar Prefecture, Xinjiang</td>\n",
       "      <td>China</td>\n",
       "    </tr>\n",
       "    <tr>\n",
       "      <th>8</th>\n",
       "      <td>2022-07-14 14:35:04</td>\n",
       "      <td>intent03amTY</td>\n",
       "      <td>Korla Transit Station, Agricultural Production...</td>\n",
       "      <td>[\"Entity\"]</td>\n",
       "      <td>[\"CnForcedLabor\"]</td>\n",
       "      <td></td>\n",
       "      <td>China</td>\n",
       "    </tr>\n",
       "    <tr>\n",
       "      <th>9</th>\n",
       "      <td>2022-07-14 14:35:04</td>\n",
       "      <td>intent03lyKo</td>\n",
       "      <td>Xinjiang Longtai Jufeng Concrete Co., Ltd.</td>\n",
       "      <td>[\"Entity\"]</td>\n",
       "      <td>[\"CnForcedLabor\", \"CnRepression\"]</td>\n",
       "      <td>Urumqi, Xinjiang</td>\n",
       "      <td>China</td>\n",
       "    </tr>\n",
       "  </tbody>\n",
       "</table>\n",
       "</div>"
      ]
     },
     "execution_count": 276,
     "metadata": {},
     "output_type": "execute_result"
    }
   ],
   "execution_count": 276
  },
  {
   "metadata": {
    "ExecuteTime": {
     "end_time": "2025-07-10T00:29:44.693725Z",
     "start_time": "2025-07-10T00:29:44.688556Z"
    }
   },
   "cell_type": "code",
   "source": "final_df_list_str.sort_values(by='AllimID', key=lambda x: x.str.lower()).to_csv('../data/my_output.csv', index=False, lineterminator='')",
   "id": "e041c87e5cdc6a19",
   "outputs": [],
   "execution_count": 297
  }
 ],
 "metadata": {
  "kernelspec": {
   "display_name": "Python 3",
   "language": "python",
   "name": "python3"
  },
  "language_info": {
   "codemirror_mode": {
    "name": "ipython",
    "version": 2
   },
   "file_extension": ".py",
   "mimetype": "text/x-python",
   "name": "python",
   "nbconvert_exporter": "python",
   "pygments_lexer": "ipython2",
   "version": "2.7.6"
  }
 },
 "nbformat": 4,
 "nbformat_minor": 5
}
