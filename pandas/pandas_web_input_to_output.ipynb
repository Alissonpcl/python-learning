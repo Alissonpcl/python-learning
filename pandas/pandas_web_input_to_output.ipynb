{
 "cells": [
  {
   "metadata": {},
   "cell_type": "markdown",
   "source": [
    "# Summary\n",
    "\n",
    "The goal of this notebook is to be an exercise of Pandas, and it consists in preparing data to be delivered in an expected format.\n",
    "\n",
    "The input data comes from [web_input.csv](../data/web_input.csv).\n",
    "The expected output data is in [web_output.csv](../data/web_output.csv).\n",
    "\n",
    "In the cells below, I'm going to create Python code to import required libraries and apply the required data transformations using Pandas to achieve the expected output."
   ],
   "id": "c8ea407655264471"
  },
  {
   "metadata": {},
   "cell_type": "markdown",
   "source": "# Imports",
   "id": "752b67708975cc7e"
  },
  {
   "cell_type": "code",
   "id": "initial_id",
   "metadata": {
    "collapsed": true,
    "ExecuteTime": {
     "end_time": "2025-07-16T00:40:25.236837Z",
     "start_time": "2025-07-16T00:40:24.888062Z"
    }
   },
   "source": "import pandas as pd",
   "outputs": [],
   "execution_count": 1
  },
  {
   "metadata": {},
   "cell_type": "markdown",
   "source": "# Read CSV",
   "id": "b15605ca19d14287"
  },
  {
   "metadata": {
    "ExecuteTime": {
     "end_time": "2025-07-16T00:40:25.848299Z",
     "start_time": "2025-07-16T00:40:25.841145Z"
    }
   },
   "cell_type": "code",
   "source": "input_df = pd.read_csv('../data/web_input.csv')",
   "id": "d97032ab42d50cd",
   "outputs": [],
   "execution_count": 2
  },
  {
   "metadata": {},
   "cell_type": "code",
   "source": "input_df.head()",
   "id": "588e04eab1f2b82b",
   "outputs": [],
   "execution_count": null
  },
  {
   "metadata": {},
   "cell_type": "markdown",
   "source": "# Create Output DF",
   "id": "350ff0ddb01d46c3"
  },
  {
   "metadata": {},
   "cell_type": "markdown",
   "source": "## Date Generated, AllimID, Name",
   "id": "cc5f8679da8c8f88"
  },
  {
   "metadata": {
    "ExecuteTime": {
     "end_time": "2025-07-16T00:40:28.447081Z",
     "start_time": "2025-07-16T00:40:28.444665Z"
    }
   },
   "cell_type": "code",
   "source": "output_df = input_df.copy()",
   "id": "fd6a793a42b7d92b",
   "outputs": [],
   "execution_count": 3
  },
  {
   "metadata": {
    "ExecuteTime": {
     "end_time": "2025-07-16T00:40:29.634752Z",
     "start_time": "2025-07-16T00:40:29.631012Z"
    }
   },
   "cell_type": "code",
   "source": [
    "output_df['Date Generated'] = '2022-07-14 14:35:04'\n",
    "output_df['AllimID'] = input_df['integerId']\n",
    "output_df['Name'] = input_df['name']"
   ],
   "id": "eed0dc703867ecb4",
   "outputs": [],
   "execution_count": 4
  },
  {
   "metadata": {},
   "cell_type": "markdown",
   "source": "## Entity Type",
   "id": "646313a2d33ee334"
  },
  {
   "metadata": {
    "ExecuteTime": {
     "end_time": "2025-07-16T00:42:08.828033Z",
     "start_time": "2025-07-16T00:42:08.825742Z"
    }
   },
   "cell_type": "code",
   "source": [
    "output_df['Entity Type'] = input_df['type'].apply(lambda x: x.split('#')[1])\n",
    "\n",
    "# A more \"Pandas\" format would be the following:\n",
    "# output_df['Entity Type'] = input_df['type'].str.split('#').str[-1]"
   ],
   "id": "1bd98d78562f889a",
   "outputs": [],
   "execution_count": 19
  },
  {
   "metadata": {
    "ExecuteTime": {
     "end_time": "2025-07-16T00:42:10.762833Z",
     "start_time": "2025-07-16T00:42:10.756801Z"
    }
   },
   "cell_type": "code",
   "source": "output_df.head()",
   "id": "7e7ad58c78318ff1",
   "outputs": [
    {
     "data": {
      "text/plain": [
       "                                                id  \\\n",
       "0  http://data.allim.com/core/Integer#intent018lUW   \n",
       "1  http://data.allim.com/core/Integer#intent01F6Yz   \n",
       "2  http://data.allim.com/core/Integer#intent01F6Yz   \n",
       "3  http://data.allim.com/core/Integer#intent01GiDN   \n",
       "4  http://data.allim.com/core/Integer#intent01mMB4   \n",
       "\n",
       "                                type     integerId  \\\n",
       "0  http://data.allim.com/core#Entity  intent018lUW   \n",
       "1  http://data.allim.com/core#Entity  intent01F6Yz   \n",
       "2  http://data.allim.com/core#Vessel  intent01F6Yz   \n",
       "3  http://data.allim.com/core#Entity  intent01GiDN   \n",
       "4  http://data.allim.com/core#Entity  intent01mMB4   \n",
       "\n",
       "                                                name  \\\n",
       "0  Aral Southern Xinjiang Hongguopin Famers Profe...   \n",
       "1              Wusu Yuanda Cotton Industry Co., Ltd.   \n",
       "2              Wusu Yuanda Cotton Industry Co., Ltd.   \n",
       "3  Shihezi Tiancheng Water Saving Equipment Co., ...   \n",
       "4  Xinjiang Xinte Crystal Silicon Hightech Co., Ltd.   \n",
       "\n",
       "                                    riskLabel            cityAndRegion  \\\n",
       "0   http://data.allim.com/core#CnForcedLaborl           Alar, Xinjiang   \n",
       "1    http://data.allim.com/core#CnForcedLabor  Wusu, Tacheng, Xinjiang   \n",
       "2    http://data.allim.com/core#CnForcedLabor  Wusu, Tacheng, Xinjiang   \n",
       "3   http://data.allim.com/core#CnForcedLaborl                      NaN   \n",
       "4  http://data.allim.com/core#CnForcedLabor0l         Urumqi, Xinjiang   \n",
       "\n",
       "  country       Date Generated       AllimID  \\\n",
       "0   China  2022-07-14 14:35:04  intent018lUW   \n",
       "1   China  2022-07-14 14:35:04  intent01F6Yz   \n",
       "2   China  2022-07-14 14:35:04  intent01F6Yz   \n",
       "3   China  2022-07-14 14:35:04  intent01GiDN   \n",
       "4   China  2022-07-14 14:35:04  intent01mMB4   \n",
       "\n",
       "                                                Name Entity Type  \n",
       "0  Aral Southern Xinjiang Hongguopin Famers Profe...      Entity  \n",
       "1              Wusu Yuanda Cotton Industry Co., Ltd.      Entity  \n",
       "2              Wusu Yuanda Cotton Industry Co., Ltd.      Vessel  \n",
       "3  Shihezi Tiancheng Water Saving Equipment Co., ...      Entity  \n",
       "4  Xinjiang Xinte Crystal Silicon Hightech Co., Ltd.      Entity  "
      ],
      "text/html": [
       "<div>\n",
       "<style scoped>\n",
       "    .dataframe tbody tr th:only-of-type {\n",
       "        vertical-align: middle;\n",
       "    }\n",
       "\n",
       "    .dataframe tbody tr th {\n",
       "        vertical-align: top;\n",
       "    }\n",
       "\n",
       "    .dataframe thead th {\n",
       "        text-align: right;\n",
       "    }\n",
       "</style>\n",
       "<table border=\"1\" class=\"dataframe\">\n",
       "  <thead>\n",
       "    <tr style=\"text-align: right;\">\n",
       "      <th></th>\n",
       "      <th>id</th>\n",
       "      <th>type</th>\n",
       "      <th>integerId</th>\n",
       "      <th>name</th>\n",
       "      <th>riskLabel</th>\n",
       "      <th>cityAndRegion</th>\n",
       "      <th>country</th>\n",
       "      <th>Date Generated</th>\n",
       "      <th>AllimID</th>\n",
       "      <th>Name</th>\n",
       "      <th>Entity Type</th>\n",
       "    </tr>\n",
       "  </thead>\n",
       "  <tbody>\n",
       "    <tr>\n",
       "      <th>0</th>\n",
       "      <td>http://data.allim.com/core/Integer#intent018lUW</td>\n",
       "      <td>http://data.allim.com/core#Entity</td>\n",
       "      <td>intent018lUW</td>\n",
       "      <td>Aral Southern Xinjiang Hongguopin Famers Profe...</td>\n",
       "      <td>http://data.allim.com/core#CnForcedLaborl</td>\n",
       "      <td>Alar, Xinjiang</td>\n",
       "      <td>China</td>\n",
       "      <td>2022-07-14 14:35:04</td>\n",
       "      <td>intent018lUW</td>\n",
       "      <td>Aral Southern Xinjiang Hongguopin Famers Profe...</td>\n",
       "      <td>Entity</td>\n",
       "    </tr>\n",
       "    <tr>\n",
       "      <th>1</th>\n",
       "      <td>http://data.allim.com/core/Integer#intent01F6Yz</td>\n",
       "      <td>http://data.allim.com/core#Entity</td>\n",
       "      <td>intent01F6Yz</td>\n",
       "      <td>Wusu Yuanda Cotton Industry Co., Ltd.</td>\n",
       "      <td>http://data.allim.com/core#CnForcedLabor</td>\n",
       "      <td>Wusu, Tacheng, Xinjiang</td>\n",
       "      <td>China</td>\n",
       "      <td>2022-07-14 14:35:04</td>\n",
       "      <td>intent01F6Yz</td>\n",
       "      <td>Wusu Yuanda Cotton Industry Co., Ltd.</td>\n",
       "      <td>Entity</td>\n",
       "    </tr>\n",
       "    <tr>\n",
       "      <th>2</th>\n",
       "      <td>http://data.allim.com/core/Integer#intent01F6Yz</td>\n",
       "      <td>http://data.allim.com/core#Vessel</td>\n",
       "      <td>intent01F6Yz</td>\n",
       "      <td>Wusu Yuanda Cotton Industry Co., Ltd.</td>\n",
       "      <td>http://data.allim.com/core#CnForcedLabor</td>\n",
       "      <td>Wusu, Tacheng, Xinjiang</td>\n",
       "      <td>China</td>\n",
       "      <td>2022-07-14 14:35:04</td>\n",
       "      <td>intent01F6Yz</td>\n",
       "      <td>Wusu Yuanda Cotton Industry Co., Ltd.</td>\n",
       "      <td>Vessel</td>\n",
       "    </tr>\n",
       "    <tr>\n",
       "      <th>3</th>\n",
       "      <td>http://data.allim.com/core/Integer#intent01GiDN</td>\n",
       "      <td>http://data.allim.com/core#Entity</td>\n",
       "      <td>intent01GiDN</td>\n",
       "      <td>Shihezi Tiancheng Water Saving Equipment Co., ...</td>\n",
       "      <td>http://data.allim.com/core#CnForcedLaborl</td>\n",
       "      <td>NaN</td>\n",
       "      <td>China</td>\n",
       "      <td>2022-07-14 14:35:04</td>\n",
       "      <td>intent01GiDN</td>\n",
       "      <td>Shihezi Tiancheng Water Saving Equipment Co., ...</td>\n",
       "      <td>Entity</td>\n",
       "    </tr>\n",
       "    <tr>\n",
       "      <th>4</th>\n",
       "      <td>http://data.allim.com/core/Integer#intent01mMB4</td>\n",
       "      <td>http://data.allim.com/core#Entity</td>\n",
       "      <td>intent01mMB4</td>\n",
       "      <td>Xinjiang Xinte Crystal Silicon Hightech Co., Ltd.</td>\n",
       "      <td>http://data.allim.com/core#CnForcedLabor0l</td>\n",
       "      <td>Urumqi, Xinjiang</td>\n",
       "      <td>China</td>\n",
       "      <td>2022-07-14 14:35:04</td>\n",
       "      <td>intent01mMB4</td>\n",
       "      <td>Xinjiang Xinte Crystal Silicon Hightech Co., Ltd.</td>\n",
       "      <td>Entity</td>\n",
       "    </tr>\n",
       "  </tbody>\n",
       "</table>\n",
       "</div>"
      ]
     },
     "execution_count": 20,
     "metadata": {},
     "output_type": "execute_result"
    }
   ],
   "execution_count": 20
  },
  {
   "metadata": {},
   "cell_type": "markdown",
   "source": "## Risk Labels",
   "id": "f2c12f817168aec1"
  },
  {
   "metadata": {},
   "cell_type": "code",
   "source": [
    "def get_risk_labels_from_risk_label_url(url):\n",
    "    risk_label = url.split(\"#\")[1]\n",
    "\n",
    "    if 'CnForcedLabor' in risk_label:\n",
    "        risk_label = 'CnForcedLabor'\n",
    "\n",
    "    return f'\"{risk_label}\"'\n",
    "\n",
    "\n",
    "output_df['Risk Labels'] = output_df['riskLabel'].apply(get_risk_labels_from_risk_label_url)"
   ],
   "id": "c5b5b3d46d301d0d",
   "outputs": [],
   "execution_count": null
  },
  {
   "metadata": {},
   "cell_type": "markdown",
   "source": "## Primary City, Primary Country",
   "id": "6ec40080b5c18a95"
  },
  {
   "metadata": {},
   "cell_type": "code",
   "source": [
    "output_df['Primary City'] = output_df['cityAndRegion'].fillna('')\n",
    "output_df['Primary Country'] = output_df['country']"
   ],
   "id": "2c3285c23fe4b6f9",
   "outputs": [],
   "execution_count": null
  },
  {
   "metadata": {},
   "cell_type": "markdown",
   "source": "# Group values",
   "id": "82a84964fe6a4916"
  },
  {
   "metadata": {},
   "cell_type": "code",
   "source": [
    "output_df_grouped = output_df.groupby(['Date Generated', 'AllimID', 'Name', 'Primary City', 'Primary Country']).agg({\n",
    "    'Entity Type': list,\n",
    "    'Risk Labels': list\n",
    "}).reset_index()[['Date Generated', 'AllimID', 'Name', 'Entity Type', 'Risk Labels', 'Primary City', 'Primary Country']]"
   ],
   "id": "66d4bbab3aacff27",
   "outputs": [],
   "execution_count": null
  },
  {
   "metadata": {},
   "cell_type": "code",
   "source": "output_df_grouped.head()",
   "id": "45f84e7ada877896",
   "outputs": [],
   "execution_count": null
  },
  {
   "metadata": {},
   "cell_type": "code",
   "source": [
    "def array_to_str(arr):\n",
    "    arr_distinct = sorted(set(arr))\n",
    "    return str(arr_distinct).replace('\\'', '')"
   ],
   "id": "bc4d7b84418dc68b",
   "outputs": [],
   "execution_count": null
  },
  {
   "metadata": {},
   "cell_type": "markdown",
   "source": [
    "# Cast list to str\n",
    "\n",
    "It was required to cast the list to string since this was the only way to achieve the same format of string as the expected output"
   ],
   "id": "9d17aed7031a48a"
  },
  {
   "metadata": {},
   "cell_type": "code",
   "source": [
    "final_df_list_str = output_df_grouped.copy()\n",
    "\n",
    "final_df_list_str['Entity Type'] = final_df_list_str['Entity Type'].apply(array_to_str)\n",
    "final_df_list_str['Risk Labels'] = final_df_list_str['Risk Labels'].apply(array_to_str)"
   ],
   "id": "764eef427a690e19",
   "outputs": [],
   "execution_count": null
  },
  {
   "metadata": {},
   "cell_type": "code",
   "source": "final_df_list_str.head(12)",
   "id": "dba63e925c6954cc",
   "outputs": [],
   "execution_count": null
  },
  {
   "metadata": {},
   "cell_type": "markdown",
   "source": [
    "# Write CSV\n",
    "\n",
    "The final CSV has a blank line in the end that is not in the expected output. I tried to remove this line using different options of `to_csv` but it didn't work."
   ],
   "id": "da8064e6675781ad"
  },
  {
   "metadata": {},
   "cell_type": "code",
   "source": "final_df_list_str.sort_values(by='AllimID', key=lambda x: x.str.lower()).to_csv('../data/my_output.csv', index=False)",
   "id": "e041c87e5cdc6a19",
   "outputs": [],
   "execution_count": null
  }
 ],
 "metadata": {
  "kernelspec": {
   "display_name": "Python 3",
   "language": "python",
   "name": "python3"
  },
  "language_info": {
   "codemirror_mode": {
    "name": "ipython",
    "version": 2
   },
   "file_extension": ".py",
   "mimetype": "text/x-python",
   "name": "python",
   "nbconvert_exporter": "python",
   "pygments_lexer": "ipython2",
   "version": "2.7.6"
  }
 },
 "nbformat": 4,
 "nbformat_minor": 5
}
