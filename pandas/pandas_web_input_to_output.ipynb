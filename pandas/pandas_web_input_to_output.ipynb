{
 "cells": [
  {
   "metadata": {},
   "cell_type": "markdown",
   "source": [
    "# Summary\n",
    "\n",
    "The goal of this notebook is to be an exercise of Pandas, and it consists in preparing data to be delivered in an expected format.\n",
    "\n",
    "The input data comes from [web_input.csv](../data/web_input.csv).\n",
    "The expected output data is in [web_output.csv](../data/web_output.csv).\n",
    "\n",
    "In the cells below, I'm going to create Python code to import required libraries and apply the required data transformations using Pandas to achieve the expected output."
   ],
   "id": "c8ea407655264471"
  },
  {
   "metadata": {},
   "cell_type": "markdown",
   "source": "# Imports",
   "id": "752b67708975cc7e"
  },
  {
   "cell_type": "code",
   "id": "initial_id",
   "metadata": {
    "collapsed": true
   },
   "source": "import pandas as pd",
   "outputs": [],
   "execution_count": null
  },
  {
   "metadata": {},
   "cell_type": "markdown",
   "source": "# Read CSV",
   "id": "b15605ca19d14287"
  },
  {
   "metadata": {},
   "cell_type": "code",
   "source": "input_df = pd.read_csv('../data/web_input.csv')",
   "id": "d97032ab42d50cd",
   "outputs": [],
   "execution_count": null
  },
  {
   "metadata": {},
   "cell_type": "code",
   "source": "input_df.head()",
   "id": "588e04eab1f2b82b",
   "outputs": [],
   "execution_count": null
  },
  {
   "metadata": {},
   "cell_type": "markdown",
   "source": "# Create Output DF",
   "id": "350ff0ddb01d46c3"
  },
  {
   "metadata": {},
   "cell_type": "markdown",
   "source": "## Date Generated, AllimID, Name",
   "id": "cc5f8679da8c8f88"
  },
  {
   "metadata": {},
   "cell_type": "code",
   "source": "output_df = input_df.copy()",
   "id": "fd6a793a42b7d92b",
   "outputs": [],
   "execution_count": null
  },
  {
   "metadata": {},
   "cell_type": "code",
   "source": [
    "output_df['Date Generated'] = '2022-07-14 14:35:04'\n",
    "output_df['AllimID'] = input_df['integerId']\n",
    "output_df['Name'] = input_df['name']"
   ],
   "id": "eed0dc703867ecb4",
   "outputs": [],
   "execution_count": null
  },
  {
   "metadata": {},
   "cell_type": "markdown",
   "source": "## Entity Type",
   "id": "646313a2d33ee334"
  },
  {
   "metadata": {},
   "cell_type": "code",
   "source": [
    "def get_entity_from_type_url(url):\n",
    "    return f'\"{url.split(\"#\")[1]}\"'\n",
    "\n",
    "\n",
    "output_df['Entity Type'] = output_df['type'].apply(get_entity_from_type_url)"
   ],
   "id": "1bd98d78562f889a",
   "outputs": [],
   "execution_count": null
  },
  {
   "metadata": {},
   "cell_type": "markdown",
   "source": "## Risk Labels",
   "id": "f2c12f817168aec1"
  },
  {
   "metadata": {},
   "cell_type": "code",
   "source": [
    "def get_risk_labels_from_risk_label_url(url):\n",
    "    risk_label = url.split(\"#\")[1]\n",
    "\n",
    "    if 'CnForcedLabor' in risk_label:\n",
    "        risk_label = 'CnForcedLabor'\n",
    "\n",
    "    return f'\"{risk_label}\"'\n",
    "\n",
    "\n",
    "output_df['Risk Labels'] = output_df['riskLabel'].apply(get_risk_labels_from_risk_label_url)"
   ],
   "id": "c5b5b3d46d301d0d",
   "outputs": [],
   "execution_count": null
  },
  {
   "metadata": {},
   "cell_type": "markdown",
   "source": "## Primary City, Primary Country",
   "id": "6ec40080b5c18a95"
  },
  {
   "metadata": {},
   "cell_type": "code",
   "source": [
    "output_df['Primary City'] = output_df['cityAndRegion'].fillna('')\n",
    "output_df['Primary Country'] = output_df['country']"
   ],
   "id": "2c3285c23fe4b6f9",
   "outputs": [],
   "execution_count": null
  },
  {
   "metadata": {},
   "cell_type": "markdown",
   "source": "# Group values",
   "id": "82a84964fe6a4916"
  },
  {
   "metadata": {},
   "cell_type": "code",
   "source": [
    "output_df_grouped = output_df.groupby(['Date Generated', 'AllimID', 'Name', 'Primary City', 'Primary Country']).agg({\n",
    "    'Entity Type': list,\n",
    "    'Risk Labels': list\n",
    "}).reset_index()[['Date Generated', 'AllimID', 'Name', 'Entity Type', 'Risk Labels', 'Primary City', 'Primary Country']]"
   ],
   "id": "66d4bbab3aacff27",
   "outputs": [],
   "execution_count": null
  },
  {
   "metadata": {},
   "cell_type": "code",
   "source": "output_df_grouped.head()",
   "id": "45f84e7ada877896",
   "outputs": [],
   "execution_count": null
  },
  {
   "metadata": {},
   "cell_type": "code",
   "source": [
    "def array_to_str(arr):\n",
    "    arr_distinct = sorted(set(arr))\n",
    "    return str(arr_distinct).replace('\\'', '')"
   ],
   "id": "bc4d7b84418dc68b",
   "outputs": [],
   "execution_count": null
  },
  {
   "metadata": {},
   "cell_type": "markdown",
   "source": [
    "# Cast list to str\n",
    "\n",
    "It was required to cast the list to string since this was the only way to achieve the same format of string as the expected output"
   ],
   "id": "9d17aed7031a48a"
  },
  {
   "metadata": {},
   "cell_type": "code",
   "source": [
    "final_df_list_str = output_df_grouped.copy()\n",
    "\n",
    "final_df_list_str['Entity Type'] = final_df_list_str['Entity Type'].apply(array_to_str)\n",
    "final_df_list_str['Risk Labels'] = final_df_list_str['Risk Labels'].apply(array_to_str)"
   ],
   "id": "764eef427a690e19",
   "outputs": [],
   "execution_count": null
  },
  {
   "metadata": {},
   "cell_type": "code",
   "source": "final_df_list_str.head(12)",
   "id": "dba63e925c6954cc",
   "outputs": [],
   "execution_count": null
  },
  {
   "metadata": {},
   "cell_type": "markdown",
   "source": [
    "# Write CSV\n",
    "\n",
    "The final CSV has a blank line in the end that is not in the expected output. I tried to remove this line using different options of `to_csv` but it didn't work."
   ],
   "id": "da8064e6675781ad"
  },
  {
   "metadata": {},
   "cell_type": "code",
   "source": "final_df_list_str.sort_values(by='AllimID', key=lambda x: x.str.lower()).to_csv('../data/my_output.csv', index=False)",
   "id": "e041c87e5cdc6a19",
   "outputs": [],
   "execution_count": null
  }
 ],
 "metadata": {
  "kernelspec": {
   "display_name": "Python 3",
   "language": "python",
   "name": "python3"
  },
  "language_info": {
   "codemirror_mode": {
    "name": "ipython",
    "version": 2
   },
   "file_extension": ".py",
   "mimetype": "text/x-python",
   "name": "python",
   "nbconvert_exporter": "python",
   "pygments_lexer": "ipython2",
   "version": "2.7.6"
  }
 },
 "nbformat": 4,
 "nbformat_minor": 5
}
