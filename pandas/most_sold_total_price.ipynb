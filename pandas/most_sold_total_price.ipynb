{
 "cells": [
  {
   "metadata": {},
   "cell_type": "markdown",
   "source": "# Imports",
   "id": "cfbeda4a699dc71"
  },
  {
   "cell_type": "code",
   "id": "initial_id",
   "metadata": {
    "collapsed": true
   },
   "source": "import pandas as pd",
   "outputs": [],
   "execution_count": null
  },
  {
   "metadata": {},
   "cell_type": "markdown",
   "source": "# Read CSV file",
   "id": "3eec65914eae8c49"
  },
  {
   "metadata": {},
   "cell_type": "code",
   "source": "purchases_df = pd.read_csv('../data/purchases_item_price.csv', parse_dates=['purchase_date'])",
   "id": "c5dd15610fde9f28",
   "outputs": [],
   "execution_count": null
  },
  {
   "metadata": {},
   "cell_type": "code",
   "source": [
    "# purchases_df.dtypes\n",
    "purchases_df.head(2)"
   ],
   "id": "97e88180b8251524",
   "outputs": [],
   "execution_count": null
  },
  {
   "metadata": {},
   "cell_type": "markdown",
   "source": "# Agg and Sort (by month, total price, sort)",
   "id": "86bd8e0d47894b3e"
  },
  {
   "metadata": {},
   "cell_type": "code",
   "source": [
    "purchases_calculated_df = purchases_df.assign(\n",
    "    purchase_month=lambda x: x['purchase_date'].dt.to_period('M').astype(str),\n",
    "    total_price=lambda x: x['quantity'] * x['price']\n",
    ")"
   ],
   "id": "158febc8aae54da0",
   "outputs": [],
   "execution_count": null
  },
  {
   "metadata": {
    "ExecuteTime": {
     "end_time": "2025-06-29T22:55:13.424394Z",
     "start_time": "2025-06-29T22:55:13.418300Z"
    }
   },
   "cell_type": "code",
   "source": "purchases_calculated_df.head(2)",
   "id": "e47937eb8c4ff8ec",
   "outputs": [
    {
     "data": {
      "text/plain": [
       "   purchase_id     product   price  quantity purchase_date purchase_month  \\\n",
       "0            1  Headphones   120.0         2    2024-04-15        2024-04   \n",
       "1            2      Laptop  1500.0         1    2024-04-22        2024-04   \n",
       "\n",
       "   total_price  \n",
       "0        240.0  \n",
       "1       1500.0  "
      ],
      "text/html": [
       "<div>\n",
       "<style scoped>\n",
       "    .dataframe tbody tr th:only-of-type {\n",
       "        vertical-align: middle;\n",
       "    }\n",
       "\n",
       "    .dataframe tbody tr th {\n",
       "        vertical-align: top;\n",
       "    }\n",
       "\n",
       "    .dataframe thead th {\n",
       "        text-align: right;\n",
       "    }\n",
       "</style>\n",
       "<table border=\"1\" class=\"dataframe\">\n",
       "  <thead>\n",
       "    <tr style=\"text-align: right;\">\n",
       "      <th></th>\n",
       "      <th>purchase_id</th>\n",
       "      <th>product</th>\n",
       "      <th>price</th>\n",
       "      <th>quantity</th>\n",
       "      <th>purchase_date</th>\n",
       "      <th>purchase_month</th>\n",
       "      <th>total_price</th>\n",
       "    </tr>\n",
       "  </thead>\n",
       "  <tbody>\n",
       "    <tr>\n",
       "      <th>0</th>\n",
       "      <td>1</td>\n",
       "      <td>Headphones</td>\n",
       "      <td>120.0</td>\n",
       "      <td>2</td>\n",
       "      <td>2024-04-15</td>\n",
       "      <td>2024-04</td>\n",
       "      <td>240.0</td>\n",
       "    </tr>\n",
       "    <tr>\n",
       "      <th>1</th>\n",
       "      <td>2</td>\n",
       "      <td>Laptop</td>\n",
       "      <td>1500.0</td>\n",
       "      <td>1</td>\n",
       "      <td>2024-04-22</td>\n",
       "      <td>2024-04</td>\n",
       "      <td>1500.0</td>\n",
       "    </tr>\n",
       "  </tbody>\n",
       "</table>\n",
       "</div>"
      ]
     },
     "execution_count": 43,
     "metadata": {},
     "output_type": "execute_result"
    }
   ],
   "execution_count": 43
  },
  {
   "metadata": {},
   "cell_type": "code",
   "source": [
    "help(purchases_calculated_df.groupby('purchase_month')\n",
    "     .agg)"
   ],
   "id": "e3929bb882c59944",
   "outputs": [],
   "execution_count": null
  },
  {
   "metadata": {
    "ExecuteTime": {
     "end_time": "2025-06-29T22:56:12.102478Z",
     "start_time": "2025-06-29T22:56:12.097563Z"
    }
   },
   "cell_type": "code",
   "source": [
    "purchases_grouped_df = (purchases_calculated_df.groupby('purchase_month')\n",
    "                        .agg({\n",
    "    'quantity': 'sum',\n",
    "    'total_price': 'sum',\n",
    "})\n",
    "                        .reset_index()\n",
    "                        .sort_values(by='total_price', ascending=False))"
   ],
   "id": "a66adf27f7291681",
   "outputs": [],
   "execution_count": 46
  },
  {
   "metadata": {
    "ExecuteTime": {
     "end_time": "2025-06-29T22:56:14.333581Z",
     "start_time": "2025-06-29T22:56:14.328462Z"
    }
   },
   "cell_type": "code",
   "source": "purchases_grouped_df.head()",
   "id": "f76c722502df53f1",
   "outputs": [
    {
     "data": {
      "text/plain": [
       "  purchase_month  quantity  total_price\n",
       "2        2024-06        10       3330.0\n",
       "4        2024-08         8       2620.0\n",
       "0        2024-04         3       1740.0\n",
       "3        2024-07        15       1130.0\n",
       "1        2024-05        10       1030.0"
      ],
      "text/html": [
       "<div>\n",
       "<style scoped>\n",
       "    .dataframe tbody tr th:only-of-type {\n",
       "        vertical-align: middle;\n",
       "    }\n",
       "\n",
       "    .dataframe tbody tr th {\n",
       "        vertical-align: top;\n",
       "    }\n",
       "\n",
       "    .dataframe thead th {\n",
       "        text-align: right;\n",
       "    }\n",
       "</style>\n",
       "<table border=\"1\" class=\"dataframe\">\n",
       "  <thead>\n",
       "    <tr style=\"text-align: right;\">\n",
       "      <th></th>\n",
       "      <th>purchase_month</th>\n",
       "      <th>quantity</th>\n",
       "      <th>total_price</th>\n",
       "    </tr>\n",
       "  </thead>\n",
       "  <tbody>\n",
       "    <tr>\n",
       "      <th>2</th>\n",
       "      <td>2024-06</td>\n",
       "      <td>10</td>\n",
       "      <td>3330.0</td>\n",
       "    </tr>\n",
       "    <tr>\n",
       "      <th>4</th>\n",
       "      <td>2024-08</td>\n",
       "      <td>8</td>\n",
       "      <td>2620.0</td>\n",
       "    </tr>\n",
       "    <tr>\n",
       "      <th>0</th>\n",
       "      <td>2024-04</td>\n",
       "      <td>3</td>\n",
       "      <td>1740.0</td>\n",
       "    </tr>\n",
       "    <tr>\n",
       "      <th>3</th>\n",
       "      <td>2024-07</td>\n",
       "      <td>15</td>\n",
       "      <td>1130.0</td>\n",
       "    </tr>\n",
       "    <tr>\n",
       "      <th>1</th>\n",
       "      <td>2024-05</td>\n",
       "      <td>10</td>\n",
       "      <td>1030.0</td>\n",
       "    </tr>\n",
       "  </tbody>\n",
       "</table>\n",
       "</div>"
      ]
     },
     "execution_count": 47,
     "metadata": {},
     "output_type": "execute_result"
    }
   ],
   "execution_count": 47
  },
  {
   "metadata": {
    "ExecuteTime": {
     "end_time": "2025-06-29T23:01:04.350685Z",
     "start_time": "2025-06-29T23:01:04.346287Z"
    }
   },
   "cell_type": "code",
   "source": [
    "new_df = (purchases_df.assign(\n",
    "    purchase_month=lambda x: x['purchase_date'].dt.to_period('M').astype(str),\n",
    "    total_price=lambda x: x['quantity'] * x['price']\n",
    ")\n",
    "          .groupby('purchase_month')\n",
    "          .agg({'total_price': 'sum', 'quantity': 'sum'})\n",
    "          .reset_index()\n",
    "          .sort_values(by='total_price', ascending=False))"
   ],
   "id": "4629b9efac034226",
   "outputs": [],
   "execution_count": 50
  },
  {
   "metadata": {
    "ExecuteTime": {
     "end_time": "2025-06-29T23:01:05.903665Z",
     "start_time": "2025-06-29T23:01:05.898891Z"
    }
   },
   "cell_type": "code",
   "source": "new_df.head()",
   "id": "db97750e7cfcaaf2",
   "outputs": [
    {
     "data": {
      "text/plain": [
       "  purchase_month  total_price  quantity\n",
       "2        2024-06       3330.0        10\n",
       "4        2024-08       2620.0         8\n",
       "0        2024-04       1740.0         3\n",
       "3        2024-07       1130.0        15\n",
       "1        2024-05       1030.0        10"
      ],
      "text/html": [
       "<div>\n",
       "<style scoped>\n",
       "    .dataframe tbody tr th:only-of-type {\n",
       "        vertical-align: middle;\n",
       "    }\n",
       "\n",
       "    .dataframe tbody tr th {\n",
       "        vertical-align: top;\n",
       "    }\n",
       "\n",
       "    .dataframe thead th {\n",
       "        text-align: right;\n",
       "    }\n",
       "</style>\n",
       "<table border=\"1\" class=\"dataframe\">\n",
       "  <thead>\n",
       "    <tr style=\"text-align: right;\">\n",
       "      <th></th>\n",
       "      <th>purchase_month</th>\n",
       "      <th>total_price</th>\n",
       "      <th>quantity</th>\n",
       "    </tr>\n",
       "  </thead>\n",
       "  <tbody>\n",
       "    <tr>\n",
       "      <th>2</th>\n",
       "      <td>2024-06</td>\n",
       "      <td>3330.0</td>\n",
       "      <td>10</td>\n",
       "    </tr>\n",
       "    <tr>\n",
       "      <th>4</th>\n",
       "      <td>2024-08</td>\n",
       "      <td>2620.0</td>\n",
       "      <td>8</td>\n",
       "    </tr>\n",
       "    <tr>\n",
       "      <th>0</th>\n",
       "      <td>2024-04</td>\n",
       "      <td>1740.0</td>\n",
       "      <td>3</td>\n",
       "    </tr>\n",
       "    <tr>\n",
       "      <th>3</th>\n",
       "      <td>2024-07</td>\n",
       "      <td>1130.0</td>\n",
       "      <td>15</td>\n",
       "    </tr>\n",
       "    <tr>\n",
       "      <th>1</th>\n",
       "      <td>2024-05</td>\n",
       "      <td>1030.0</td>\n",
       "      <td>10</td>\n",
       "    </tr>\n",
       "  </tbody>\n",
       "</table>\n",
       "</div>"
      ]
     },
     "execution_count": 51,
     "metadata": {},
     "output_type": "execute_result"
    }
   ],
   "execution_count": 51
  }
 ],
 "metadata": {
  "kernelspec": {
   "display_name": "Python 3",
   "language": "python",
   "name": "python3"
  },
  "language_info": {
   "codemirror_mode": {
    "name": "ipython",
    "version": 2
   },
   "file_extension": ".py",
   "mimetype": "text/x-python",
   "name": "python",
   "nbconvert_exporter": "python",
   "pygments_lexer": "ipython2",
   "version": "2.7.6"
  }
 },
 "nbformat": 4,
 "nbformat_minor": 5
}
