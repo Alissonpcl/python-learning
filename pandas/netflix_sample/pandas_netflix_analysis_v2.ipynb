{
 "cells": [
  {
   "metadata": {},
   "cell_type": "markdown",
   "source": "# Imports",
   "id": "812a4272c1fef687"
  },
  {
   "cell_type": "code",
   "id": "initial_id",
   "metadata": {
    "collapsed": true
   },
   "source": [
    "from itertools import groupby\n",
    "\n",
    "import pandas as pd"
   ],
   "outputs": [],
   "execution_count": null
  },
  {
   "metadata": {},
   "cell_type": "markdown",
   "source": "# Read CSV file",
   "id": "1c225d0fc41061b4"
  },
  {
   "metadata": {},
   "cell_type": "code",
   "source": "movies_df = pd.read_csv('netflix_titles.csv')",
   "id": "ef71b4a91bfdb925",
   "outputs": [],
   "execution_count": null
  },
  {
   "metadata": {},
   "cell_type": "markdown",
   "source": "## Print head",
   "id": "2104ee1a4ffccf2"
  },
  {
   "metadata": {},
   "cell_type": "code",
   "source": "movies_df.head()",
   "id": "7744e200ca37bffe",
   "outputs": [],
   "execution_count": null
  },
  {
   "metadata": {},
   "cell_type": "markdown",
   "source": "# Treat types",
   "id": "15e2d5b7035a5199"
  },
  {
   "metadata": {},
   "cell_type": "code",
   "source": [
    "movies_df['date_added'] = pd.to_datetime(movies_df['date_added'].str.strip(), format=\"%B %d, %Y\")\n",
    "movies_df.dtypes"
   ],
   "id": "73ab02d98ed70210",
   "outputs": [],
   "execution_count": null
  },
  {
   "metadata": {},
   "cell_type": "markdown",
   "source": "# Aggregations",
   "id": "969fb4cc37b5ba65"
  },
  {
   "metadata": {},
   "cell_type": "markdown",
   "source": "## Count by type",
   "id": "839face0a0968fe0"
  },
  {
   "metadata": {},
   "cell_type": "code",
   "source": [
    "movies_df.groupby('type') \\\n",
    "    .agg(\n",
    "    movies_count=(\"type\", \"count\")\n",
    ") \\\n",
    "    .reset_index() \\\n",
    "    .head(10)"
   ],
   "id": "581b0a07123e228e",
   "outputs": [],
   "execution_count": null
  },
  {
   "metadata": {},
   "cell_type": "markdown",
   "source": "# Filtering",
   "id": "df31e4b959bf19b4"
  },
  {
   "metadata": {},
   "cell_type": "markdown",
   "source": "## Added after 2010",
   "id": "6031619ed592a123"
  },
  {
   "metadata": {
    "ExecuteTime": {
     "end_time": "2025-07-08T19:48:14.196823Z",
     "start_time": "2025-07-08T19:48:14.188417Z"
    }
   },
   "cell_type": "code",
   "source": [
    "movies_df.loc[movies_df.date_added > '2010-01-01'].sort_values('date_added', ascending=False).head()\n",
    "\n",
    "# help(movies_df.loc[movies_df.date_added > '2010-01-01'])"
   ],
   "id": "2071cc85e59c45d0",
   "outputs": [
    {
     "data": {
      "text/plain": [
       "   show_id     type                                title  \\\n",
       "0       s1    Movie                 Dick Johnson Is Dead   \n",
       "6       s7    Movie     My Little Pony: A New Generation   \n",
       "10     s11  TV Show  Vendetta: Truth, Lies and The Mafia   \n",
       "9      s10    Movie                         The Starling   \n",
       "8       s9  TV Show        The Great British Baking Show   \n",
       "\n",
       "                         director  \\\n",
       "0                 Kirsten Johnson   \n",
       "6   Robert Cullen, José Luis Ucha   \n",
       "10                            NaN   \n",
       "9                  Theodore Melfi   \n",
       "8                 Andy Devonshire   \n",
       "\n",
       "                                                 cast         country  \\\n",
       "0                                                 NaN   United States   \n",
       "6   Vanessa Hudgens, Kimiko Glenn, James Marsden, ...             NaN   \n",
       "10                                                NaN             NaN   \n",
       "9   Melissa McCarthy, Chris O'Dowd, Kevin Kline, T...   United States   \n",
       "8   Mel Giedroyc, Sue Perkins, Mary Berry, Paul Ho...  United Kingdom   \n",
       "\n",
       "   date_added  release_year rating   duration  \\\n",
       "0  2021-09-25          2020  PG-13     90 min   \n",
       "6  2021-09-24          2021     PG     91 min   \n",
       "10 2021-09-24          2021  TV-MA   1 Season   \n",
       "9  2021-09-24          2021  PG-13    104 min   \n",
       "8  2021-09-24          2021  TV-14  9 Seasons   \n",
       "\n",
       "                                            listed_in  \\\n",
       "0                                       Documentaries   \n",
       "6                            Children & Family Movies   \n",
       "10  Crime TV Shows, Docuseries, International TV S...   \n",
       "9                                    Comedies, Dramas   \n",
       "8                        British TV Shows, Reality TV   \n",
       "\n",
       "                                          description date_added_dt  \n",
       "0   As her father nears the end of his life, filmm...    2021-09-25  \n",
       "6   Equestria's divided. But a bright-eyed hero be...    2021-09-24  \n",
       "10  Sicily boasts a bold \"Anti-Mafia\" coalition. B...    2021-09-24  \n",
       "9   A woman adjusting to life after a loss contend...    2021-09-24  \n",
       "8   A talented batch of amateur bakers face off in...    2021-09-24  "
      ],
      "text/html": [
       "<div>\n",
       "<style scoped>\n",
       "    .dataframe tbody tr th:only-of-type {\n",
       "        vertical-align: middle;\n",
       "    }\n",
       "\n",
       "    .dataframe tbody tr th {\n",
       "        vertical-align: top;\n",
       "    }\n",
       "\n",
       "    .dataframe thead th {\n",
       "        text-align: right;\n",
       "    }\n",
       "</style>\n",
       "<table border=\"1\" class=\"dataframe\">\n",
       "  <thead>\n",
       "    <tr style=\"text-align: right;\">\n",
       "      <th></th>\n",
       "      <th>show_id</th>\n",
       "      <th>type</th>\n",
       "      <th>title</th>\n",
       "      <th>director</th>\n",
       "      <th>cast</th>\n",
       "      <th>country</th>\n",
       "      <th>date_added</th>\n",
       "      <th>release_year</th>\n",
       "      <th>rating</th>\n",
       "      <th>duration</th>\n",
       "      <th>listed_in</th>\n",
       "      <th>description</th>\n",
       "      <th>date_added_dt</th>\n",
       "    </tr>\n",
       "  </thead>\n",
       "  <tbody>\n",
       "    <tr>\n",
       "      <th>0</th>\n",
       "      <td>s1</td>\n",
       "      <td>Movie</td>\n",
       "      <td>Dick Johnson Is Dead</td>\n",
       "      <td>Kirsten Johnson</td>\n",
       "      <td>NaN</td>\n",
       "      <td>United States</td>\n",
       "      <td>2021-09-25</td>\n",
       "      <td>2020</td>\n",
       "      <td>PG-13</td>\n",
       "      <td>90 min</td>\n",
       "      <td>Documentaries</td>\n",
       "      <td>As her father nears the end of his life, filmm...</td>\n",
       "      <td>2021-09-25</td>\n",
       "    </tr>\n",
       "    <tr>\n",
       "      <th>6</th>\n",
       "      <td>s7</td>\n",
       "      <td>Movie</td>\n",
       "      <td>My Little Pony: A New Generation</td>\n",
       "      <td>Robert Cullen, José Luis Ucha</td>\n",
       "      <td>Vanessa Hudgens, Kimiko Glenn, James Marsden, ...</td>\n",
       "      <td>NaN</td>\n",
       "      <td>2021-09-24</td>\n",
       "      <td>2021</td>\n",
       "      <td>PG</td>\n",
       "      <td>91 min</td>\n",
       "      <td>Children &amp; Family Movies</td>\n",
       "      <td>Equestria's divided. But a bright-eyed hero be...</td>\n",
       "      <td>2021-09-24</td>\n",
       "    </tr>\n",
       "    <tr>\n",
       "      <th>10</th>\n",
       "      <td>s11</td>\n",
       "      <td>TV Show</td>\n",
       "      <td>Vendetta: Truth, Lies and The Mafia</td>\n",
       "      <td>NaN</td>\n",
       "      <td>NaN</td>\n",
       "      <td>NaN</td>\n",
       "      <td>2021-09-24</td>\n",
       "      <td>2021</td>\n",
       "      <td>TV-MA</td>\n",
       "      <td>1 Season</td>\n",
       "      <td>Crime TV Shows, Docuseries, International TV S...</td>\n",
       "      <td>Sicily boasts a bold \"Anti-Mafia\" coalition. B...</td>\n",
       "      <td>2021-09-24</td>\n",
       "    </tr>\n",
       "    <tr>\n",
       "      <th>9</th>\n",
       "      <td>s10</td>\n",
       "      <td>Movie</td>\n",
       "      <td>The Starling</td>\n",
       "      <td>Theodore Melfi</td>\n",
       "      <td>Melissa McCarthy, Chris O'Dowd, Kevin Kline, T...</td>\n",
       "      <td>United States</td>\n",
       "      <td>2021-09-24</td>\n",
       "      <td>2021</td>\n",
       "      <td>PG-13</td>\n",
       "      <td>104 min</td>\n",
       "      <td>Comedies, Dramas</td>\n",
       "      <td>A woman adjusting to life after a loss contend...</td>\n",
       "      <td>2021-09-24</td>\n",
       "    </tr>\n",
       "    <tr>\n",
       "      <th>8</th>\n",
       "      <td>s9</td>\n",
       "      <td>TV Show</td>\n",
       "      <td>The Great British Baking Show</td>\n",
       "      <td>Andy Devonshire</td>\n",
       "      <td>Mel Giedroyc, Sue Perkins, Mary Berry, Paul Ho...</td>\n",
       "      <td>United Kingdom</td>\n",
       "      <td>2021-09-24</td>\n",
       "      <td>2021</td>\n",
       "      <td>TV-14</td>\n",
       "      <td>9 Seasons</td>\n",
       "      <td>British TV Shows, Reality TV</td>\n",
       "      <td>A talented batch of amateur bakers face off in...</td>\n",
       "      <td>2021-09-24</td>\n",
       "    </tr>\n",
       "  </tbody>\n",
       "</table>\n",
       "</div>"
      ]
     },
     "execution_count": 92,
     "metadata": {},
     "output_type": "execute_result"
    }
   ],
   "execution_count": 92
  },
  {
   "metadata": {},
   "cell_type": "markdown",
   "source": "## Count by type, added after 2020",
   "id": "f6840d1abefe9dac"
  },
  {
   "metadata": {
    "ExecuteTime": {
     "end_time": "2025-07-08T19:45:42.713816Z",
     "start_time": "2025-07-08T19:45:42.708341Z"
    }
   },
   "cell_type": "code",
   "source": [
    "movies_df.loc[movies_df.date_added > '2020-01-01'] \\\n",
    "    .groupby('type') \\\n",
    "    .agg(\n",
    "    movies_count=(\"type\", \"count\")\n",
    ") \\\n",
    "    .reset_index() \\\n",
    "    .head(10)"
   ],
   "id": "50cac4622fc2c8bf",
   "outputs": [
    {
     "data": {
      "text/plain": [
       "      type  movies_count\n",
       "0    Movie          2180\n",
       "1  TV Show          1087"
      ],
      "text/html": [
       "<div>\n",
       "<style scoped>\n",
       "    .dataframe tbody tr th:only-of-type {\n",
       "        vertical-align: middle;\n",
       "    }\n",
       "\n",
       "    .dataframe tbody tr th {\n",
       "        vertical-align: top;\n",
       "    }\n",
       "\n",
       "    .dataframe thead th {\n",
       "        text-align: right;\n",
       "    }\n",
       "</style>\n",
       "<table border=\"1\" class=\"dataframe\">\n",
       "  <thead>\n",
       "    <tr style=\"text-align: right;\">\n",
       "      <th></th>\n",
       "      <th>type</th>\n",
       "      <th>movies_count</th>\n",
       "    </tr>\n",
       "  </thead>\n",
       "  <tbody>\n",
       "    <tr>\n",
       "      <th>0</th>\n",
       "      <td>Movie</td>\n",
       "      <td>2180</td>\n",
       "    </tr>\n",
       "    <tr>\n",
       "      <th>1</th>\n",
       "      <td>TV Show</td>\n",
       "      <td>1087</td>\n",
       "    </tr>\n",
       "  </tbody>\n",
       "</table>\n",
       "</div>"
      ]
     },
     "execution_count": 85,
     "metadata": {},
     "output_type": "execute_result"
    }
   ],
   "execution_count": 85
  }
 ],
 "metadata": {
  "kernelspec": {
   "display_name": "Python 3",
   "language": "python",
   "name": "python3"
  },
  "language_info": {
   "codemirror_mode": {
    "name": "ipython",
    "version": 2
   },
   "file_extension": ".py",
   "mimetype": "text/x-python",
   "name": "python",
   "nbconvert_exporter": "python",
   "pygments_lexer": "ipython2",
   "version": "2.7.6"
  }
 },
 "nbformat": 4,
 "nbformat_minor": 5
}
