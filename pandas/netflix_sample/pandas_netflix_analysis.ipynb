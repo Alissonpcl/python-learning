{
 "cells": [
  {
   "cell_type": "code",
   "id": "initial_id",
   "metadata": {
    "collapsed": true,
    "ExecuteTime": {
     "end_time": "2024-06-09T12:21:39.652432Z",
     "start_time": "2024-06-09T12:21:39.649441Z"
    }
   },
   "source": [
    "import pandas as pd\n",
    "from pathlib import Path\n",
    "from datetime import datetime"
   ],
   "outputs": [],
   "execution_count": 29
  },
  {
   "metadata": {
    "ExecuteTime": {
     "end_time": "2024-06-09T12:42:03.088796Z",
     "start_time": "2024-06-09T12:42:03.049417Z"
    }
   },
   "cell_type": "code",
   "source": [
    "netflix_pd = pd.read_csv(f\"{Path().absolute()}/netflix_titles.csv\",\n",
    "                         parse_dates=['date_added'],\n",
    "                         date_format='%B %d, %Y')\n",
    "\n",
    "# It's required to use str.strip() because some of the values\n",
    "# have a whitespace at the beginning\n",
    "netflix_pd['date_added'] = pd.to_datetime(netflix_pd['date_added'].str.strip(), format='%B %d, %Y')\n",
    "\n",
    "netflix_pd.dtypes"
   ],
   "id": "d2e5b4aedb8113d9",
   "outputs": [
    {
     "data": {
      "text/plain": [
       "show_id                 object\n",
       "type                    object\n",
       "title                   object\n",
       "director                object\n",
       "cast                    object\n",
       "country                 object\n",
       "date_added      datetime64[ns]\n",
       "release_year             int64\n",
       "rating                  object\n",
       "duration                object\n",
       "listed_in               object\n",
       "description             object\n",
       "dtype: object"
      ]
     },
     "execution_count": 57,
     "metadata": {},
     "output_type": "execute_result"
    }
   ],
   "execution_count": 57
  },
  {
   "metadata": {
    "ExecuteTime": {
     "end_time": "2024-06-09T13:33:52.687978Z",
     "start_time": "2024-06-09T13:33:52.681469Z"
    }
   },
   "cell_type": "code",
   "source": "netflix_pd.head()",
   "id": "3b7fa6fbad26693a",
   "outputs": [
    {
     "data": {
      "text/plain": [
       "  show_id     type                  title         director  \\\n",
       "0      s1    Movie   Dick Johnson Is Dead  Kirsten Johnson   \n",
       "1      s2  TV Show          Blood & Water              NaN   \n",
       "2      s3  TV Show              Ganglands  Julien Leclercq   \n",
       "3      s4  TV Show  Jailbirds New Orleans              NaN   \n",
       "4      s5  TV Show           Kota Factory              NaN   \n",
       "\n",
       "                                                cast        country  \\\n",
       "0                                                NaN  United States   \n",
       "1  Ama Qamata, Khosi Ngema, Gail Mabalane, Thaban...   South Africa   \n",
       "2  Sami Bouajila, Tracy Gotoas, Samuel Jouy, Nabi...            NaN   \n",
       "3                                                NaN            NaN   \n",
       "4  Mayur More, Jitendra Kumar, Ranjan Raj, Alam K...          India   \n",
       "\n",
       "  date_added  release_year rating   duration  \\\n",
       "0 2021-09-25          2020  PG-13     90 min   \n",
       "1 2021-09-24          2021  TV-MA  2 Seasons   \n",
       "2 2021-09-24          2021  TV-MA   1 Season   \n",
       "3 2021-09-24          2021  TV-MA   1 Season   \n",
       "4 2021-09-24          2021  TV-MA  2 Seasons   \n",
       "\n",
       "                                           listed_in  \\\n",
       "0                                      Documentaries   \n",
       "1    International TV Shows, TV Dramas, TV Mysteries   \n",
       "2  Crime TV Shows, International TV Shows, TV Act...   \n",
       "3                             Docuseries, Reality TV   \n",
       "4  International TV Shows, Romantic TV Shows, TV ...   \n",
       "\n",
       "                                         description  date_added_year  \n",
       "0  As her father nears the end of his life, filmm...             2021  \n",
       "1  After crossing paths at a party, a Cape Town t...             2021  \n",
       "2  To protect his family from a powerful drug lor...             2021  \n",
       "3  Feuds, flirtations and toilet talk go down amo...             2021  \n",
       "4  In a city of coaching centers known to train I...             2021  "
      ],
      "text/html": [
       "<div>\n",
       "<style scoped>\n",
       "    .dataframe tbody tr th:only-of-type {\n",
       "        vertical-align: middle;\n",
       "    }\n",
       "\n",
       "    .dataframe tbody tr th {\n",
       "        vertical-align: top;\n",
       "    }\n",
       "\n",
       "    .dataframe thead th {\n",
       "        text-align: right;\n",
       "    }\n",
       "</style>\n",
       "<table border=\"1\" class=\"dataframe\">\n",
       "  <thead>\n",
       "    <tr style=\"text-align: right;\">\n",
       "      <th></th>\n",
       "      <th>show_id</th>\n",
       "      <th>type</th>\n",
       "      <th>title</th>\n",
       "      <th>director</th>\n",
       "      <th>cast</th>\n",
       "      <th>country</th>\n",
       "      <th>date_added</th>\n",
       "      <th>release_year</th>\n",
       "      <th>rating</th>\n",
       "      <th>duration</th>\n",
       "      <th>listed_in</th>\n",
       "      <th>description</th>\n",
       "      <th>date_added_year</th>\n",
       "    </tr>\n",
       "  </thead>\n",
       "  <tbody>\n",
       "    <tr>\n",
       "      <th>0</th>\n",
       "      <td>s1</td>\n",
       "      <td>Movie</td>\n",
       "      <td>Dick Johnson Is Dead</td>\n",
       "      <td>Kirsten Johnson</td>\n",
       "      <td>NaN</td>\n",
       "      <td>United States</td>\n",
       "      <td>2021-09-25</td>\n",
       "      <td>2020</td>\n",
       "      <td>PG-13</td>\n",
       "      <td>90 min</td>\n",
       "      <td>Documentaries</td>\n",
       "      <td>As her father nears the end of his life, filmm...</td>\n",
       "      <td>2021</td>\n",
       "    </tr>\n",
       "    <tr>\n",
       "      <th>1</th>\n",
       "      <td>s2</td>\n",
       "      <td>TV Show</td>\n",
       "      <td>Blood &amp; Water</td>\n",
       "      <td>NaN</td>\n",
       "      <td>Ama Qamata, Khosi Ngema, Gail Mabalane, Thaban...</td>\n",
       "      <td>South Africa</td>\n",
       "      <td>2021-09-24</td>\n",
       "      <td>2021</td>\n",
       "      <td>TV-MA</td>\n",
       "      <td>2 Seasons</td>\n",
       "      <td>International TV Shows, TV Dramas, TV Mysteries</td>\n",
       "      <td>After crossing paths at a party, a Cape Town t...</td>\n",
       "      <td>2021</td>\n",
       "    </tr>\n",
       "    <tr>\n",
       "      <th>2</th>\n",
       "      <td>s3</td>\n",
       "      <td>TV Show</td>\n",
       "      <td>Ganglands</td>\n",
       "      <td>Julien Leclercq</td>\n",
       "      <td>Sami Bouajila, Tracy Gotoas, Samuel Jouy, Nabi...</td>\n",
       "      <td>NaN</td>\n",
       "      <td>2021-09-24</td>\n",
       "      <td>2021</td>\n",
       "      <td>TV-MA</td>\n",
       "      <td>1 Season</td>\n",
       "      <td>Crime TV Shows, International TV Shows, TV Act...</td>\n",
       "      <td>To protect his family from a powerful drug lor...</td>\n",
       "      <td>2021</td>\n",
       "    </tr>\n",
       "    <tr>\n",
       "      <th>3</th>\n",
       "      <td>s4</td>\n",
       "      <td>TV Show</td>\n",
       "      <td>Jailbirds New Orleans</td>\n",
       "      <td>NaN</td>\n",
       "      <td>NaN</td>\n",
       "      <td>NaN</td>\n",
       "      <td>2021-09-24</td>\n",
       "      <td>2021</td>\n",
       "      <td>TV-MA</td>\n",
       "      <td>1 Season</td>\n",
       "      <td>Docuseries, Reality TV</td>\n",
       "      <td>Feuds, flirtations and toilet talk go down amo...</td>\n",
       "      <td>2021</td>\n",
       "    </tr>\n",
       "    <tr>\n",
       "      <th>4</th>\n",
       "      <td>s5</td>\n",
       "      <td>TV Show</td>\n",
       "      <td>Kota Factory</td>\n",
       "      <td>NaN</td>\n",
       "      <td>Mayur More, Jitendra Kumar, Ranjan Raj, Alam K...</td>\n",
       "      <td>India</td>\n",
       "      <td>2021-09-24</td>\n",
       "      <td>2021</td>\n",
       "      <td>TV-MA</td>\n",
       "      <td>2 Seasons</td>\n",
       "      <td>International TV Shows, Romantic TV Shows, TV ...</td>\n",
       "      <td>In a city of coaching centers known to train I...</td>\n",
       "      <td>2021</td>\n",
       "    </tr>\n",
       "  </tbody>\n",
       "</table>\n",
       "</div>"
      ]
     },
     "execution_count": 119,
     "metadata": {},
     "output_type": "execute_result"
    }
   ],
   "execution_count": 119
  },
  {
   "metadata": {},
   "cell_type": "markdown",
   "source": "How many titles where added by year",
   "id": "2be975928d5fbc0f"
  },
  {
   "metadata": {
    "ExecuteTime": {
     "end_time": "2024-06-09T12:47:05.703728Z",
     "start_time": "2024-06-09T12:47:05.696590Z"
    }
   },
   "cell_type": "code",
   "source": [
    "# Adds a new columns with the year to facilitate the aggregation\n",
    "netflix_pd['date_added_year'] = netflix_pd['date_added'].dt.year.astype('Int64')\n",
    "netflix_pd.head(1)"
   ],
   "id": "f25d34a73e88c8fd",
   "outputs": [
    {
     "data": {
      "text/plain": [
       "  show_id   type                 title         director cast        country  \\\n",
       "0      s1  Movie  Dick Johnson Is Dead  Kirsten Johnson  NaN  United States   \n",
       "\n",
       "  date_added  release_year rating duration      listed_in  \\\n",
       "0 2021-09-25          2020  PG-13   90 min  Documentaries   \n",
       "\n",
       "                                         description  date_added_year  \n",
       "0  As her father nears the end of his life, filmm...             2021  "
      ],
      "text/html": [
       "<div>\n",
       "<style scoped>\n",
       "    .dataframe tbody tr th:only-of-type {\n",
       "        vertical-align: middle;\n",
       "    }\n",
       "\n",
       "    .dataframe tbody tr th {\n",
       "        vertical-align: top;\n",
       "    }\n",
       "\n",
       "    .dataframe thead th {\n",
       "        text-align: right;\n",
       "    }\n",
       "</style>\n",
       "<table border=\"1\" class=\"dataframe\">\n",
       "  <thead>\n",
       "    <tr style=\"text-align: right;\">\n",
       "      <th></th>\n",
       "      <th>show_id</th>\n",
       "      <th>type</th>\n",
       "      <th>title</th>\n",
       "      <th>director</th>\n",
       "      <th>cast</th>\n",
       "      <th>country</th>\n",
       "      <th>date_added</th>\n",
       "      <th>release_year</th>\n",
       "      <th>rating</th>\n",
       "      <th>duration</th>\n",
       "      <th>listed_in</th>\n",
       "      <th>description</th>\n",
       "      <th>date_added_year</th>\n",
       "    </tr>\n",
       "  </thead>\n",
       "  <tbody>\n",
       "    <tr>\n",
       "      <th>0</th>\n",
       "      <td>s1</td>\n",
       "      <td>Movie</td>\n",
       "      <td>Dick Johnson Is Dead</td>\n",
       "      <td>Kirsten Johnson</td>\n",
       "      <td>NaN</td>\n",
       "      <td>United States</td>\n",
       "      <td>2021-09-25</td>\n",
       "      <td>2020</td>\n",
       "      <td>PG-13</td>\n",
       "      <td>90 min</td>\n",
       "      <td>Documentaries</td>\n",
       "      <td>As her father nears the end of his life, filmm...</td>\n",
       "      <td>2021</td>\n",
       "    </tr>\n",
       "  </tbody>\n",
       "</table>\n",
       "</div>"
      ]
     },
     "execution_count": 63,
     "metadata": {},
     "output_type": "execute_result"
    }
   ],
   "execution_count": 63
  },
  {
   "metadata": {
    "ExecuteTime": {
     "end_time": "2024-06-09T13:52:28.249511Z",
     "start_time": "2024-06-09T13:52:28.245608Z"
    }
   },
   "cell_type": "code",
   "source": [
    "# Passing as_index=False replace the requirement of calling reset_index\n",
    "titles_released_by_year = netflix_pd.groupby('date_added_year', as_index=False)['show_id'].count()\n",
    "titles_released_by_year.dtypes"
   ],
   "id": "7d20fe7b9142a493",
   "outputs": [
    {
     "data": {
      "text/plain": [
       "date_added_year    Int64\n",
       "show_id            int64\n",
       "dtype: object"
      ]
     },
     "execution_count": 131,
     "metadata": {},
     "output_type": "execute_result"
    }
   ],
   "execution_count": 131
  },
  {
   "metadata": {
    "ExecuteTime": {
     "end_time": "2024-06-09T12:47:46.174925Z",
     "start_time": "2024-06-09T12:47:46.168702Z"
    }
   },
   "cell_type": "code",
   "source": "netflix_pd[netflix_pd['date_added_year']==2012].head()",
   "id": "99113796783decd5",
   "outputs": [
    {
     "data": {
      "text/plain": [
       "     show_id   type                              title         director  \\\n",
       "5941   s5942  Movie  Being Elmo: A Puppeteer's Journey  Constance Marks   \n",
       "6425   s6426  Movie                   Casa de mi Padre    Matt Piedmont   \n",
       "7241   s7242  Movie             Kung Fu Panda: Holiday      Tim Johnson   \n",
       "\n",
       "                                                   cast  \\\n",
       "5941                       Kevin Clash, Whoopi Goldberg   \n",
       "6425  Will Ferrell, Gael García Bernal, Diego Luna, ...   \n",
       "7241  Jack Black, Angelina Jolie, Dustin Hoffman, Ja...   \n",
       "\n",
       "                    country date_added  release_year rating duration  \\\n",
       "5941          United States 2012-02-21          2011     PG   76 min   \n",
       "6425  United States, Mexico 2012-11-14          2012      R   84 min   \n",
       "7241          United States 2012-12-01          2010  TV-PG   26 min   \n",
       "\n",
       "                               listed_in  \\\n",
       "5941                       Documentaries   \n",
       "6425                            Comedies   \n",
       "7241  Children & Family Movies, Comedies   \n",
       "\n",
       "                                            description  date_added_year  \n",
       "5941  Whoopi Goldberg narrates Elmo creator Kevin Cl...             2012  \n",
       "6425  Will Ferrell stars as a Spanish-speaking cowbo...             2012  \n",
       "7241  As preparations for the Winter Feast build, Po...             2012  "
      ],
      "text/html": [
       "<div>\n",
       "<style scoped>\n",
       "    .dataframe tbody tr th:only-of-type {\n",
       "        vertical-align: middle;\n",
       "    }\n",
       "\n",
       "    .dataframe tbody tr th {\n",
       "        vertical-align: top;\n",
       "    }\n",
       "\n",
       "    .dataframe thead th {\n",
       "        text-align: right;\n",
       "    }\n",
       "</style>\n",
       "<table border=\"1\" class=\"dataframe\">\n",
       "  <thead>\n",
       "    <tr style=\"text-align: right;\">\n",
       "      <th></th>\n",
       "      <th>show_id</th>\n",
       "      <th>type</th>\n",
       "      <th>title</th>\n",
       "      <th>director</th>\n",
       "      <th>cast</th>\n",
       "      <th>country</th>\n",
       "      <th>date_added</th>\n",
       "      <th>release_year</th>\n",
       "      <th>rating</th>\n",
       "      <th>duration</th>\n",
       "      <th>listed_in</th>\n",
       "      <th>description</th>\n",
       "      <th>date_added_year</th>\n",
       "    </tr>\n",
       "  </thead>\n",
       "  <tbody>\n",
       "    <tr>\n",
       "      <th>5941</th>\n",
       "      <td>s5942</td>\n",
       "      <td>Movie</td>\n",
       "      <td>Being Elmo: A Puppeteer's Journey</td>\n",
       "      <td>Constance Marks</td>\n",
       "      <td>Kevin Clash, Whoopi Goldberg</td>\n",
       "      <td>United States</td>\n",
       "      <td>2012-02-21</td>\n",
       "      <td>2011</td>\n",
       "      <td>PG</td>\n",
       "      <td>76 min</td>\n",
       "      <td>Documentaries</td>\n",
       "      <td>Whoopi Goldberg narrates Elmo creator Kevin Cl...</td>\n",
       "      <td>2012</td>\n",
       "    </tr>\n",
       "    <tr>\n",
       "      <th>6425</th>\n",
       "      <td>s6426</td>\n",
       "      <td>Movie</td>\n",
       "      <td>Casa de mi Padre</td>\n",
       "      <td>Matt Piedmont</td>\n",
       "      <td>Will Ferrell, Gael García Bernal, Diego Luna, ...</td>\n",
       "      <td>United States, Mexico</td>\n",
       "      <td>2012-11-14</td>\n",
       "      <td>2012</td>\n",
       "      <td>R</td>\n",
       "      <td>84 min</td>\n",
       "      <td>Comedies</td>\n",
       "      <td>Will Ferrell stars as a Spanish-speaking cowbo...</td>\n",
       "      <td>2012</td>\n",
       "    </tr>\n",
       "    <tr>\n",
       "      <th>7241</th>\n",
       "      <td>s7242</td>\n",
       "      <td>Movie</td>\n",
       "      <td>Kung Fu Panda: Holiday</td>\n",
       "      <td>Tim Johnson</td>\n",
       "      <td>Jack Black, Angelina Jolie, Dustin Hoffman, Ja...</td>\n",
       "      <td>United States</td>\n",
       "      <td>2012-12-01</td>\n",
       "      <td>2010</td>\n",
       "      <td>TV-PG</td>\n",
       "      <td>26 min</td>\n",
       "      <td>Children &amp; Family Movies, Comedies</td>\n",
       "      <td>As preparations for the Winter Feast build, Po...</td>\n",
       "      <td>2012</td>\n",
       "    </tr>\n",
       "  </tbody>\n",
       "</table>\n",
       "</div>"
      ]
     },
     "execution_count": 65,
     "metadata": {},
     "output_type": "execute_result"
    }
   ],
   "execution_count": 65
  },
  {
   "metadata": {
    "ExecuteTime": {
     "end_time": "2024-06-09T13:33:09.670096Z",
     "start_time": "2024-06-09T13:33:09.577753Z"
    }
   },
   "cell_type": "code",
   "source": [
    "import matplotlib.pyplot as plt\n",
    "\n",
    "chart = titles_released_by_year[['show_id']].plot(kind='bar')\n",
    "\n",
    "plt.xlabel('Year')\n",
    "plt.ylabel('Titles Released')\n",
    "plt.title('Titles released by year')\n",
    "# plt.gca().invert_yaxis()\n",
    "\n",
    "for i, val in enumerate(titles_released_by_year['show_id']):\n",
    "    chart.text(i, val + 0.5, str(val), ha='center', va='bottom')\n",
    "    \n",
    "plt.show()"
   ],
   "id": "62a6e46a44400956",
   "outputs": [
    {
     "data": {
      "text/plain": [
       "<Figure size 640x480 with 1 Axes>"
      ],
      "image/png": "[encoded data removed]"
     },
     "metadata": {},
     "output_type": "display_data"
    }
   ],
   "execution_count": 117
  },
  {
   "metadata": {},
   "cell_type": "markdown",
   "source": "What is the accumulated average titles released over years?",
   "id": "f4daa7eaff1f0dd2"
  },
  {
   "metadata": {
    "ExecuteTime": {
     "end_time": "2024-06-09T14:30:56.585983Z",
     "start_time": "2024-06-09T14:30:56.492360Z"
    }
   },
   "cell_type": "code",
   "source": [
    "import matplotlib.pyplot as plt\n",
    "\n",
    "# Calculate the accumulated average\n",
    "titles_released_by_year['acc_average'] = titles_released_by_year['show_id'].cumsum() / (titles_released_by_year.index + 1)\n",
    "\n",
    "# Plot the results\n",
    "plt.plot(titles_released_by_year['date_added_year'], titles_released_by_year['acc_average'])\n",
    "plt.xlabel('Year')\n",
    "plt.ylabel('Cumulative Average')\n",
    "plt.title('Cumulative Average Over Time')\n",
    "plt.xticks(titles_released_by_year['date_added_year'].astype(int), rotation=90)\n",
    "plt.grid(True)\n",
    "\n",
    "for i, txt in enumerate(titles_released_by_year['acc_average']):\n",
    "    plt.text(titles_released_by_year['date_added_year'][i], titles_released_by_year['acc_average'][i], f'{txt:.2f}', ha='center', va='bottom')\n",
    "\n",
    "plt.show()"
   ],
   "id": "42fa636c145d9ea4",
   "outputs": [
    {
     "data": {
      "text/plain": [
       "<Figure size 640x480 with 1 Axes>"
      ],
      "image/png": "[encoded data removed]"
     },
     "metadata": {},
     "output_type": "display_data"
    }
   ],
   "execution_count": 178
  },
  {
   "metadata": {
    "ExecuteTime": {
     "end_time": "2024-06-09T14:05:01.791504Z",
     "start_time": "2024-06-09T14:05:01.786816Z"
    }
   },
   "cell_type": "code",
   "source": "titles_released_by_year.head()",
   "id": "8c97773dab7a5de7",
   "outputs": [
    {
     "data": {
      "text/plain": [
       "   date_added_year  show_id  acc_average\n",
       "0             2008        2     2.000000\n",
       "1             2009        2     2.000000\n",
       "2             2010        1     1.666667\n",
       "3             2011       13     4.500000\n",
       "4             2012        3     4.200000"
      ],
      "text/html": [
       "<div>\n",
       "<style scoped>\n",
       "    .dataframe tbody tr th:only-of-type {\n",
       "        vertical-align: middle;\n",
       "    }\n",
       "\n",
       "    .dataframe tbody tr th {\n",
       "        vertical-align: top;\n",
       "    }\n",
       "\n",
       "    .dataframe thead th {\n",
       "        text-align: right;\n",
       "    }\n",
       "</style>\n",
       "<table border=\"1\" class=\"dataframe\">\n",
       "  <thead>\n",
       "    <tr style=\"text-align: right;\">\n",
       "      <th></th>\n",
       "      <th>date_added_year</th>\n",
       "      <th>show_id</th>\n",
       "      <th>acc_average</th>\n",
       "    </tr>\n",
       "  </thead>\n",
       "  <tbody>\n",
       "    <tr>\n",
       "      <th>0</th>\n",
       "      <td>2008</td>\n",
       "      <td>2</td>\n",
       "      <td>2.000000</td>\n",
       "    </tr>\n",
       "    <tr>\n",
       "      <th>1</th>\n",
       "      <td>2009</td>\n",
       "      <td>2</td>\n",
       "      <td>2.000000</td>\n",
       "    </tr>\n",
       "    <tr>\n",
       "      <th>2</th>\n",
       "      <td>2010</td>\n",
       "      <td>1</td>\n",
       "      <td>1.666667</td>\n",
       "    </tr>\n",
       "    <tr>\n",
       "      <th>3</th>\n",
       "      <td>2011</td>\n",
       "      <td>13</td>\n",
       "      <td>4.500000</td>\n",
       "    </tr>\n",
       "    <tr>\n",
       "      <th>4</th>\n",
       "      <td>2012</td>\n",
       "      <td>3</td>\n",
       "      <td>4.200000</td>\n",
       "    </tr>\n",
       "  </tbody>\n",
       "</table>\n",
       "</div>"
      ]
     },
     "execution_count": 140,
     "metadata": {},
     "output_type": "execute_result"
    }
   ],
   "execution_count": 140
  }
 ],
 "metadata": {
  "kernelspec": {
   "display_name": "Python 3",
   "language": "python",
   "name": "python3"
  },
  "language_info": {
   "codemirror_mode": {
    "name": "ipython",
    "version": 2
   },
   "file_extension": ".py",
   "mimetype": "text/x-python",
   "name": "python",
   "nbconvert_exporter": "python",
   "pygments_lexer": "ipython2",
   "version": "2.7.6"
  }
 },
 "nbformat": 4,
 "nbformat_minor": 5
}
