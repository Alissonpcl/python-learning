{
 "cells": [
  {
   "metadata": {},
   "cell_type": "markdown",
   "source": [
    "In this notebook I consume Jira's REST API to extract issues. The process includes the follow ELT(L) process:\n",
    "- E - Extract issues from Jira\n",
    "- L - Save data to a JSON file\n",
    "- T - Transforms data keeping only the required fields\n",
    "- L - Store the transformed data into a new JSON file "
   ],
   "id": "d6a7f615726e6121"
  },
  {
   "metadata": {},
   "cell_type": "code",
   "source": [
    "import math\n",
    "import os\n",
    "from datetime import datetime as dt, timedelta\n",
    "from pathlib import Path\n",
    "\n",
    "import pyspark.sql.functions as f\n",
    "import requests\n",
    "from pyspark.errors.exceptions.captured import AnalysisException\n",
    "from pyspark.sql import SparkSession"
   ],
   "id": "5eabe0b974aaec3b",
   "outputs": [],
   "execution_count": null
  },
  {
   "metadata": {},
   "cell_type": "code",
   "source": "print(os.environ['jira_base64_auth_token'])",
   "id": "8e56f70eb4855d24",
   "outputs": [],
   "execution_count": null
  },
  {
   "metadata": {},
   "cell_type": "markdown",
   "source": "# EXTRACT + LOAD",
   "id": "ddd2dc02ffc80f66"
  },
  {
   "metadata": {},
   "cell_type": "code",
   "source": [
    "max_results_per_page = 100\n",
    "fields_to_return = (\"lastViewed,assignee,reporter,customfield_10710,issuetype,project,resolutiondate,customfield_10709,\"\n",
    "                    \"customfield_10016,updated,customfield_10015,summary,duedate,customfield_10590,customfield_10591,\"\n",
    "                    \"customfield_10588,customfield_10589,customfield_10469,priority,customfield_10578,status,creator,\"\n",
    "                    \"creator,created,parent,customfield_10344,customfield_10314,customfield_10311,customfield_10312,\"\n",
    "                    \"customfield_10273,customfield_10337,customfield_10572,customfield_10749,customfield_10750,\"\n",
    "                    \"customfield_10751,customfield_10748,customfield_10747\")\n",
    "# jql = \"created > '-3d' or updated > '-3d'\"\n",
    "jql = \"KEY IN (DAK-520, DAK-532, DAK-588, SDA-2854, SDA-2859, SD-15702, SDE-2544, SDC-677)\"\n",
    "\n",
    "total_pages = 1\n",
    "current_page = 0\n",
    "\n",
    "headers = {\n",
    "    'Accept': 'application/json',\n",
    "    'Authorization': os.environ['jira_base64_auth_token']\n",
    "}\n",
    "\n",
    "while current_page < total_pages:\n",
    "    start_at = current_page * max_results_per_page\n",
    "    url = (f\"https://company.atlassian.net/rest/api/3/search?expand=\"\n",
    "           f\"&maxResults={max_results_per_page}\"\n",
    "           f\"&fields={fields_to_return}\"\n",
    "           f\"&jql={jql}\"\n",
    "           f\"&startAt={start_at}\")\n",
    "\n",
    "    response = requests.request(\"GET\", url, headers=headers)\n",
    "\n",
    "    if response.status_code != 200:\n",
    "        raise Exception(f\"Erro na requisicao da API: {response.status_code} - {response.text}\")\n",
    "\n",
    "    # So precisamos calcular o maximo de paginas na primeira interacao\n",
    "    if current_page == 0:\n",
    "        json_response = response.json()\n",
    "        total_pages = math.ceil(json_response['total'] / max_results_per_page)\n",
    "\n",
    "    current_page += 1\n",
    "\n",
    "    response_text = response.text\n",
    "    file_path = f\"{Path().absolute()}/jira_issues_json_{current_page}.json\"\n",
    "\n",
    "    with open(file_path, 'w', encoding=\"utf-8\") as json_file:\n",
    "        json_file.write(response_text)\n",
    "\n",
    "    print(f\"Carregado pagina {current_page} de {total_pages}\")\n"
   ],
   "id": "aebcb57e6dcde0e4",
   "outputs": [],
   "execution_count": null
  },
  {
   "metadata": {},
   "cell_type": "code",
   "source": [
    "json_response = response.json()\n",
    "\n",
    "print(json_response['maxResults'])\n",
    "print(json_response['total'])"
   ],
   "id": "d9284f263598edf",
   "outputs": [],
   "execution_count": null
  },
  {
   "metadata": {},
   "cell_type": "markdown",
   "source": "# Transform ",
   "id": "3418dc81a0a8a675"
  },
  {
   "metadata": {},
   "cell_type": "code",
   "source": "spark = SparkSession.builder.appName(\"jira_extract_issues\").getOrCreate()",
   "id": "b3f7a4db7460ec5e",
   "outputs": [],
   "execution_count": null
  },
  {
   "metadata": {},
   "cell_type": "markdown",
   "source": "Create a new list of issues keeping only the required fields and renaming custom ones",
   "id": "dd548c44143e41a5"
  },
  {
   "metadata": {},
   "cell_type": "code",
   "source": [
    "from os import listdir\n",
    "from os.path import join\n",
    "\n",
    "file_path = f\"{Path().absolute()}\"\n",
    "# Como o arquivo com os dados tratados é salvo no mesmo\n",
    "# path precisamos tratar para nao importar esse arquivo\n",
    "# caso ele exista\n",
    "json_files = [f for f in listdir(file_path)\n",
    "              if f.endswith(\".json\")\n",
    "              and not f == \"jira_issues_json_transformed.json\"]\n",
    "\n",
    "json_files_list = []\n",
    "for file in json_files:\n",
    "    json_files_list.append(join(file_path, file))\n",
    "\n",
    "df = spark.read.json(json_files_list, multiLine=True)"
   ],
   "id": "55eca1110774b64c",
   "outputs": [],
   "execution_count": null
  },
  {
   "metadata": {},
   "cell_type": "code",
   "source": [
    "# df.printSchema()\n",
    "# df.show()\n",
    "df.count()"
   ],
   "id": "974b90a3eebae9c1",
   "outputs": [],
   "execution_count": null
  },
  {
   "metadata": {},
   "cell_type": "code",
   "source": "df_issues = df.select(\"issues\")",
   "id": "31c273977239722f",
   "outputs": [],
   "execution_count": null
  },
  {
   "metadata": {},
   "cell_type": "code",
   "source": [
    "# df_issues.show(truncate=False)\n",
    "# df_issues.printSchema()\n",
    "df_issues.count()"
   ],
   "id": "cd56b595745282a1",
   "outputs": [],
   "execution_count": null
  },
  {
   "metadata": {},
   "cell_type": "code",
   "source": [
    "df_issues_flat = df_issues.withColumn(\"issues_exploded\", f.explode(\"issues\")) \\\n",
    "    .drop(\"issues\")"
   ],
   "id": "aa1259735ec8ff9d",
   "outputs": [],
   "execution_count": null
  },
  {
   "metadata": {},
   "cell_type": "code",
   "source": [
    "df_issues_flat.printSchema()\n",
    "# df_issues_flat.show(truncate=False)\n",
    "# df_issues_flat.count()"
   ],
   "id": "a6b10503ed2b0ddb",
   "outputs": [],
   "execution_count": null
  },
  {
   "metadata": {},
   "cell_type": "code",
   "source": [
    "columns_to_keep = [\"issues_exploded.id\",\n",
    "                   \"issues_exploded.key\",\n",
    "                   f.col(\"issues_exploded.fields.parent.key\").alias(\"parent_key\"),\n",
    "                   f.col(\"issues_exploded.fields.lastViewed\").cast(\"timestamp\").alias(\"last_viewed\"),\n",
    "                   f.col(\"issues_exploded.fields.assignee.accountId\").alias(\"assignee_id\"),\n",
    "                   f.col(\"issues_exploded.fields.assignee.displayName\").alias(\"assignee_name\"),\n",
    "                   f.col(\"issues_exploded.fields.reporter.accountId\").alias(\"reporter_id\"),\n",
    "                   f.col(\"issues_exploded.fields.reporter.displayName\").alias(\"reporter_name\"),\n",
    "                   f.col(\"issues_exploded.fields.customfield_10710.value\").alias(\"pilar_de_atuacao\"),\n",
    "                   f.col(\"issues_exploded.fields.issuetype.name\").alias(\"issue_type\"),\n",
    "                   f.col(\"issues_exploded.fields.project.id\").alias(\"project_id\"),\n",
    "                   f.col(\"issues_exploded.fields.project.key\").alias(\"project_key\"),\n",
    "                   f.col(\"issues_exploded.fields.project.name\").alias(\"project_name\"),\n",
    "                   f.col(\"issues_exploded.fields.resolutiondate\").cast(\"timestamp\").alias(\"resolution_date\"),\n",
    "                   f.col(\"issues_exploded.fields.customfield_10709.value\").alias(\"time_solicitante\"),\n",
    "                   f.col(\"issues_exploded.fields.customfield_10016\").cast(\"int\").alias(\"story_point_estimate\"),\n",
    "                   f.col(\"issues_exploded.fields.updated\").cast(\"timestamp\").alias(\"updated\"),\n",
    "                   f.col(\"issues_exploded.fields.customfield_10015\").alias(\"start_date\"),\n",
    "                   f.col(\"issues_exploded.fields.summary\"),\n",
    "                   f.col(\"issues_exploded.fields.duedate\").cast(\"date\").alias(\"due_date\"),\n",
    "                   f.col(\"issues_exploded.fields.priority.name\").alias(\"priority\"),\n",
    "                   f.col(\"issues_exploded.fields.status.name\").alias(\"status\"),\n",
    "                   f.col(\"issues_exploded.fields.creator.accountId\").alias(\"creator_id\"),\n",
    "                   f.col(\"issues_exploded.fields.creator.displayName\").alias(\"creator_name\"),\n",
    "                   f.col(\"issues_exploded.fields.created\").cast(\"timestamp\").alias(\"created\"),\n",
    "\n",
    "                   f.col(\"issues_exploded.fields.customfield_10344.value\").getItem(0).alias(\"dentro_cobertura_testes\"),\n",
    "\n",
    "                   f.col(\"issues_exploded.fields.customfield_10314.value\").alias(\"stack\"),\n",
    "                   f.col(\"issues_exploded.fields.customfield_10311.value\").alias(\"funcionalidade\"),\n",
    "                   f.col(\"issues_exploded.fields.customfield_10312.value\").alias(\"origem\"),\n",
    "                   f.col(\"issues_exploded.fields.customfield_10273.value\").alias(\"criticidade\"),\n",
    "                   f.col(\"issues_exploded.fields.customfield_10337.value\").alias(\"severidade\"),\n",
    "                   f.col(\"issues_exploded.fields.customfield_10572.value\").alias(\"causa_do_problema\"),\n",
    "\n",
    "                   # De acordo com os ajustes realizados pelo Bernardo em Ag/2024 para manter\n",
    "                   # os campos padroes em todos os projetos do Jira foi necessario implementar \n",
    "                   # o tratamento de CAST abaixo, assim garantindo que as Issues terão os\n",
    "                   # dados preenchidos de acordo com o campo correto\n",
    "                   # Logica = Se o campo novo for preenchido entao usa o campos novo, senao o campo velho\n",
    "                   # To Release (Padrão) ou To Release\n",
    "                   f.coalesce(\"issues_exploded.fields.customfield_10750\",\n",
    "                              \"issues_exploded.fields.customfield_10590\").cast(\"date\").alias(\"to_release_date\"),\n",
    "                   # Blocked (Padrão) ou Blocked\n",
    "                   f.coalesce(\"issues_exploded.fields.customfield_10751\",\n",
    "                              \"issues_exploded.fields.customfield_10591\").cast(\"date\").alias(\"blocked_date\"),\n",
    "                   # In Progress (Padrão) ou In Progress\n",
    "                   f.coalesce(\"issues_exploded.fields.customfield_10748\",\n",
    "                              \"issues_exploded.fields.customfield_10588\").cast(\"date\").alias(\"in_progress_date\"),\n",
    "                   # Data da Solicitação (Padrão) ou Data da Solicitação\n",
    "                   f.coalesce(\"issues_exploded.fields.customfield_10747\",\n",
    "                              \"issues_exploded.fields.customfield_10578\").cast(\"date\").alias(\"data_da_solicitacao\"),\n",
    "                   # Review (Padrão) ou To Review\n",
    "                   f.coalesce(\"issues_exploded.fields.customfield_10749\",\n",
    "                              \"issues_exploded.fields.customfield_10589\").cast(\"date\").alias(\"to_review_date\"),\n",
    "\n",
    "                   ]\n",
    "\n",
    "try:\n",
    "    column_solicitantes_type = df_issues_flat.select(\"issues_exploded.fields.customfield_10469\").dtypes[0][1]\n",
    "\n",
    "    # Quando a coluna foi identificado com o tipo String e porque so possui valorez nulos\n",
    "    # ou esta ausente no retorno do Jira, neste caso apenas carregamos ela como Array<String>\n",
    "    if column_solicitantes_type != 'string':\n",
    "        columns_to_keep.append(f.col(\"issues_exploded.fields.customfield_10469.displayName\").alias(\"solicitantes\"))\n",
    "    else:\n",
    "        columns_to_keep.append(f.split(f.col(\"issues_exploded.fields.customfield_10469\"), \",\").alias(\"solicitantes\"))\n",
    "\n",
    "except AnalysisException as e:\n",
    "    # Se a coluna nao for encontrada silenciamos o erro pois não tem problema\n",
    "    # Significa que nenhuma task possui essa coluna e isso é normal\n",
    "    if not e.desc.startswith(\"[FIELD_NOT_FOUND]\"):\n",
    "        raise e\n",
    "\n",
    "df_issues_flat_clean = df_issues_flat.select(*columns_to_keep)"
   ],
   "id": "96d037625349953e",
   "outputs": [],
   "execution_count": null
  },
  {
   "metadata": {},
   "cell_type": "code",
   "source": [
    "df_issues_flat_clean.printSchema()\n",
    "# df_issues_flat_clean.show()"
   ],
   "id": "d9c59a9f6322bc06",
   "outputs": [],
   "execution_count": null
  },
  {
   "metadata": {},
   "cell_type": "code",
   "source": [
    "load_datetime = dt.strftime(dt.now() - timedelta(hours=3), '%Y-%m-%d %H:%M:%S')\n",
    "df_issues_flat_clean = df_issues_flat_clean.withColumn('load_datetime', f.to_timestamp(f.lit(load_datetime)))"
   ],
   "id": "22cd3a7b4a888632",
   "outputs": [],
   "execution_count": null
  },
  {
   "metadata": {},
   "cell_type": "code",
   "source": [
    "# df_issues_flat_clean.printSchema()\n",
    "df_issues_flat_clean.show()"
   ],
   "id": "ac9d26d5ca9e310b",
   "outputs": [],
   "execution_count": null
  },
  {
   "metadata": {},
   "cell_type": "markdown",
   "source": "# Load",
   "id": "cc7a0873cd1d0608"
  },
  {
   "metadata": {},
   "cell_type": "code",
   "source": [
    "output_path = f\"{Path().absolute()}/jira_issues_json_transformed.json\"\n",
    "json_array = df_issues_flat_clean.toJSON().collect()\n",
    "\n",
    "with open(output_path, 'w', encoding=\"utf-8\") as json_file:\n",
    "    json_file.writelines(json_array)"
   ],
   "id": "1e8cbd2a7a41201f",
   "outputs": [],
   "execution_count": null
  },
  {
   "metadata": {},
   "cell_type": "code",
   "source": [
    "file_path = (f\"/Volumes/landing/inc/\"\n",
    "             f\"last_sync.json\")"
   ],
   "id": "46810ea6ad8f36c4",
   "outputs": [],
   "execution_count": null
  }
 ],
 "metadata": {
  "kernelspec": {
   "display_name": "Python 3",
   "language": "python",
   "name": "python3"
  },
  "language_info": {
   "codemirror_mode": {
    "name": "ipython",
    "version": 2
   },
   "file_extension": ".py",
   "mimetype": "text/x-python",
   "name": "python",
   "nbconvert_exporter": "python",
   "pygments_lexer": "ipython2",
   "version": "2.7.6"
  }
 },
 "nbformat": 4,
 "nbformat_minor": 5
}
