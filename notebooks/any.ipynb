{
 "cells": [
  {
   "cell_type": "code",
   "id": "c01d7fbe",
   "metadata": {},
   "source": [
    "row_count = 1\n",
    "additional_info = f\"{{'row_count': {row_count}}}\"\n",
    "\n",
    "print(additional_info)"
   ],
   "outputs": [],
   "execution_count": null
  },
  {
   "cell_type": "code",
   "id": "7f8a22eb",
   "metadata": {},
   "source": [
    "try:\n",
    "    raise Exception('This is broken')\n",
    "except Exception as e:\n",
    "    additional_info = f'{{\"exception_message\": \"{e}\"}}'\n",
    "    print (additional_info)"
   ],
   "outputs": [],
   "execution_count": null
  },
  {
   "cell_type": "code",
   "id": "72880b6e",
   "metadata": {},
   "source": [
    "from datetime import timedelta, datetime\n",
    "\n",
    "def insert_logs_silently(dag_id: str,\n",
    "                         task_name: str,\n",
    "                         task_start_date: str,\n",
    "                         task_end_date: str,\n",
    "                         success: bool,\n",
    "                         additional_info: str = None,\n",
    "                         dadb_pg_conn_id: str = \"hsb_dadb_sbx\"):\n",
    "    \n",
    "    sql = (f\"INSERT INTO database.log_airflow_tasks\"\n",
    "           f\"(ID, DAG_ID, TASK_NAME, TASK_START_DATE, TASK_END_DATE, SUCCESS, ADDITIONAL_INFO)\"\n",
    "           f\"VALUES (1, '{dag_id}', '{task_name}', '{task_start_date}', '{task_end_date}', {success}, '{additional_info}'::jsonb)\")\n",
    "    print (sql)\n",
    "            \n",
    "        \n",
    "task_start_date = datetime.now().isoformat()\n",
    "\n",
    "insert_logs_silently(dag_id= \"nome_dag\",\n",
    "                      task_name= \"nome_task\",\n",
    "                      task_start_date= task_start_date,\n",
    "                      task_end_date= \"2024-05-01\",\n",
    "                      success= True,\n",
    "                      additional_info= '{\"exception_message\": \"This is broken\"}')   "
   ],
   "outputs": [],
   "execution_count": null
  },
  {
   "cell_type": "code",
   "id": "16dd9630",
   "metadata": {},
   "source": [
    "# Program to generate a random number between 0 and 9\n",
    "\n",
    "# importing the random module\n",
    "import random\n",
    "\n",
    "print(random.randint(1, 100000))"
   ],
   "outputs": [],
   "execution_count": null
  }
 ],
 "metadata": {
  "kernelspec": {
   "display_name": "Python 3 (ipykernel)",
   "language": "python",
   "name": "python3"
  },
  "language_info": {
   "codemirror_mode": {
    "name": "ipython",
    "version": 3
   },
   "file_extension": ".py",
   "mimetype": "text/x-python",
   "name": "python",
   "nbconvert_exporter": "python",
   "pygments_lexer": "ipython3",
   "version": "3.10.9"
  }
 },
 "nbformat": 4,
 "nbformat_minor": 5
}
