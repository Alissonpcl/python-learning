{
 "cells": [
  {
   "cell_type": "code",
   "metadata": {},
   "source": [
    "import requests\n",
    "\n",
    "# Defina sua chave de API do Pipedrive\n",
    "API_KEY = 'PREENCHER'\n",
    "\n",
    "# URL base da API do Pipedrive\n",
    "BASE_URL = 'https://api.pipedrive.com/v1'\n",
    "\n",
    "# Parâmetros da solicitação\n",
    "params = {\n",
    "    'api_token': API_KEY,\n",
    "    # Adicione outros parâmetros, se necessário\n",
    "}\n"
   ],
   "outputs": [],
   "execution_count": null
  },
  {
   "cell_type": "code",
   "metadata": {},
   "source": [
    "\n",
    "# Endpoint para listar todos os deals\n",
    "ENDPOINT_DEALS = '/deals?limit=1'\n",
    "\n",
    "# Fazendo a solicitação GET para obter todos os deals\n",
    "response = requests.get(BASE_URL + ENDPOINT_DEALS, params=params)\n",
    "\n",
    "# Verifique se a solicitação foi bem-sucedida\n",
    "if response.status_code == 200:\n",
    "    # Converta a resposta para JSON\n",
    "    deals_data = response.json()\n",
    "    \n",
    "    # Exemplo de como você pode processar os dados\n",
    "    for deal in deals_data['data']:\n",
    "        print(\"Deal ID:\", deal['id'])\n",
    "        print(\"Deal Title:\", deal['title'])\n",
    "        print(\"Deal Value:\", deal['value'])\n",
    "        print(\"------------------------------\")\n",
    "else:\n",
    "    print(\"Falha na solicitação:\", response.status_code)"
   ],
   "outputs": [],
   "execution_count": null
  },
  {
   "cell_type": "code",
   "metadata": {},
   "source": [
    "\n",
    "# Endpoint para listar todos os deals\n",
    "ENDPOINT_PIPELINE = '/pipelines/106/deals:(ba8520544e3f3fb8e8b8b5a6e42f475a3fc3a307)'\n",
    "\n",
    "# Fazendo a solicitação GET para obter todos os deals\n",
    "response = requests.get(BASE_URL + ENDPOINT_PIPELINE, params=params)\n",
    "\n",
    "# Verifique se a solicitação foi bem-sucedida\n",
    "if response.status_code == 200:\n",
    "    # Converta a resposta para JSON\n",
    "    deals_data = response.json()\n",
    "    \n",
    "    # Exemplo de como você pode processar os dados\n",
    "    for deal in deals_data['data']:\n",
    "        i_clinica = deal['ba8520544e3f3fb8e8b8b5a6e42f475a3fc3a307']\n",
    "        i_clinica = i_clinica.rsplit('/', 1)[-1]\n",
    "        print(f\"{i_clinica}\")\n",
    "else:\n",
    "    print(\"Falha na solicitação:\", response.status_code)"
   ],
   "outputs": [],
   "execution_count": null
  }
 ],
 "metadata": {
  "kernelspec": {
   "display_name": "base",
   "language": "python",
   "name": "python3"
  },
  "language_info": {
   "codemirror_mode": {
    "name": "ipython",
    "version": 3
   },
   "file_extension": ".py",
   "mimetype": "text/x-python",
   "name": "python",
   "nbconvert_exporter": "python",
   "pygments_lexer": "ipython3",
   "version": "3.10.9"
  }
 },
 "nbformat": 4,
 "nbformat_minor": 2
}
