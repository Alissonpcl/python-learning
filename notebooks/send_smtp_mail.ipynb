{
 "cells": [
  {
   "cell_type": "code",
   "id": "67c39657",
   "metadata": {},
   "source": [
    "import smtplib\n",
    "from email.mime.multipart import MIMEMultipart\n",
    "from email.mime.text import MIMEText\n",
    "\n",
    "def send_email(smtp_server, smtp_port, smtp_username, smtp_password, from_addr, to_addr, subject, body):\n",
    "    # Set up the SMTP server\n",
    "    server = smtplib.SMTP(host=smtp_server, port=smtp_port)\n",
    "    server.starttls()  # Enable security\n",
    "    server.login(smtp_username, smtp_password)\n",
    "\n",
    "    # Create a message\n",
    "    message = MIMEMultipart()\n",
    "    message['From'] = from_addr\n",
    "    message['To'] = to_addr\n",
    "    message['Subject'] = subject\n",
    "\n",
    "    # Add the body to the message\n",
    "    message.attach(MIMEText(body, 'plain'))\n",
    "\n",
    "    # Send the message\n",
    "    server.send_message(message)\n",
    "    \n",
    "    # Close the connection\n",
    "    server.quit()\n",
    "\n",
    "# Example usage\n",
    "send_email(\n",
    "    smtp_server='smtp.mandrillapp.com', \n",
    "    smtp_port=587, \n",
    "    smtp_username='username@domain.com', \n",
    "    smtp_password='smtp_pass', \n",
    "    from_addr='sender@domain.com', \n",
    "    to_addr='to@to_domain.com', \n",
    "    subject='Test Email', \n",
    "    body='This is a test email.'\n",
    ")"
   ],
   "outputs": [],
   "execution_count": null
  },
  {
   "cell_type": "code",
   "id": "cee7d71f",
   "metadata": {},
   "source": [],
   "outputs": [],
   "execution_count": null
  }
 ],
 "metadata": {
  "kernelspec": {
   "display_name": "Python 3 (ipykernel)",
   "language": "python",
   "name": "python3"
  },
  "language_info": {
   "codemirror_mode": {
    "name": "ipython",
    "version": 3
   },
   "file_extension": ".py",
   "mimetype": "text/x-python",
   "name": "python",
   "nbconvert_exporter": "python",
   "pygments_lexer": "ipython3",
   "version": "3.10.9"
  }
 },
 "nbformat": 4,
 "nbformat_minor": 5
}
